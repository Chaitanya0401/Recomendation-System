{
  "nbformat": 4,
  "nbformat_minor": 0,
  "metadata": {
    "colab": {
      "name": "Recomender-System.ipynb",
      "provenance": [],
      "collapsed_sections": []
    },
    "kernelspec": {
      "name": "python3",
      "display_name": "Python 3"
    },
    "language_info": {
      "name": "python"
    }
  },
  "cells": [
    {
      "cell_type": "markdown",
      "metadata": {
        "id": "Sck2kHoEUTpE"
      },
      "source": [
        "Importing Libraries"
      ]
    },
    {
      "cell_type": "code",
      "metadata": {
        "id": "ir0752fw0hEb"
      },
      "source": [
        "\n",
        "import pandas as pd\n",
        "import numpy as np\n",
        "from sklearn.metrics.pairwise import cosine_similarity\n",
        "from sklearn.feature_extraction.text import CountVectorizer "
      ],
      "execution_count": null,
      "outputs": []
    },
    {
      "cell_type": "markdown",
      "metadata": {
        "id": "nJxc26CuUaDZ"
      },
      "source": [
        "Uploading Dataset"
      ]
    },
    {
      "cell_type": "code",
      "metadata": {
        "colab": {
          "resources": {
            "http://localhost:8080/nbextensions/google.colab/files.js": {
              "data": "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",
              "ok": true,
              "headers": [
                [
                  "content-type",
                  "application/javascript"
                ]
              ],
              "status": 200,
              "status_text": ""
            }
          },
          "base_uri": "https://localhost:8080/",
          "height": 216
        },
        "id": "XvhYaP5419R1",
        "outputId": "01a2974b-8239-4310-b124-84ba9eff2f35"
      },
      "source": [
        "from google.colab import files\n",
        "files.upload()"
      ],
      "execution_count": null,
      "outputs": [
        {
          "output_type": "display_data",
          "data": {
            "text/html": [
              "\n",
              "     <input type=\"file\" id=\"files-0bdad6b5-81f6-45b2-aeaa-14916d50ec32\" name=\"files[]\" multiple disabled\n",
              "        style=\"border:none\" />\n",
              "     <output id=\"result-0bdad6b5-81f6-45b2-aeaa-14916d50ec32\">\n",
              "      Upload widget is only available when the cell has been executed in the\n",
              "      current browser session. Please rerun this cell to enable.\n",
              "      </output>\n",
              "      <script src=\"/nbextensions/google.colab/files.js\"></script> "
            ],
            "text/plain": [
              "<IPython.core.display.HTML object>"
            ]
          },
          "metadata": {
            "tags": []
          }
        },
        {
          "output_type": "stream",
          "text": [
            "Saving posts.csv to posts.csv\n",
            "Saving users.csv to users.csv\n",
            "Saving views.csv to views.csv\n"
          ],
          "name": "stdout"
        },
        {
          "output_type": "execute_result",
          "data": {
            "text/plain": [
              "{'posts.csv': b'_id,title,category, post_type\\n5d62abaa65218653a132c956,hello there,Plant Biotechnology,blog\\n5d6d39567fa40e1417a4931c,Ml and AI,Artificial Intelligence|Machine Learning|Information Technology,blog\\n5d7d23315720533e15c3b1ee,What is an Operating System ?,Operating Systems,blog\\n5d7d405e5720533e15c3b1f3,Lord Shiva,Drawings,artwork\\n5d80dfbc6c53455f896e600e,How Competition law evolved?,Competition Laws,blog\\n5d80e7c16c53455f896e6014,Raghavan Committee - 2002.,Competition Laws,blog\\n5d80ecfd6c53455f896e601a,Let\\'s discuss some Case laws!,Competition Laws,blog\\n5d81323a6c53455f896e6044,Forms of Cartel.,Competition Laws,blog\\n5d9b3514979d5962253c2f90,Biodiversity,Eco System,blog\\n5d9b950768671220a1b2b153,Economic policy,Economic Policies,blog\\n5da745b6019399436815c4cd,Corporate design,Graphic|Graphic Design,artwork\\n5dada695610ba040fbfdf585,Trident,Drawings,artwork\\n5dada734610ba040fbfdf588,Lord shiva,Drawings,artwork\\n5dada798610ba040fbfdf58b,Smart City,Painting,artwork\\n5dada82f610ba040fbfdf58e,Om Namah Shivaay,Pen and ink,artwork\\n5dada89b610ba040fbfdf591,Kid Bu,Drawings,artwork\\n5dadf6ae610ba040fbfdf5c8,MIS,Computer Technology|Information Technology,blog\\n5db2a7d099cbb90e4339c734,Portrait art,Drawings|Painting,artwork\\n5db2b91a99cbb90e4339c749,CLASSIFYING FORMS OF CARTELS,Competition Laws,blog\\n5dbc622a99cbb90e4339c7f6,Best friend,Graphic Design|Visual Arts|Illustration|Graphic,artwork\\n5dbc631f99cbb90e4339c7fd,Calligraphy,Drawings|Calligraphy,artwork\\n5dc065ca24b883670268772f,Colours of pushkar.,Photography,artwork\\n5dd1751db802e41ed198b680,Marital Rape - Rape is Rape,Empowerment,blog\\n5dde6a91369b28584ecca156,Spirituality,Photography,artwork\\n5ddeb6e80eb5e25a8a07f065,Library Managment System: Software Requirement Specification (SRS),,project\\n5de179d80eb5e25a8a07f079,Navigation system using BFS DFS algorithms,,project\\n5de7971b8eab6401affbb137,Shadow Sketch,Drawings,artwork\\n5de8d73249e8203ff9219a74,Promotional video.,Video editing,skill\\n5dea816a42a8854bf6eaba89,The Periodic Table,Inorganic Chemistry,blog\\n5dee9b5042a8854bf6eabaaf,Computer Aided Machine Drawing (CAMD),,project\\n5df64ad1cc709107827fb3dd,The Chosen,Drawings,artwork\\n5e04fb252a37d20505da2a2b,Python 3 Programming Introduction,Programming languages,blog\\n5e1029f22a37d20505da2a79,Chat App UI Desgin,Conceptual|Graphic Design,artwork\\n5e27002d2a37d20505da2c13,Workforce Diversity as a Challenge,HR Management,blog\\n5e281cf0025ae20886de2050,Spartan,Drawings,artwork\\n5e2867f6025ae20886de205a,Human Resource Management,Human Resources|HR Management,blog\\n5e294fd1c85ab714a7da6643,Personal growth,Mass Media|International Relations,blog\\n5e2d36ebc85ab714a7da66d1,CONTOURING CLAY,Sculptures|Artistic design,artwork\\n5e2d3fbfc85ab714a7da66d5,Multipurpose Jewel,Fashion Design|Ceramics|Artistic design,artwork\\n5e2d447dc85ab714a7da66d7,Traditional and Modern Sports,Craft|Artistic design,artwork\\n5e2d4737c85ab714a7da66d9,LGBT PRIDE,Fashion Design|Visual Arts|Conceptual|Artistic design,artwork\\n5e2d4d63c85ab714a7da66db,Magazine Cover Redefined,Photography|Fashion Design|Visual Arts|Graphic Design|Artistic design,artwork\\n5e2d516fc85ab714a7da66dd,\\'The Virtual ME\\',Fashion Design|Visual Arts|Graphic Design|Artistic design|Graphic|Illustration,artwork\\n5e2f1811c85ab714a7da670d,Abacus,Mathematics|Linear Algebra,blog\\n5e31a591c85ab714a7da6760,Will AI replace humans intellectual work?,Electronics & electrical Technology|Electrical Machines,blog\\n5e36746a8d344822fed4d147,ROMAN REIGNS,Drawings,artwork\\n5e3674c68d344822fed4d152,OM,Drawings,artwork\\n5e36763d8d344822fed4d15d,MK Swords,Drawings,artwork\\n5e36db70eab55d319938a6cc,HOW INTERNAL AUDIT WORKS,Auditing|Internal Audit,blog\\n5e36e7baeab55d319938a6d1,E-Commerce,E Commerce|E Transactions,blog\\n5e372ee2eab55d319938a6ed,SEO (Search Engine Optimization),Computer Technology|Computation,blog\\n5e37c087eab55d319938a700,IMPORTANCE OF INTERNAL FINANCIAL CONTROL,Auditing|Internal Financial Control,blog\\n5e37c301eab55d319938a701,Custom laws,Taxation|Custom Laws,blog\\n5e37c78aeab55d319938a703,WHY AUDIT EVIDENCE IS NECESSARY?,Auditing|Audit Evidence,blog\\n5e37ce10eab55d319938a710,GOODS & SERVICE TAX (GST),Taxation|GST,blog\\n5e37d08ceab55d319938a711,DIRECT TAX,Taxation|Direct Tax,blog\\n5e37d1afeab55d319938a712,SECRETARIAL AUDIT,Auditing|Secratarial Audit,blog\\n5e37d490eab55d319938a713,ROLE OF BANKING COMPANIES IN INDIA,Banking|Banking Companies,blog\\n5e37d699eab55d319938a71a,WHAT NEW TECHNOLOGY DOES BANKS ARE USING TODAY?,Banking|Banking Technology,blog\\n5e37d8c9eab55d319938a71e,AUDIT REMARK,Auditing|Audit Remark,blog\\n5e37d9eaeab55d319938a71f,WHY COST AUDIT IS IMPORTANT FOR A COMPANY,Auditing|Cost Audit,blog\\n5e37dc1aeab55d319938a720,WHAT IS STATUTORY AUDIT,Auditing|Statuary Audit,blog\\n5e3ab644eab55d319938a72d,Travelling,Photography,artwork\\n5e3c7293eab55d319938a74d,PHP,Computer Technology|Programming languages,blog\\n5e3e9cc0eab55d319938a79b,C#(.NET),Computer Technology|Programming languages,blog\\n5e3ea110eab55d319938a7a7,OS,,project\\n5e3fc856eab55d319938a7f2,BASIC STRUCTURE DOCTRINE,Legal Studies|Legal System,blog\\n5e3fc931eab55d319938a7f4,SPORTS LEGISLATIONS IN INDIA,Sports Coaching|Sports Law,blog\\n5e3fcb74eab55d319938a806,Economics Sociology,Economics|Economics Sociology,blog\\n5e3fcc56eab55d319938a808,Concept of Revenue,Economics|Revenue Concept,blog\\n5e3fcd38eab55d319938a81a,Human Rights and Duties,Human Rights|Rights and Duties,blog\\n5e3fce21eab55d319938a81c,Concept of Human Rights and Duties,Human Rights|Rights and Duties,blog\\n5e3fcfcdeab55d319938a81e,Sociology of Religion,Sociology|Sociology of Religion,blog\\n5e3fd10aeab55d319938a820,Sociology in India,Sociology|Sociology in India,blog\\n5e3fd290eab55d319938a822,International Politics,Political Science|International Politics,blog\\n5e3fd3bdeab55d319938a824,Colonialism in India,Political Science|Colonialism In India,blog\\n5e3fd57aeab55d319938a826,Labour law,Legal Studies|Labor Law,blog\\n5e41b98eeab55d319938a82d,PHP Variables,Computer Technology|Design and Analysis of Algorithms|Programming languages,blog\\n5e41bd7deab55d319938a839,Operators In PHP,Computer Technology|Computer Application|Programming languages|Information Technology,blog\\n5e431bf9eab55d319938a86a,Computer Graphics,Graphics|Computer Creation,blog\\n5e45ae70f5561b1994c8e320,Graphical Input Devices,Graphics|Computer Creation,blog\\n5e45b5c9f5561b1994c8e32d,EDI (Electronic data interchange),E Commerce|Other Online Platforms,blog\\n5e4a3cf6f5561b1994c8e378,Making of the Joker sketch,Drawing,skill\\n5e4af475f5561b1994c8e385,Lord shiva (Shadow Drawing),Drawings|Artistic design,artwork\\n5e4ba3a9f5561b1994c8e392,Hand Art,Drawings|Artistic design|Illustration,artwork\\n5e4ba8b2f5561b1994c8e39f,Hand art,Drawing,skill\\n5e4c28c5f5561b1994c8e3b0,E-Commerce - Business Models,E Commerce|Shopping Platform|Other Online Platforms,blog\\n5e4c2e65f5561b1994c8e3bd,E-Cash,E Commerce|E Transactions,blog\\n5e4c3873f5561b1994c8e3d9,Bill Calculation(PHP),,project\\n5e4c3c09f5561b1994c8e3e6,Stereoscopic and virtual-reality systems,Computer Technology|Hardware|Information Technology,blog\\n5e4c3d1df5561b1994c8e3f3,Raster graphics systems,Computer Technology|Computation|Computer Application,blog\\n5e4c435cf5561b1994c8e400,Printers,Computer Technology|Computation,blog\\n5e4d359cf5561b1994c8e424,Business skills,Business|Business Skills,blog\\n5e4da502f5561b1994c8e42c,Prime No.(PHP),,project\\n5e4da7c8f5561b1994c8e439,Factorial of a No.(PHP),,project\\n5e4dab15f5561b1994c8e446,Palindrome No.(PHP),,project\\n5e4ed85af5561b1994c8e470,Factorial (.net),,project\\n5e4ed8ccf5561b1994c8e47d,Leap year checking (.net),,project\\n5e4edd1bf5561b1994c8e48a,Delegates(.net),,project\\n5e4edd87f5561b1994c8e497,Overloading Method(.net),,project\\n5e4ef199f5561b1994c8e4a4,Mahakaal,Drawings,artwork\\n5e50141ed15de17a8cf1b912,Firewall,Computer Technology|Computer Application|Hardware|Information Technology,blog\\n5e501d55d15de17a8cf1b91f,DATA AND MESSAGE SECURITY,Computer Technology|Computer Application,blog\\n5e50207cd15de17a8cf1b92c,Mobile Computing Technology,Computer Technology|Mobile Applications,blog\\n5e5023f1d15de17a8cf1b939,Applications of mobile computing,Computer Technology|Computer Application,blog\\n5e502673d15de17a8cf1b946,Data Transmission Modes,Computer Technology|Computer Application|Operating Systems,blog\\n5e518c9fd701ab08af79299a,Topology & it\\'s types,Computer Technology|Information Technology|Computer Application,blog\\n5e5196b5d701ab08af7929a8,Baseband & Broadband,Computer Technology|Computer Application|Information Technology,blog\\n5e519e8fd701ab08af7929b5,Information System,Computer Technology|Information Technology|Computer Application,blog\\n5e51a2cfd701ab08af7929c2,Database management system(DBMS),Computer Technology|Computer Application|Information Technology,blog\\n5e51a46ad701ab08af7929cf,Ethernet,Computer Technology|Information Technology,blog\\n5e51a9e8d701ab08af7929dc,Mahakaal,Drawing,skill\\n5e52e1b0d701ab08af7929eb,Network Model,Computer Technology|Computer Application|Information Technology,blog\\n5e52e7abd701ab08af7929f8,Decision Making with 7 steps !!!,Computer Technology|Computer Application|Information Technology,blog\\n5e52f2b8d701ab08af792a05,Network & it\\'s types,Computer Technology|Computer Application|Information Technology,blog\\n5e52f911d701ab08af792a12,Communication,Communication|Basics of Communiaction,blog\\n5e52fd0ed701ab08af792a1f,Network Security Threats,Computer Technology|Computer Application,blog\\n5e5b561cd701ab08af792b8a,Morning nectar,Drawings,artwork\\n5e5b59bcd701ab08af792b8f,I am just hoping we\\'ll have cake by the ocean,Drawings,artwork\\n5e5b59cbd701ab08af792b90,The girl in the meadow,Drawings|Painting|Visual Arts|Graphic Design|Prints|Illustration,artwork\\n5e5b6320d701ab08af792b9d,Concept of Revenue,Economics|Revenue Concept,blog\\n5e5bb3eed701ab08af792bfa,The Nerd who was thrown out.,Drawings|Visual Arts|Painting|Graphic Design|Artistic design|Illustration,artwork\\n5e5bdf4fd701ab08af792bfd,Artificial Intelligence,Computer Technology|Artificial Intelligence,blog\\n5e5e3b35fbc8805f69e02c9e,Importance of Digital Marketing for Startups,Marketing|Advertising,blog\\n5e5e7e0afbc8805f69e02ca8,What is Effective Leadership In Politics,Political Science|Political Thought,blog\\n5e5e81e8fbc8805f69e02cab,Preparation and Presentation of Company Final Accounts,Accounting|Fundamental Of Accounting,blog\\n5e5facf649d7f322c033e02b,SERP Meta Checker | Check Your Meta Preview in SERP | Tools For Search Engine Optimization,Mixed Media,artwork\\n5e5fcd9a49d7f322c033e02f,Terrible Leadership And Its Influence In Companies,Management|Team Mangememnt,blog\\n5e65346c85ae350860168b53,What is Information technology?,Computer Technology|Information Technology,blog\\n5e6eff8aed32a005135d6bb8,Why Do Millennials Change Jobs?,Business|Corporate Social Responsibilities,blog\\n5e7082f91b24db0468e90cc5,Distracted? Unfocused? Used This Method To Avoid Distraction.,Philosophy|Applied Ethics,blog\\n5e7220891b24db0468e90ce2,5 Best Productivity Web Apps For Students.,Human Resources|Performance In Organization|Organizational Behaviour|HR Management,blog\\n5e7304761b24db0468e90ce7,Textile And Apparel Testing,Fashion Desigining|Fashion Textile|Fashion Manufacturing|Fashion Techniques|Garment Production|Garment Technology,blog\\n5e733f1c1b24db0468e90cf1,Benefits of Guest Posting to both Writers and Brand,Marketing|Promotion And Distribution Decisions,blog\\n5e767d501b24db0468e90d54,Gynecology,Biotechnology|Genetic Engineering,blog\\n5e7680361b24db0468e90d66,App Development,Computer Technology|Mobile Applications,blog\\n5e773c0bcfc8b713f5ac7ab7,Study of Nerves,Physiology|Neurology,blog\\n5e773c89cfc8b713f5ac7ac9,Corona: What it is; how to prevent it and its effect on us,Mass Media|Indian Government,blog\\n5e773e15cfc8b713f5ac7ad9,Skeletal System,Physiology|Osteology,blog\\n5e7743ebcfc8b713f5ac7aeb,Protect the Heart,Physiology|Cardiology,blog\\n5e776c1fcfc8b713f5ac7b23,What is Ecology?,Zoology|Ecology,blog\\n5e77738bcfc8b713f5ac7b36,Cloud Computing,Computer Technology|Cloud Computing,blog\\n5e778ffccfc8b713f5ac7b50,What is Radiology?,Physiology|Radiology,blog\\n5e77bdc2cfc8b713f5ac7be4,Operating System 1,Computer Technology|Operating Systems,blog\\n5e77c625cfc8b713f5ac7c0b,Molecular Biology,Biotechnology|Molecular Biology,blog\\n5e782cd9cfc8b713f5ac7c4f,\\xf0\\x9f\\x8d\\x89 Watermelon lemon cooler,Physiology|Gastroenterology|Cardiology,blog\\n5e783590cfc8b713f5ac7c5d,Quarantine days,Painting,artwork\\n5e7838bdcfc8b713f5ac7c99,Sad songs,Philosophy|Logic,blog\\n5e787636cfc8b713f5ac7cbe,Sunsets in Ottawa,Painting,artwork\\n5e78ae4ccfc8b713f5ac7cde,Sketch,Drawings,artwork\\n5e78c64acfc8b713f5ac7ce7,Best place in the world,Watercolours,artwork\\n5e78d6dccfc8b713f5ac7cf4,Childhood Sketch,Drawings|Watercolours,artwork\\n5e79b32ecfc8b713f5ac7d3f,The legend,Drawings,artwork\\n5e79b8becfc8b713f5ac7d45,The sorting hat,Drawings,artwork\\n5e79cf2acfc8b713f5ac7d4e,Truth\\xe2\\x9d\\xa4\\xf0\\x9f\\x92\\xaf,Mixed Media|Conceptual,artwork\\n5e79f3fccfc8b713f5ac7d54,The Enlightened Dreams,Drawings|Painting|Watercolours,artwork\\n5e7a0d85cfc8b713f5ac7d77,Gun store Logo.,Visual Arts,artwork\\n5e7a0fa1cfc8b713f5ac7d78,Breathe in quarantine!,Drawings|Calligraphy,artwork\\n5e7a5ebdcfc8b713f5ac7d7f,I won the Art.,Conceptual,artwork\\n5e7a5f5dcfc8b713f5ac7d80,Let\\'s Slide.,Pen and ink,artwork\\n5e7a605dcfc8b713f5ac7d81,21 day Lock down. Quarantine,Conceptual,artwork\\n5e7a60edcfc8b713f5ac7d82,Tea!,Drawings,artwork\\n5e7a614fcfc8b713f5ac7d83,You are late.,Drawings,artwork\\n5e7a629ccfc8b713f5ac7d84,3D composition.,Tapestry,artwork\\n5e7a633ecfc8b713f5ac7d85,Designs : where magic happens.,Calligraphy,artwork\\n5e7a63c2cfc8b713f5ac7d86,Fight: Against Corona virus,Drawings,artwork\\n5e7a7066cfc8b713f5ac7d88,How Does A Person\\'s Personal Development Affect His Business Leadership Ability?,Human Resources|Performance In Organization,blog\\n5e7b1e65cfc8b713f5ac7d90,Shiva Portrait,Drawings,artwork\\n5e7b8764cfc8b713f5ac7da2,Inside life,Drawings,artwork\\n5e7bd922cfc8b713f5ac7da9,What sports will look like in the future,Computer Technology|Robotics|Data Science|Information Technology|Artificial Intelligence,blog\\n5e7c78fdcfc8b713f5ac7daa,Types Of AI.,Computer Technology|Artificial Intelligence,blog\\n5e7c7a44cfc8b713f5ac7dac,Accounting As A Financial Institution.,Accounting|Fundamental Of Accounting,blog\\n5e7cc074cfc8b713f5ac7db0,REAL TALK,Philosophy|Public Philosophy,blog\\n5e7de250a3258347b42f210a,Top 10 big benefits of having a digital marketing career,Digital Marketing,skill\\n5e7de48ca3258347b42f2110,Painting,Drawings,artwork\\n5e7df068a3258347b42f2125,screw town,Photography,artwork\\n5e7df283a3258347b42f2128,screw2,Photography,artwork\\n5e7e66e7a3258347b42f213c,Netflix: As a Case Study,Mass Media|Videography,blog\\n5e7f39a3a3258347b42f2151,The Meenamma,Drawings|Painting|Visual Arts|Artistic design|Watercolours|Acrylics,artwork\\n5e7f3cf8a3258347b42f2154,Piglet,Drawings,artwork\\n5e7f4fb3a3258347b42f2156,100 Free University Courses Online [2020],Biotechnology|Plant Biotechnology,blog\\n5e80b40ea3258347b42f21a5,Will IPL happen this year,Sports Coaching|Sports Event,blog\\n5e80b4cca3258347b42f21a7,Is China lying about Corona,Political Science|Government and Politics,blog\\n5e8164f9a3258347b42f21bf,Is The Ozone Layer Healing Itself Because Of The World Lockdown.,Geography|Physical Geography,blog\\n5e816629a3258347b42f21c2,Employee Stock Option and Buyback Securities.,Marketing|Promotion And Distribution Decisions,blog\\n5e81a441a3258347b42f21d1,20 Best Data Science Certification & Courses for 2020,Computer Technology|Data Science,blog\\n5e81a4f2a3258347b42f21d3,7 Best Python Data Science Courses & Certification [2020],Computer Technology|Machine Learning,blog\\n5e81b47fa3258347b42f21d7,7 Steps To Stay Safe From Corona Virus,Mass Media|Indian Government,blog\\n5e81ba06a3258347b42f21ef,Managing Stress Amidst Corona,Mass Media|Indian Government,blog\\n5e81bc41a3258347b42f220a,How to Maintain Physical Distance: Physical Distance 101,Mass Media|Indian Government,blog\\n5e81be54a3258347b42f221d,Work From Home: Working Under Corona\\'s Effect,Mass Media|Indian Government,blog\\n5e81bf2fa3258347b42f2244,Disease Prevention,Graphic Design,artwork\\n5e81bf73a3258347b42f2257,Symptoms of Corona Virus,Visual Arts,artwork\\n5e81bfe5a3258347b42f226a,7 Steps To Prevent COVID-19,Visual Arts,artwork\\n5e81c06ba3258347b42f227d,Break The Chain: Stop The Spread,Visual Arts,artwork\\n5e81c0cba3258347b42f2290,Is there any vaccine of COVID-19?,Visual Arts,artwork\\n5e81c101a3258347b42f22a3,Corona\\'s Checklist,Visual Arts,artwork\\n5e81c15aa3258347b42f22b6,Handwashing 101,Visual Arts,artwork\\n5e81c1b7a3258347b42f22ca,Be kind during Corona,Visual Arts,artwork\\n5e81c1e6a3258347b42f22dd,Self Quarantine,Visual Arts,artwork\\n5e81c257a3258347b42f22f0,Mask: When to use it,Graphic Design|Visual Arts,artwork\\n5e81c29ea3258347b42f2303,Social Distancing,Visual Arts,artwork\\n5e822b4aa3258347b42f235f,How Soap Kills Corona Virus,Education,skill\\n5e823908a3258347b42f2368,Oliveres mediterr\\xc3\\xa0nies,Geography|Physical Geography,blog\\n5e82390ea3258347b42f2369,Oliveres mediterr\\xc3\\xa0nies,Geography|Physical Geography,blog\\n5e8307ada3258347b42f23ec,Aesthetic,Photography,artwork\\n5e8308c4a3258347b42f23ed,Quarantined,Photography,artwork\\n5e8309a9a3258347b42f23f2,Bloom\\xf0\\x9f\\x8c\\xb8,Photography,artwork\\n5e830a6ca3258347b42f23f6,Dog\\xe2\\x9d\\xa4\\xef\\xb8\\x8f,Photography,artwork\\n5e830dc8a3258347b42f23fb,Ways to Choose the Perfect Tour or Travel Agency/Company in Bhubaneswar,Business|Business Organisation,blog\\n5e8381cfa3258347b42f2428,What Can I Do to Keep Myself Safe From Coronavirus ?,Zoology|Environmental Biology,blog\\n5e8448aba3258347b42f2447,JUSTICE FOR NORTH EAST,Human Rights|Fundamental Rights,blog\\n5e84657da3258347b42f2452,Leap of faith,Photography,artwork\\n5e847970a3258347b42f245e,8 Free Data Science Courses & Tutorials [2020],Computer Technology|Design and Analysis of Algorithms,blog\\n5e84a6a3a3258347b42f246e,Must-Visit Hill Stations in Maharashtra,Business|Business Organisation,blog\\n5e85054fa3258347b42f24a0,How Artificial Intelligence tools Help You To Get Smart In Your Content Marketing,Marketing|Marketing Management,blog\\n5e866cffa3258347b42f24ef,What Is Amalgamation; Absorption and Reconstruction Of Companies?,Accounting|Partnership Accounting|Corporate Accounting|Accounting Theory And Practices,blog\\n5e8837fba3258347b42f255b,The silence that shouts,Photography,artwork\\n5e88383aa3258347b42f255c,The silence that shouts,Photography,artwork\\n5e88a3c0a3258347b42f2572,Top 10 things for someone with itchy feet to do during self-isolation,Business|Business Organisation,blog\\n5e88aa21a3258347b42f2575,A stone bridge on the full moon night,Watercolours,artwork\\n5e88aac5a3258347b42f2577,Night View Ha Penny Bridge in Dublin Ireland,Photography,artwork\\n5e895ceca3258347b42f25b6,What are Set Off and Carry Forward Losses,Legal Studies|Income Tax Laws,blog\\n5e895d87a3258347b42f25bb,Benefits Of A Virtual Portfolio.,Graphics|Articulation|Computer Creation,blog\\n5e897ab4a3258347b42f25ca,10 Best Artificial Intelligence (AI) Courses Online for 2020,Computer Technology|Machine Learning,blog\\n5e897f6ca3258347b42f25cd,5 Best Computer Networking Courses & Certification [2020],Computer Technology|Computer Application,blog\\n5e8bfa8aa3258347b42f2611,Are We Alone In The Universe?,Archeology|Human Prehistory,blog\\n5e8c2d01a3258347b42f2627,Even and Odd Numbers (PHP),,project\\n5e8c993da3258347b42f264d,Armstrong No.(C# .Net),,project\\n5e8cb88ea3258347b42f267e,Palindrome (C# .Net),,project\\n5e8cc876a3258347b42f26a3,Negative or Positive No. (PHP),,project\\n5e8ccfb5a3258347b42f26bc,Friend Number (C# .Net),,project\\n5e8d539ba3258347b42f26d8,BEING CREATIVE\\xe2\\x98\\xba\\xe2\\x98\\xba,Drawings,artwork\\n5e8e13dca3258347b42f26f2,How To Lead Your Startups After Facing Loses: Case Study,Business|Start Ups|Entreperneurship|Business Strategies|Venture Capitalist|Business Planning,blog\\n5e901b98a3258347b42f2708,Must-Visit Hill Stations in Maharashtra,Geography|Indian Geography,blog\\n5e901e9da3258347b42f2711,Advantages of Online Shopping Over Offline Shopping,Marketing|Advertising,blog\\n5e901f23a3258347b42f2725,Advantages of Online Shopping Over Offline Shopping,Marketing|Advertising,blog\\n5e90208ca3258347b42f2730,Benefits of Buying Grocery Online in Twin city of Odisha,E Commerce|Shopping Platform|Other Online Platforms|Digital India,blog\\n5e9028cea3258347b42f2736,How to Choose the Right Home Cleaning Service Provider,Business|Bio-entrepreneurship,blog\\n5e908602a3258347b42f275b,Creativity During Quarantine?,Literature|Stories,blog\\n5e91a2dda3258347b42f276d,\\xe0\\xa4\\x86\\xe0\\xa4\\xae\\xe0\\xa4\\x9a\\xe0\\xa5\\x80 \\xe0\\xa4\\xae\\xe0\\xa5\\x81\\xe0\\xa4\\x82\\xe0\\xa4\\xac\\xe0\\xa4\\xbe\\xe0\\xa4\\x88 !!!,History|Indian History,blog\\n5e936c67a3258347b42f27b6,RADiO JOCKEY,ViDEO,skill\\n5e940dd0a3258347b42f27f1,freeze,Photography,artwork\\n5e9415d2a3258347b42f27f8,SpaceX: As A Case Study,Management|Business Management,blog\\n5e941877a3258347b42f27fd,Bliss :),Photography,artwork\\n5e943363a3258347b42f2813,Sunset,Photography,artwork\\n5e9435f7a3258347b42f281a,Peaceful,Photography,artwork\\n5e94452ea3258347b42f282a,gripping,Visual Arts|Photography,artwork\\n5e947c4aa3258347b42f283e,IMPORTANCE OF MENTAL HEALTH,Social Work|Health Education,blog\\n5e947dcda3258347b42f2843,CYBER WORLD WAR,Social Work|Social Tech,blog\\n5e948155a3258347b42f2850,HOW TO PREPARE YOURSELF FOR A BETTER TOMORROW?,Social Work|Humanities,blog\\n5e94827ea3258347b42f2854,TOWER,Photography,artwork\\n5e9483b6a3258347b42f2860,PEACE,Photography,artwork\\n5e9486f6a3258347b42f287a,EYES,Photography,artwork\\n5e948786a3258347b42f287e,based on your imagination,Photography,artwork\\n5e9488c1a3258347b42f288a,CANON,Photography,artwork\\n5e9489e7a3258347b42f2896,THOUGHTFUL,Photography,artwork\\n5e948c4fa3258347b42f28a2,engrossed,Photography,artwork\\n5e948ce6a3258347b42f28aa,Hermit,Photography,artwork\\n5e948db2a3258347b42f28ae,innocence,Photography,artwork\\n5e948db6a3258347b42f28b2,peace,Photography,artwork\\n5e948e4ca3258347b42f28ba,trekking,Photography,artwork\\n5e948e97a3258347b42f28be,portraying goddess,Photography,artwork\\n5e948f05a3258347b42f28c2,aloof,Photography,artwork\\n5e948fb8a3258347b42f28c6,deep thoughts,Photography,artwork\\n5e948fdfa3258347b42f28ca,monument,Photography,artwork\\n5e9496b3a3258347b42f28d8,Bloom\\xf0\\x9f\\x8c\\xbc,Photography,artwork\\n5e94ae2fa3258347b42f28ee,Be thankful for every second of your life.,Philosophy|Logic,blog\\n5e94bc47a3258347b42f291d,Time,Drawings,artwork\\n5e94bf78a3258347b42f2925,Aesthetics,Photography|Visual Arts,artwork\\n5e94caeda3258347b42f2932,How Chartered Accountants See Entrepreneurship Trends,Accounting|Financial Accounting,blog\\n5e956e42a3258347b42f297f,The brother sister bond -  A personal touch\\xe2\\x99\\xa5\\xef\\xb8\\x8f,Literature|Stories,blog\\n5e95a06da3258347b42f29b4,Smile more often.,Psycholgy|Social Psychology,blog\\n5e95d427a3258347b42f29db,Doodles woodles!,Drawings,artwork\\n5e95dd30a3258347b42f29f5,You are one in a kind!,Photography|Conceptual,artwork\\n5e95e469a3258347b42f2a02,Indian Space Research Organisation; ISRO.,Physics|Instrumentation,blog\\n5e95ed0aa3258347b42f2a0e,Lovely explosion box!,Craft work,skill\\n5e95f087a3258347b42f2a16,HOW TO THINK DIFFERENTLY?,Social Work|Social Interventions|Substance Abuse,blog\\n5e95f13ba3258347b42f2a1b,INDIA 5 TRILLION ECONOMY,Economics|Indian Economy,blog\\n5e95f1a8a3258347b42f2a20,INDIA:- SAVIOR FROM CORONA,Social Work|Substance Abuse|Social Interventions|Humanities,blog\\n5e95f3a0a3258347b42f2a2c,REBEL?,Social Work|Social Interventions|Substance Abuse|Health Education,blog\\n5e95f44ba3258347b42f2a31,Stand alone and stand apart.,Social Work|Humanities|Social Interventions,blog\\n5e961830a3258347b42f2a4e,The Best Tools For Financial Analysis.,Finance|Financial Analysis,blog\\n5e964006a3258347b42f2a65,Interesting Facts On India That You Had No Idea About,History|Indian History,blog\\n5e964200a3258347b42f2a6d,silence,Photography,artwork\\n5e964254a3258347b42f2a75,upside down,Photography,artwork\\n5e964354a3258347b42f2a7d,Beauty,Architecture,artwork\\n5e964576a3258347b42f2a86,insect,Photography,artwork\\n5e96464da3258347b42f2a8e,filtered,Photography|Architecture|Painting,artwork\\n5e964bcea3258347b42f2a96,street art; Jaisalmer,Photography,skill\\n5e9651d5a3258347b42f2a9f,early mornings with Gang,Photography,artwork\\n5e966ad3a3258347b42f2aaf,8 Best Machine Learning Courses for 2020,Computer Technology|Cloud Computing|Artificial Intelligence|Information Technology|Programming languages,blog\\n5e966b74a3258347b42f2ab1,10 Best UI UX Design Course & Certification [2020],Computer Technology|Design and Analysis of Algorithms|Web designing|Database Management|Artificial Intelligence,blog\\n5e973a30a3258347b42f2ada,Sharing is caring!,Literature|Movements in Literature,blog\\n5e97542da3258347b42f2ae5,Love binds,Drawings,artwork\\n5e9754efa3258347b42f2ae8,No one\\'s worth hate\\xf0\\x9f\\xa7\\xa1,Drawings,artwork\\n5e976a64a3258347b42f2af1,Dark Matter,Physics|Atomic Physics|Energy Physics|Quantum Mecahnics|Instrumentation,blog\\n5e977f94a3258347b42f2af9,Aesthetics,Photography,artwork\\n5e978c7ca3258347b42f2b09,Theory Of Capital Structure.,Business|Business Strategies|Venture Capitalist,blog\\n5e979490a3258347b42f2b13,Vintage (JAISALMER IS A REAL BEAUTY AND SO IS RAJASTHAN.),Photography|Conceptual,artwork\\n5e979637a3258347b42f2b1e,Relaxing (Jaisalmer; Rajasthan),Photography|Architecture|Illustration,artwork\\n5e9796dba3258347b42f2b26,Filtered Busy Streets  (Jaisalmer; Raj.),Photography|Architecture,artwork\\n5e979786a3258347b42f2b2e,Lost?,Photography,artwork\\n5e9806f5a3258347b42f2b61,Formation Of Trade Union,Human Rights|Fundamental Rights|Protection & Enforcement,blog\\n5e980938a3258347b42f2b66,Light Pollution And How To Solve It.,Environment Studies|Pollution|Environmental Biology,blog\\n5e9895e8a3258347b42f2ba7,Q U I E T,Photography|Conceptual|Illustration,artwork\\n5e98c18fa3258347b42f2bc4,Disappearing,Photography,artwork\\n5e99b1c6a3258347b42f2bf2,Shivshakti,Drawings,artwork\\n5e99b786a3258347b42f2bfd,Alone,Painting,artwork\\n5e99c99fa3258347b42f2c05,Inside The Black Hole Image That Made History.,Physics|Quantum Mecahnics|Industrial Instrumentation|Atomic Physics|Nuclear & Particle Physics|Energy Physics,blog\\n5e9a7e73a3258347b42f2c24,Trust,Painting,artwork\\n5e9a8271a3258347b42f2c35,Near to nature,Painting,artwork\\n5e9a8437a3258347b42f2c38,Sign of peace,Painting,artwork\\n5e9aaeefa3258347b42f2c3f,What Can I Do to Keep Myself Safe From Coronavirus ?,Biotechnology|Environmental Biotechnology,blog\\n5e9ab176a3258347b42f2c4a,Birds Drawing,Painting,artwork\\n5e9b0274a3258347b42f2c60,Dreaming,Photography,artwork\\n5e9b0475a3258347b42f2c6b,Not too much to lose?,Photography,artwork\\n5e9b6b20a3258347b42f2c8d,RAJASTHAN; an absolute beauty.,Geography|Indian Geography,blog\\n5e9db770a3258347b42f2dcf,E s c a p e,Photography,skill\\n5e9e2760a3258347b42f2df7,Nature of Industrial Disputes.,Legal Studies|Alternate Dispute Resolution|International Treaties|International Agreement,blog\\n5e9eececa3258347b42f2e11,Innovative Marketing Strategies,Marketing|Principles Of Marketing|Marketing Research Methadology|Marketing Management|International Marketing,blog\\n5e9f3e1aa3258347b42f2e39,Goldfish,Painting,artwork\\n5e9f3f16a3258347b42f2e3c,Women: goddess,Drawings,artwork\\n5e9f3fd9a3258347b42f2e3f,Pride,Drawings|Painting,artwork\\n5e9f4045a3258347b42f2e42,Mythical,Painting,artwork\\n5e9f40b2a3258347b42f2e45,Light to fight,Photography,artwork\\n5e9f4155a3258347b42f2e48,Bloom to life,Photography,artwork\\n5e9f4215a3258347b42f2e4b,Colours of history,Photography,artwork\\n5e9f4295a3258347b42f2e4e,Rise and shine,Photography,artwork\\n5e9f439ba3258347b42f2e51,Blessings,Photography,artwork\\n5e9f4421a3258347b42f2e54,Handcrafted,Sculptures,artwork\\n5e9ff423a3258347b42f2e72,Importance Of Being Productive As A Teenager,Psycholgy|Child Development,blog\\n5ea029e9a3258347b42f2e85,How will the economy be affected if Nations produce what they eat?,Economics|Economic Policies|Break even Point|Foreign Economy,blog\\n5ea04678a3258347b42f2e8a,You know if you\\'ve been here.,Photography|Architecture,artwork\\n5ea047d5a3258347b42f2e96,Memory,Photography,artwork\\n5ea07ddba3258347b42f2eb6,CAPTURED.,Photography,artwork\\n5ea11fbd10426255a7aa9a38,Peace,Painting,artwork\\n5ea1603a10426255a7aa9a3e,You; are enough!,Psycholgy|Psychological Growth,blog\\n5ea1d7ac10426255a7aa9a66,Too much?,Photography,artwork\\n5ea1ef0710426255a7aa9a7e,Closeness to nature,Painting,artwork\\n5ea2e85b10426255a7aa9a8c,Blues,Photography,artwork\\n5ea30f6010426255a7aa9a9c,How To Use Social Media To Promote A Project,Management|Business Management|Technology Mangement|Managerial Activity|Creative And Lateral Management,blog\\n5ea319ee10426255a7aa9aa4,Tree Drawing,Drawings,artwork\\n5ea31e5610426255a7aa9ab0,Dusk sky.,Photography,artwork\\n5ea31ee710426255a7aa9ab3,Art,Painting,artwork\\n5ea31faf10426255a7aa9ab5,Aesthetic.,Photography,artwork\\n5ea3213010426255a7aa9abb,Miles to go before I sleep!,Photography,artwork\\n5ea321dd10426255a7aa9abd,Peace.,Photography,artwork\\n5ea3227010426255a7aa9ac1,Aesthetic.,Photography,artwork\\n5ea3236810426255a7aa9ac8,Solitude,Photography,artwork\\n5ea323a010426255a7aa9aca,Shree Jagannath Penting,Painting,artwork\\n5ea45fdf10426255a7aa9b34,Pleasant,Photography,artwork\\n5ea5aacd10426255a7aa9b71,Photography Composition,,project\\n5ea5ce9310426255a7aa9b8d,Photography,,project\\n5ea7cd9610426255a7aa9bd2,Guest Posting at Free of Cost,Business,skill\\n5ea80a7e10426255a7aa9be2,Analysis Of Successful Companies For the Past 5 years,Business|Business Strategies|Business Enviorment|New Venture Planning|Foreign Business|Business Organisation,blog\\n5ea85c1f10426255a7aa9c05,Innovative Marketing Strategies,Marketing|Principles Of Marketing|International Marketing|Promotion And Distribution Decisions,blog\\n5ea8618a10426255a7aa9c0d,Urdu Poetry,Social Work|NGO,blog\\n5eaaffe110426255a7aa9c5b,Covid 19 case before court of earth,Drawings,artwork\\n5eab002f10426255a7aa9c6c,Covid 19 case before court of earth,Drawings,artwork\\n5eab924610426255a7aa9c90,Two \\xf0\\x9f\\x90\\xa6 Sing A Song,Drawings,artwork\\n5eab942d10426255a7aa9ca7,Beautiful Bird,Painting,artwork\\n5eab962e10426255a7aa9cb8,Platform for Guest Posting,Mixed Media,artwork\\n5eabeec210426255a7aa9cd2,Factious news \\xe2\\x80\\x93 The impact on youth.,Social Work|Humanities,blog\\n5eabf76a10426255a7aa9cfb,Street Art Photo by Mathilde Decourcelle,Photography,artwork\\n5eabfaf510426255a7aa9da0,Eyes that speak. Photo by Dan Farrell,Photography,artwork\\n5eac305f10426255a7aa9dd3,She got a new hairstyle! Photo by Chirag,Photography,artwork\\n5eac315210426255a7aa9dfe,Street Art by Chirag.,Photography,artwork\\n5eac349010426255a7aa9e29,Shady eyes,Drawings,artwork\\n5eac350110426255a7aa9e92,Hello world,Fine Arts|Painting,blog\\n5eac578010426255a7aa9eba,Indian Polity And Governance.,Legal Studies|Legal System|Legal Tradition|Nationality Law|Government Law,blog\\n5eadc2f710426255a7aa9ee4,Entrepreneural Training: The roadless travel,Business|Entreperneurship|Venture Capitalist|Business Enviorment|Start Ups|Business Planning|New Venture Planning,blog\\n5eaed2f210426255a7aa9eef,Keen learner.,Photography,skill\\n5eaf322910426255a7aa9efa,Corporate Influence,Legal Studies|Company Law|Legal System|Banking Law,blog\\n5eaf3d4110426255a7aa9f4c,Students Networking!,,blog\\n5eaf4d4210426255a7aa9f76,6 Best + Free PLC Programming Training & Course [2020 UPDATED],Computer Technology|Web designing|Artificial Intelligence|Computer Application|Machine Learning|Frontend Development,blog\\n5eaf8b9310426255a7aa9f7e,Avengers Theme - Acoustic guitar,Music,skill\\n5eb0f27f10426255a7aa9fa2,Nerves,Painting,artwork\\n5eb1358910426255a7aa9fba,WOOD CARVING,Sculptures|Wood Crafts|Craft|Wood carving,artwork\\n5eb1373110426255a7aa9fc1,TIE AND DYE,Fashion Design,artwork\\n5eb13a3610426255a7aa9fc5,GLASS PAINTING,Painting|Craft|Artistic design,artwork\\n5eb13e2a10426255a7aa9fcf,PENCIL RENDERING,Drawings,artwork\\n5eb13ee710426255a7aa9fd3,PENCIL RENDERING,Drawings,artwork\\n5eb1407c10426255a7aa9fdb,PENCIL RENDERING,Drawings,artwork\\n5eb1478a10426255a7aa9feb,STRIPS (TINT;TONE AND SHADE),2D Composition|Watercolours|Painting,artwork\\n5eb1485410426255a7aa9fef,TINT; TONE AND SHADE OF RED,Painting|Watercolours|2D Composition,artwork\\n5eb1490610426255a7aa9ff4,CHECKS (TINT;TONE AND SHADE),Painting|Watercolours|2D Composition,artwork\\n5eb153ca10426255a7aa9fff,PRINCIPLES OF DESIGN ( CONTRAST),Visual Arts|Craft|Conceptual,artwork\\n5eb1551e10426255a7aaa003,PRINCIPLES OF DESIGN (BALANCE),Painting|Visual Arts|Craft|Conceptual,artwork\\n5eb1569910426255a7aaa007,PRINCIPLES OF DESIGN (CONTRAST),Painting|Craft|Mixed Media|2D Composition,artwork\\n5eb158d410426255a7aaa011,MOSAIC ART,Visual Arts|Craft|Mixed Media|Conceptual|Mosaic painting,artwork\\n5eb159a610426255a7aaa015,PRINCIPLES OF DESIGN (RHYTHM),Craft|Drawings|Conceptual|2D Composition,artwork\\n5eb15a9810426255a7aaa019,MOSAIC ART,Craft|Mixed Media|Conceptual|Mosaic painting|2D Composition,artwork\\n5eb1ac4510426255a7aaa024,E-book,Video,skill\\n5eb1df6d10426255a7aaa029,Novel & Consenent (P.H.P),,project\\n5eb2c11210426255a7aaa052,Gangster Style,Drawings,artwork\\n5eb2cbde10426255a7aaa074,WisdomLeaf,Photography,artwork\\n5eb2ce0c10426255a7aaa078,Thor Arriving,Photography,artwork\\n5eb45ca210426255a7aaa0b5,STILL,Photography|Architecture,artwork\\n5eb4f80810426255a7aaa0ce,Shree Ganesh Drawing,Drawings,artwork\\n5eb4fab110426255a7aaa0ed,God Drawing,Drawings,artwork\\n5eb4fbe910426255a7aaa105,God,Drawings,artwork\\n5eb6db91fd92f539c465dd71,Wildlife Creation.,Photography,artwork\\n5eb6dc4cfd92f539c465dd77,Swift Alone!,Photography,artwork\\n5eb6dd5afd92f539c465dd7d,Nature,Photography,artwork\\n5eb6de2dfd92f539c465dd83,Pebbles or Rocks \\xf0\\x9f\\x99\\x84,Photography,artwork\\n5eb6df2dfd92f539c465dd89,Sea Shore,Photography,artwork\\n5eb6e04ffd92f539c465dd8f,Camel Shades,Photography,artwork\\n5eb7b10ffd92f539c465ddda,The Tree,Photography,artwork\\n5eba2dd3514aab59896bcc57,Blur but beautiful <3,Photography,artwork\\n5eba2e94514aab59896bcc5a,Sky never disappoints me!,Photography,artwork\\n5ebc3239514aab59896bcc86,The Basic Edge of Design.,Fashion Desigining|Fashion Illustration|Pattern Cutting|Fashion Communication,blog\\n5ebcf6ea514aab59896bcd09,5 points to consider while choosing a pathology lab,Biotechnology|Animal Biotechnology,blog\\n5ebd1111514aab59896bcd1c,The 7 Steps of Doing A Professional Design Task.,Fashion Desigining|Pattern & Culture|Fashion Trends|Fashion Portfoilio,blog\\n5ebd5b46514aab59896bcd5a,Quick Sketch of Gangster Skull.,Sketch Video,skill\\n5ec1fd0974f7660d73aa0fd5,Daaku,Drawings,artwork\\n5ec2215374f7660d73aa1011,Women power,Painting,artwork\\n5ec278b574f7660d73aa10d5,Rides,Drawings,artwork\\n5ec2b27974f7660d73aa1115,Importance of Design.,Fashion Desigining|Pattern & Culture|Fashion Textile|Fashion Trends,blog\\n5ec2d29074f7660d73aa113b,New platform,Test,skill\\n5ec2e16074f7660d73aa1154,Become professional,Professionalism,skill\\n5ec2f7c074f7660d73aa116e,Making of Daaku Art,Art,skill\\n5ec3667274f7660d73aa1194,Ganesha,Drawings,artwork\\n5ec3676574f7660d73aa119a,Kabir singh,Drawings,artwork\\n5ec3bc1a74f7660d73aa1207,The Making of Daaku,Art,skill\\n5ec3c09274f7660d73aa1229,Dakrai Artwork.,Pen and ink,artwork\\n5ec54fc9f2781131cc7e50f5,Future Communication Predictions,Science;Technology,skill\\n5ec5546bf2781131cc7e5140,Glitch.,Painting,artwork\\n5ec573a3f2781131cc7e51b8,My First Animated Post.,Art; Science,skill\\n5ec57914f2781131cc7e51c8,The Power of Indian Audience.,Art,skill\\n5ec57acaf2781131cc7e51d5,Ruins.,Painting,artwork\\n5ec601a0f2781131cc7e522e,Form of ma durga,Drawings,artwork\\n5ec7a699ec493f4a2655883a,HUMAN ILLUSTRATION (With Galaxy Background),Fashion Design|Illustration|Watercolours|Drawings,artwork\\n5ec7a7a3ec493f4a26558840,HUMAN ILLUSTRATION ( Background of a room),Drawings|Fashion Design|Illustration|Watercolours,artwork\\n5ec7a8bdec493f4a26558846,HUMAN ILLUSTRATION,Drawings|Fashion Design|Illustration|Watercolours,artwork\\n5ec7aafbec493f4a26558857,FASHION ILLUSTRATION,Fashion Design|Illustration|Watercolours,artwork\\n5ec7abfdec493f4a26558860,FASHION ILLUSTRATION (OP ART),Drawings|Fashion Design|Mixed Media|Conceptual|Illustration|Pen and ink|Watercolours,artwork\\n5ec7ad1aec493f4a26558869,FASHION ILLUSTRATION (street fashion),Fashion Design|Illustration|Conceptual|Watercolours|Pen and ink,artwork\\n5ec8204cec493f4a26558893,Art Expo 2020,Artistic design|Logo Design|Graphic|Illustration,artwork\\n5ec821ddec493f4a2655889e,Save Earth.,Visual Arts|Graphic Design|Artistic design|Graphic|Illustration,artwork\\n5eca6ddbec493f4a26558a46,Always Remember !!!,Learning,skill\\n5eca7601ec493f4a26558a62,Always do Right \\xf0\\x9f\\x91\\x8d\\xf0\\x9f\\x8f\\xbb,Learning,skill\\n5eca8fceeaff6b0c3a58a3c0,Zero-Waste Lifestyle,,project\\n5ecb6edeeaff6b0c3a58a479,Happy Eid-ul-Fitr 2020,Photography|Architecture,artwork\\n5ecb7155eaff6b0c3a58a486,Eid Mubarak,Photography|Architecture|Visual Arts|Graphic Design,artwork\\n5ecb72c0eaff6b0c3a58a48e,EID MUBARAK,Photography|Architecture|Visual Arts|Graphic Design|Artistic design|Graphic|Logo Design,artwork\\n5ecb7567eaff6b0c3a58a4cf,Design Process,Visual Arts|Graphic Design|2D Composition|Logo Design,artwork\\n5ecc186aeaff6b0c3a58a53f,Beliefs \\xe2\\x9d\\xa3\\xef\\xb8\\x8f,Visual Arts|Photography,artwork\\n5ecc1d4eeaff6b0c3a58a565,Faith in yourself,Photography,artwork\\n5ecce8a5eaff6b0c3a58a5e9,The Waves Have Stood Still,Photography,artwork\\n5ecd5d417023451e662235c5,Machine Learning\\xe2\\x80\\x9d&\\xe2\\x80\\x9cOperations\" (MlOps),Computer Technology|Machine Learning,blog\\n5ecd6ba47023451e66223604,Be yourself !!,Photography,artwork\\n5ecdecc67023451e66223765,Looking at nature through nature,Photography,artwork\\n5ecf23b87023451e66223944,Keep working hard !!,Photography,artwork\\n5ecf818376027d35905cbf03,GAN\\'s INTRODUCTION,Computer Technology|Machine Learning,blog\\n5ecf96e876027d35905cbf46,GAN\\'s Part(2),Computer Technology|Machine Learning,blog\\n5ecfa0ca76027d35905cbf57,Recommend Systems Machine Learning,Computer Technology|Machine Learning,blog\\n5ecfafcc76027d35905cbfb0,I was rejected over 200 times before I landed my first job,Sociology|Sociology in India,blog\\n5ecfb35c76027d35905cbfbc,We can overcome these days!,Painting,artwork\\n5ecfffb976027d35905cc0e9,Xbox Series X To Launch With \\'Thousands\\' of Games,Mixed Media,artwork\\n5ed0007a76027d35905cc0ea,A solar-powered microbrewery has design-led energy in Sweden,Artistic design,artwork\\n5ed09ad076027d35905cc15f,Understanding Cloud Computing(AWS),Computer Technology|Cloud Computing,blog\\n5ed0e20776027d35905cc2fe,Here are 7 of my favourite books that I\\'ve read so far this year!\\xe2\\xa0\\x80,Literature|Stories|Fictions|Movements in Literature,blog\\n5ed0e31a76027d35905cc302,Designing Cmos circuit from Boolean expressions (Microwind),,project\\n5ed0e65976027d35905cc356,Moore FSM Sequence Detector,,project\\n5ed0f0c576027d35905cc3c7,Designing Circular Microstrip Antenna,,project\\n5ed13d2876027d35905cc4c2,Launching an EC2 instance.,Technology,skill\\n5ed141aa76027d35905cc4c9,Integrating Machine Learning with devOps(MLops),Computer Technology|Data Science,blog\\n5ed175f176027d35905cc554,GAN\\'s Introduction,,project\\n5ed175f476027d35905cc562,GAN\\'s Introduction,,project\\n5ed1ff0276027d35905cc60d,AWS services and how to launch OS on AWS Cloud,Computer Technology|Cloud Computing,blog\\n5ed229d976027d35905cc666,Cloud Computing,Computer Technology|Computation|Computer Application|Cloud Computing,blog\\n5ed2378276027d35905cc6b5,Acceptance!,Visual Arts|Calligraphy|Pen and ink,artwork\\n5ed237d676027d35905cc6bd,Voice of intuition!,Mixed Media|Calligraphy|Pen and ink,artwork\\n5ed2383776027d35905cc6ca,Self belief.,Typography|Pen and ink,artwork\\n5ed238d376027d35905cc6e5,Your reaction can change your destination.,Typography|Pen and ink,artwork\\n5ed23a6376027d35905cc73b,If you\\'re in hell; don\\'t stop. Keep moving!,Typography|Pen and ink,artwork\\n5ed23b0776027d35905cc746,Talented people.,Typography|Pen and ink,artwork\\n5ed23b6276027d35905cc74f,Moments in life,Typography|Calligraphy|Pen and ink,artwork\\n5ed23bb876027d35905cc759,Habit.,Calligraphy|Typography|Pen and ink,artwork\\n5ed23c1876027d35905cc761,Lie!,Typography|Pen and ink,artwork\\n5ed23c8676027d35905cc780,Change.,Calligraphy|Pen and ink,artwork\\n5ed23cb876027d35905cc788,Fear.,Typography|Calligraphy|Pen and ink,artwork\\n5ed23cf876027d35905cc790,Risk,Calligraphy|Typography|Pen and ink,artwork\\n5ed23d4276027d35905cc798,Energy.,Calligraphy|Typography|Pen and ink,artwork\\n5ed23e4d76027d35905cc7b8,Success Story Of OYO Founder Ritesh Agarwal,Mass Media|Media And Society,blog\\n5ed2502b76027d35905cc7db,Learning...,Computer Technology|Machine Learning,blog\\n5ed3476576027d35905cca1d,AWS CLI Setup in Mac,Technology,skill\\n5ed3791976027d35905ccab6,CI/CD using GitHub Actions,Computer Technology|Information Technology,blog\\n5ed3820f76027d35905ccac8,Configure Docker with Django; PostgreSQL; Pg-admin & Elasticsearch,Computer Technology|Computer Application|Information Technology,blog\\n5ed3ef4cbd514d602c1530f2,Recommendation Engine,,project\\n5ed415c6bd514d602c15312d,Face Recognition using Transfer Learning.,Science; Technology,skill\\n5ed4cbadbd514d602c1531a6,Configure CI/CD Pipeline in GitLab and deployment to server via SSH,Computer Technology|Computer Application|Information Technology,blog\\n',\n",
              " 'users.csv': b'_id,name,gender,academics\\n5d60098a653a331687083238,Nivesh Singh Chauhan,male,undergraduate\\n5d610ae1653a331687083239,Gaurav Sharma,male,graduate\\n5d618359fc5fcf3bdd9a0910,Akshay Mishra,male,undergraduate\\n5d6d2bb87fa40e1417a49315,Saksham Mathur,male,undergraduate\\n5d7c994d5720533e15c3b1e9,Varun Chowhan,male,undergraduate\\n5d90fc1a641ef364939fb6cc,Boshi Kaviya,female,graduate\\n5d9a2982979d5962253c2f81,Nischaya Sharma,male,undergraduate\\n5de50d768eab6401affbb135,thesocialcomment,male,graduate\\n5ded443342a8854bf6eaba9a,MAAZ AHMAD RABBANI,male,undergraduate\\n5deeef6142a8854bf6eabab9,siddharth saxena,male,undergraduate\\n5defd51362624b0135ea9fd2,BHASKAR MISHRA,male,undergraduate\\n5df11ee1ee4bb5252b4f5344,hritik chaturvedi,male,undergraduate\\n5df20f1fee4bb5252b4f5351,Aryan Malakar,male,undergraduate\\n5df24eeaee4bb5252b4f5366,Parvez Khan,male,undergraduate\\n5df3f8f2ee4bb5252b4f5393,Angelina Christi,female,undergraduate\\n5df49b32cc709107827fb3c7,Niriksha Sharma,female,undergraduate\\n5e0d5ce12a37d20505da2a5d,Nimish Sharma,male,undergraduate\\n5e1ef04c2a37d20505da2b8b,Rashi Jain,female,undergraduate\\n5e26bb482a37d20505da2c10,Nachiket Khatri,male,undergraduate\\n5e3563348d344822fed4d13a,Ojasvi Arya,male,undergraduate\\n5e35a5ed8d344822fed4d13e,Sneha Shekhawat,female,graduate\\n5e365e758d344822fed4d144,Nikhil Sharma,male,graduate\\n5e37b16ceab55d319938a6f8,Utkarsh Saini,male,graduate\\n5e4195c3eab55d319938a82c,Arunav Moitra,male,graduate\\n5e4ce251f5561b1994c8e40d,Tarini Prasad Ray,male,graduate\\n5e5855ced701ab08af792b51,Isis Amador,female,undergraduate\\n5e5af599d701ab08af792b63,Ilupeju Ayokunnumi,female,graduate\\n5e5b4511d701ab08af792b6d,Aanjan Prasath G,male,undergraduate\\n5e5dfbbefbc8805f69e02c91,Prakasika.m.p,female,undergraduate\\n5e783375cfc8b713f5ac7c5b,Bhargav Prakash,male,undergraduate\\n5e78ce84cfc8b713f5ac7cee,Fauziya Shaikh,female,undergraduate\\n5e7b30a6cfc8b713f5ac7d95,P. Gayatri,female,undergraduate\\n5e7cf05bcfc8b713f5ac7db7,Muskan Assudani,female,undergraduate\\n5e7dde87a3258347b42f2108,WAEL Onsy,male,graduate\\n5e7de336a3258347b42f210e,Suman Ray,female,graduate\\n5e7def80a3258347b42f2124,Massimo Puppo,male,undergraduate\\n5e7f4ad1a3258347b42f2155,KSHITIJ ANAND,male,undergraduate\\n5e822b86a3258347b42f2360,Rossend Bon\\xc3\\xa0s MIr\\xc3\\xb3,male,graduate\\n5e8309c4a3258347b42f23f4,Lipika Moharana,female,graduate\\n5e840a75a3258347b42f2437,Vipul S Redey,male,graduate\\n5e8437f6a3258347b42f243d,Shivani Gaba,female,graduate\\n5e8447a7a3258347b42f2446,Udita Somani,female,undergraduate\\n5e845fbaa3258347b42f2450,Shriya Kataria,female,undergraduate\\n5e880f02a3258347b42f252c,Keshant Sharma,male,graduate\\n5e88156ca3258347b42f2542,Harshita,female,undergraduate\\n5e899be7a3258347b42f25d0,Srinidhi A,female,undergraduate\\n5e8cbd92a3258347b42f2699,Ayush sharma,male,graduate\\n5e901d01a3258347b42f270f,Soumya Kumar,male,graduate\\n5e902793a3258347b42f2733,Arup,male,graduate\\n5e92e380a3258347b42f278c,SHUBHAM KUMAR,male,undergraduate\\n5e93471ea3258347b42f279f,Smriti,female,undergraduate\\n5e93d7d5a3258347b42f27e4,Nihal Singh Shekhawat,male,graduate\\n5e941316a3258347b42f27f4,Akshra Mathur,female,undergraduate\\n5e94248aa3258347b42f2804,Aleena Francis,female,undergraduate\\n5e942f7ba3258347b42f280e,Aayushree Khokhar,female,undergraduate\\n5e954e9aa3258347b42f295a,Sumit Gangwani,male,undergraduate\\n5e958e73a3258347b42f29a1,Pratishtha Bhelonde,female,undergraduate\\n5e9595dba3258347b42f29aa,Neha Malik,female,graduate\\n5e95a2d8a3258347b42f29bd,Abhinav Mishra,male,undergraduate\\n5e95da1aa3258347b42f29e6,Varsha,female,graduate\\n5e97ef3ea3258347b42f2b47,Elbassraoui Yassine,male,graduate\\n5e9828f2a3258347b42f2b71,Shraddha Handa,female,undergraduate\\n5e99b0d4a3258347b42f2bf0,Harsh Nigam,male,undergraduate\\n5e9a8013a3258347b42f2c29,Abhishank Gupta,male,undergraduate\\n5e9c146ba3258347b42f2cbd,Kirti Ranka,female,graduate\\n5ea3191210426255a7aa9aa2,Priya Ranjan,male,graduate\\n5ea3f6dc10426255a7aa9aff,Suhasi gupta,female,undergraduate\\n5ea43f7310426255a7aa9b1d,Apoorva Rana,undefined,undefined\\n5ea5ac4f10426255a7aa9b78,Rashi Rathi,female,undergraduate\\n5ea5af7110426255a7aa9b7c,tavisha,female,undergraduate\\n5ea5bf5110426255a7aa9b88,Akhila Kota,female,graduate\\n5ea6c05910426255a7aa9baa,Raghunath,male,graduate\\n5ea6c62410426255a7aa9bae,Nisha,female,graduate\\n5ea83e8810426255a7aa9bf2,Abhishek Kumar,male,undergraduate\\n5ea890e410426255a7aa9c16,Gretchen,undefined,undefined\\n5eaa137910426255a7aa9c41,Deep Patel,male,undergraduate\\n5eab903b10426255a7aa9c8e,Avimanyu Samanta,male,graduate\\n5eb2cad810426255a7aaa072,Ayush gupta,male,undergraduate\\n5eb4f73910426255a7aaa0cc,Apurba,male,graduate\\n5eb508ae10426255a7aaa12c,Jivintika Saini,female,undergraduate\\n5eb7aeccfd92f539c465ddd7,Isha,female,undergraduate\\n5ebc2ec4514aab59896bcc84,Sushil,male,undergraduate\\n5ebcf2f2514aab59896bcd00,Rahul Agarwal,male,graduate\\n5ec11abc74f7660d73aa0fbd,Chavi Maheshwari.,female,undergraduate\\n5ec2204374f7660d73aa100f,Shanya,female,undergraduate\\n5ec3ba5374f7660d73aa1201,Kushagra Sharma,male,undergraduate\\n5ec553e2f2781131cc7e5138,Yoshita,female,undergraduate\\n5ecb979eeaff6b0c3a58a4f0,Kanika Sharma,female,undergraduate\\n5ecd5a5c7023451e662235c1,Kshitij Alawandi,male,graduate\\n5ecdf7397023451e66223784,Deepak Kumar,male,undergraduate\\n5ece02427023451e66223861,Sahana B,female,undergraduate\\n5ecf6e6576027d35905cbeec,ashish,male,graduate\\n5ecfa94676027d35905cbf78,Dipak Jadhav,male,graduate\\n5ecfaa0076027d35905cbf83,Shailja Tripathi,female,graduate\\n5ecfbcb376027d35905cbfe5,Gouranga Jena,male,graduate\\n5ecfdaa976027d35905cc02c,Shreya maji,female,undergraduate\\n5ed09e8576027d35905cc164,Ankush Chavan,male,undergraduate\\n5ed0bfc176027d35905cc1f8,Harbind Singh,male,undergraduate\\n5ed0cfc676027d35905cc26a,Harishankar Dubey,male,graduate\\n5ed0d9bc76027d35905cc2c2,Mukesh Kumar mahto,male,graduate\\n5ed0defa76027d35905cc2de,Asif Hossain,male,undergraduate\\n5ed0dfec76027d35905cc2ec,Parth Praveen Deokar,male,graduate\\n5ed0fc0976027d35905cc448,RAGHUNATH DHANDAPANI,male,graduate\\n5ed12ae476027d35905cc4a1,Rajesha CT,male,graduate\\n5ed13bb076027d35905cc4ba,Saumik Satapathy,male,graduate\\n5ed142cd76027d35905cc4cd,Manish Nehra,male,undergraduate\\n5ed232b976027d35905cc689,Mohd Junaid Mansuri,male,graduate\\n5ed237ee76027d35905cc6c5,Mukesh,male,graduate\\n5ed2399b76027d35905cc70f,Neha,female,graduate\\n5ed24d5a76027d35905cc7d7,Saumya Singh,female,undergraduate\\n5ed2672576027d35905cc7f6,Arman Lalani,male,undergraduate\\n5ed2edf176027d35905cc961,BOBIL SINGH,male,graduate\\n5ed350ed76027d35905cca2c,RUSHIKESH CHAUDHARI,male,undergraduate\\n5ed35aa376027d35905cca67,Steve,male,graduate\\n5ed3737976027d35905ccaa2,Himanshu Singh,male,undergraduate\\n5ed3748576027d35905ccaab,Parth Vijay,male,undergraduate\\n5ed3cbcbbd514d602c1530a7,Abhishek Mishra,male,undergraduate\\n5ed3e898bd514d602c1530de,gauri raskar,female,graduate\\n',\n",
              " 'views.csv': b'user_id,post_id,timestamp\\n5df49b32cc709107827fb3c7,5ec821ddec493f4a2655889e,2020-06-01T10:46:45.131Z\\n5ed3748576027d35905ccaab,5ed4cbadbd514d602c1531a6,2020-06-01T09:39:20.021Z\\n5ed0defa76027d35905cc2de,5eac305f10426255a7aa9dd3,2020-06-01T08:12:42.682Z\\n5ed0defa76027d35905cc2de,5ed1ff0276027d35905cc60d,2020-06-01T08:10:23.880Z\\n5ed0defa76027d35905cc2de,5ed3820f76027d35905ccac8,2020-06-01T08:08:54.124Z\\n5ed0defa76027d35905cc2de,5ed23d4276027d35905cc798,2020-06-01T08:07:22.659Z\\n5ed0defa76027d35905cc2de,5ed415c6bd514d602c15312d,2020-06-01T08:07:01.935Z\\n5ecb979eeaff6b0c3a58a4f0,5ed229d976027d35905cc666,2020-05-31T20:44:07.524Z\\n5ecb979eeaff6b0c3a58a4f0,5ed2502b76027d35905cc7db,2020-05-31T20:43:17.623Z\\n5ecb979eeaff6b0c3a58a4f0,5ed13d2876027d35905cc4c2,2020-05-31T20:42:38.962Z\\n5ecb979eeaff6b0c3a58a4f0,5ed3476576027d35905cca1d,2020-05-31T20:41:30.667Z\\n5ecb979eeaff6b0c3a58a4f0,5ed3820f76027d35905ccac8,2020-05-31T20:40:18.693Z\\n5ecb979eeaff6b0c3a58a4f0,5ed3791976027d35905ccab6,2020-05-31T20:39:46.665Z\\n5ecb979eeaff6b0c3a58a4f0,5ed415c6bd514d602c15312d,2020-05-31T20:38:57.493Z\\n5ecb979eeaff6b0c3a58a4f0,5ed3ef4cbd514d602c1530f2,2020-05-31T19:06:06.841Z\\n5ed3e898bd514d602c1530de,5ecf818376027d35905cbf03,2020-05-31T18:56:56.215Z\\n5d60098a653a331687083238,5ed3820f76027d35905ccac8,2020-05-31T18:01:54.308Z\\n5ed3cbcbbd514d602c1530a7,5ed1ff0276027d35905cc60d,2020-05-31T16:16:51.523Z\\n5ece02427023451e66223861,5ed09ad076027d35905cc15f,2020-05-31T14:48:47.214Z\\n5ecb979eeaff6b0c3a58a4f0,5ecfb35c76027d35905cbfbc,2020-05-31T14:20:35.175Z\\n5ecb979eeaff6b0c3a58a4f0,5ed0f0c576027d35905cc3c7,2020-05-31T14:19:56.187Z\\n5ecb979eeaff6b0c3a58a4f0,5ed0e65976027d35905cc356,2020-05-31T14:19:47.732Z\\n5ed2edf176027d35905cc961,5ecf96e876027d35905cbf46,2020-05-31T13:47:39.044Z\\n5ed3748576027d35905ccaab,5eb7b10ffd92f539c465ddda,2020-05-31T12:04:27.446Z\\n5ed13bb076027d35905cc4ba,5ed3476576027d35905cca1d,2020-05-31T11:57:27.369Z\\n5ed35aa376027d35905cca67,5ed141aa76027d35905cc4c9,2020-05-31T10:54:16.998Z\\n5ed35aa376027d35905cca67,5ed13d2876027d35905cc4c2,2020-05-31T10:53:53.744Z\\n5ed35aa376027d35905cca67,5ed2502b76027d35905cc7db,2020-05-31T10:51:53.868Z\\n5ed3748576027d35905ccaab,5ed3820f76027d35905ccac8,2020-05-31T10:08:37.079Z\\n5ed3748576027d35905ccaab,5ed3791976027d35905ccab6,2020-05-31T10:03:30.483Z\\n5ed3737976027d35905ccaa2,5ed1ff0276027d35905cc60d,2020-05-31T09:09:07.321Z\\n5ed0cfc676027d35905cc26a,5ed1ff0276027d35905cc60d,2020-05-31T08:29:34.367Z\\n5d60098a653a331687083238,5ed1ff0276027d35905cc60d,2020-05-31T08:21:29.911Z\\n5ed35aa376027d35905cca67,5ed23cb876027d35905cc788,2020-05-31T07:22:29.634Z\\n5ed350ed76027d35905cca2c,5eb4fab110426255a7aaa0ed,2020-05-31T06:48:52.818Z\\n5ed350ed76027d35905cca2c,5ec7a8bdec493f4a26558846,2020-05-31T06:47:57.498Z\\n5ed350ed76027d35905cca2c,5ed141aa76027d35905cc4c9,2020-05-31T06:46:42.537Z\\n5ed350ed76027d35905cca2c,5ed13d2876027d35905cc4c2,2020-05-31T06:46:32.658Z\\n5ed350ed76027d35905cca2c,5ed2502b76027d35905cc7db,2020-05-31T06:45:00.993Z\\n5ed350ed76027d35905cca2c,5ed1ff0276027d35905cc60d,2020-05-31T06:40:11.052Z\\n5ece02427023451e66223861,5ed1ff0276027d35905cc60d,2020-05-31T05:40:49.266Z\\n5d7c994d5720533e15c3b1e9,5ed1ff0276027d35905cc60d,2020-05-31T05:16:59.953Z\\n5ed2edf176027d35905cc961,5ed1ff0276027d35905cc60d,2020-05-31T02:37:17.555Z\\n5d618359fc5fcf3bdd9a0910,5ed09ad076027d35905cc15f,2020-05-30T21:47:46.971Z\\n5d618359fc5fcf3bdd9a0910,5ed1ff0276027d35905cc60d,2020-05-30T21:47:23.412Z\\n5d618359fc5fcf3bdd9a0910,5d80e7c16c53455f896e6014,2020-05-30T21:37:48.129Z\\n5ecb979eeaff6b0c3a58a4f0,5ed23a6376027d35905cc73b,2020-05-30T20:58:03.230Z\\n5ecb979eeaff6b0c3a58a4f0,5ed238d376027d35905cc6e5,2020-05-30T20:57:47.823Z\\n5ecb979eeaff6b0c3a58a4f0,5ed23bb876027d35905cc759,2020-05-30T20:57:38.530Z\\n5ecb979eeaff6b0c3a58a4f0,5ed23b0776027d35905cc746,2020-05-30T20:57:28.402Z\\n5ecb979eeaff6b0c3a58a4f0,5ed23b6276027d35905cc74f,2020-05-30T20:57:17.937Z\\n5ecb979eeaff6b0c3a58a4f0,5ed2383776027d35905cc6ca,2020-05-30T20:57:08.712Z\\n5ecb979eeaff6b0c3a58a4f0,5ed237d676027d35905cc6bd,2020-05-30T20:56:59.791Z\\n5ecb979eeaff6b0c3a58a4f0,5ed23c1876027d35905cc761,2020-05-30T20:56:31.611Z\\n5ecb979eeaff6b0c3a58a4f0,5ed23c8676027d35905cc780,2020-05-30T20:56:24.822Z\\n5ecb979eeaff6b0c3a58a4f0,5ed23cf876027d35905cc790,2020-05-30T20:56:06.536Z\\n5ecb979eeaff6b0c3a58a4f0,5ed23cb876027d35905cc788,2020-05-30T20:55:22.587Z\\n5ecb979eeaff6b0c3a58a4f0,5ed23e4d76027d35905cc7b8,2020-05-30T20:54:29.465Z\\n5ecb979eeaff6b0c3a58a4f0,5d80e7c16c53455f896e6014,2020-05-30T20:42:46.653Z\\n5ecb979eeaff6b0c3a58a4f0,5d80dfbc6c53455f896e600e,2020-05-30T20:42:31.092Z\\n5ed0bfc176027d35905cc1f8,5ed1ff0276027d35905cc60d,2020-05-30T19:15:01.817Z\\n5ecb979eeaff6b0c3a58a4f0,5ed1ff0276027d35905cc60d,2020-05-30T18:59:56.653Z\\n5d7c994d5720533e15c3b1e9,5d7d405e5720533e15c3b1f3,2020-05-30T17:36:46.331Z\\n5d7c994d5720533e15c3b1e9,5ed23cb876027d35905cc788,2020-05-30T15:15:22.548Z\\n5ed2672576027d35905cc7f6,5ed2383776027d35905cc6ca,2020-05-30T15:00:43.399Z\\n5ed2672576027d35905cc7f6,5ed23cb876027d35905cc788,2020-05-30T14:52:30.374Z\\n5ed24d5a76027d35905cc7d7,5ed09ad076027d35905cc15f,2020-05-30T12:27:24.587Z\\n5ed24d5a76027d35905cc7d7,5ed2502b76027d35905cc7db,2020-05-30T12:23:17.330Z\\n5ed2399b76027d35905cc70f,5e5facf649d7f322c033e02b,2020-05-30T10:49:31.806Z\\n5ed2399b76027d35905cc70f,5e5e3b35fbc8805f69e02c9e,2020-05-30T10:49:28.613Z\\n5ed2399b76027d35905cc70f,5e733f1c1b24db0468e90cf1,2020-05-30T10:49:27.614Z\\n5ed2399b76027d35905cc70f,5e7de250a3258347b42f210a,2020-05-30T10:49:22.795Z\\n5ed2399b76027d35905cc70f,5ea7cd9610426255a7aa9bd2,2020-05-30T10:49:19.605Z\\n5ed2399b76027d35905cc70f,5eab962e10426255a7aa9cb8,2020-05-30T10:49:16.656Z\\n5ed237ee76027d35905cc6c5,5e733f1c1b24db0468e90cf1,2020-05-30T10:44:21.604Z\\n5ed237ee76027d35905cc6c5,5e5e3b35fbc8805f69e02c9e,2020-05-30T10:44:21.285Z\\n5ed237ee76027d35905cc6c5,5e7de250a3258347b42f210a,2020-05-30T10:43:39.426Z\\n5ed237ee76027d35905cc6c5,5e5facf649d7f322c033e02b,2020-05-30T10:43:33.369Z\\n5ed237ee76027d35905cc6c5,5ea7cd9610426255a7aa9bd2,2020-05-30T10:42:55.612Z\\n5ed237ee76027d35905cc6c5,5eab962e10426255a7aa9cb8,2020-05-30T10:42:53.117Z\\n5ecb979eeaff6b0c3a58a4f0,5ed2378276027d35905cc6b5,2020-05-30T10:40:59.948Z\\n5ecb979eeaff6b0c3a58a4f0,5ecd6ba47023451e66223604,2020-05-30T10:36:19.297Z\\n5ed232b976027d35905cc689,5ed175f176027d35905cc554,2020-05-30T10:26:48.029Z\\n5ecb979eeaff6b0c3a58a4f0,5de179d80eb5e25a8a07f079,2020-05-30T10:26:47.432Z\\n5ed232b976027d35905cc689,5ecfa0ca76027d35905cbf57,2020-05-30T10:26:01.398Z\\n5d618359fc5fcf3bdd9a0910,5eca6ddbec493f4a26558a46,2020-05-30T10:23:56.363Z\\n5d618359fc5fcf3bdd9a0910,5eca7601ec493f4a26558a62,2020-05-30T10:23:18.527Z\\n5d618359fc5fcf3bdd9a0910,5ecd6ba47023451e66223604,2020-05-30T10:22:43.169Z\\n5d618359fc5fcf3bdd9a0910,5ec1fd0974f7660d73aa0fd5,2020-05-30T10:22:26.872Z\\n5d618359fc5fcf3bdd9a0910,5ecc1d4eeaff6b0c3a58a565,2020-05-30T10:21:38.431Z\\n5ed232b976027d35905cc689,5ed09ad076027d35905cc15f,2020-05-30T10:21:21.674Z\\n5ed232b976027d35905cc689,5ecd5d417023451e662235c5,2020-05-30T10:18:56.437Z\\n5ed0dfec76027d35905cc2ec,5ed229d976027d35905cc666,2020-05-30T09:39:55.346Z\\n5ed0dfec76027d35905cc2ec,5ed09ad076027d35905cc15f,2020-05-30T09:14:20.380Z\\n5e5af599d701ab08af792b63,5ed141aa76027d35905cc4c9,2020-05-30T08:43:21.055Z\\n5d618359fc5fcf3bdd9a0910,5ed141aa76027d35905cc4c9,2020-05-30T08:42:52.232Z\\n5ecb979eeaff6b0c3a58a4f0,5ed141aa76027d35905cc4c9,2020-05-30T08:42:03.072Z\\n5ed142cd76027d35905cc4cd,5ed141aa76027d35905cc4c9,2020-05-30T06:12:13.269Z\\n5ecfaa0076027d35905cbf83,5ed141aa76027d35905cc4c9,2020-05-30T06:01:04.569Z\\n5d618359fc5fcf3bdd9a0910,5ecfa0ca76027d35905cbf57,2020-05-29T21:24:36.515Z\\n5ecdf7397023451e66223784,5ed09ad076027d35905cc15f,2020-05-29T21:01:39.325Z\\n5d618359fc5fcf3bdd9a0910,5ed175f176027d35905cc554,2020-05-29T21:00:44.487Z\\n5e35a5ed8d344822fed4d13e,5ecb72c0eaff6b0c3a58a48e,2020-05-29T20:58:08.018Z\\n5e35a5ed8d344822fed4d13e,5ecd6ba47023451e66223604,2020-05-29T20:57:37.949Z\\n5e35a5ed8d344822fed4d13e,5ecf23b87023451e66223944,2020-05-29T20:57:07.403Z\\n5e35a5ed8d344822fed4d13e,5ed175f176027d35905cc554,2020-05-29T20:55:04.735Z\\n5ecb979eeaff6b0c3a58a4f0,5ed175f476027d35905cc562,2020-05-29T20:53:54.008Z\\n5ecb979eeaff6b0c3a58a4f0,5ed175f176027d35905cc554,2020-05-29T20:52:13.243Z\\n5ed0bfc176027d35905cc1f8,5ecd5d417023451e662235c5,2020-05-29T19:15:51.902Z\\n5d60098a653a331687083238,5ecf96e876027d35905cbf46,2020-05-29T19:13:27.566Z\\n5d60098a653a331687083238,5ecfa0ca76027d35905cbf57,2020-05-29T19:10:50.010Z\\n5d60098a653a331687083238,5ed0e20776027d35905cc2fe,2020-05-29T19:10:23.887Z\\n5d60098a653a331687083238,5ecfffb976027d35905cc0e9,2020-05-29T19:09:01.319Z\\n5d60098a653a331687083238,5ecfafcc76027d35905cbfb0,2020-05-29T19:08:10.431Z\\n5d60098a653a331687083238,5ed09ad076027d35905cc15f,2020-05-29T19:04:58.732Z\\n5d60098a653a331687083238,5ed13d2876027d35905cc4c2,2020-05-29T19:00:45.063Z\\n5d7c994d5720533e15c3b1e9,5ed13d2876027d35905cc4c2,2020-05-29T18:53:45.083Z\\n5de50d768eab6401affbb135,5ed13d2876027d35905cc4c2,2020-05-29T18:51:36.449Z\\n5d610ae1653a331687083239,5ed13d2876027d35905cc4c2,2020-05-29T18:50:23.193Z\\n5ed13bb076027d35905cc4ba,5ed13d2876027d35905cc4c2,2020-05-29T16:49:57.821Z\\n5ed12ae476027d35905cc4a1,5ed09ad076027d35905cc15f,2020-05-29T16:21:35.255Z\\n5ed0fc0976027d35905cc448,5ed09ad076027d35905cc15f,2020-05-29T12:14:24.059Z\\n5d7c994d5720533e15c3b1e9,5ed0e20776027d35905cc2fe,2020-05-29T11:40:45.957Z\\n5e35a5ed8d344822fed4d13e,5ed0f0c576027d35905cc3c7,2020-05-29T11:39:59.211Z\\n5e35a5ed8d344822fed4d13e,5ed0e65976027d35905cc356,2020-05-29T11:39:50.983Z\\n5e35a5ed8d344822fed4d13e,5ed0e31a76027d35905cc302,2020-05-29T11:39:43.564Z\\n5d7c994d5720533e15c3b1e9,5ed0e31a76027d35905cc302,2020-05-29T11:39:13.580Z\\n5d618359fc5fcf3bdd9a0910,5ed0f0c576027d35905cc3c7,2020-05-29T11:24:01.025Z\\n5d618359fc5fcf3bdd9a0910,5ed0e65976027d35905cc356,2020-05-29T10:57:36.726Z\\n5deeef6142a8854bf6eabab9,5ed0e65976027d35905cc356,2020-05-29T10:41:31.901Z\\n5deeef6142a8854bf6eabab9,5ed09ad076027d35905cc15f,2020-05-29T10:40:56.291Z\\n5deeef6142a8854bf6eabab9,5ea5aacd10426255a7aa9b71,2020-05-29T10:40:31.037Z\\n5deeef6142a8854bf6eabab9,5ed0e31a76027d35905cc302,2020-05-29T10:39:26.180Z\\n5defd51362624b0135ea9fd2,5ed0e31a76027d35905cc302,2020-05-29T10:35:14.026Z\\n5ec3ba5374f7660d73aa1201,5ed0e31a76027d35905cc302,2020-05-29T10:33:59.588Z\\n5e5af599d701ab08af792b63,5ed0e31a76027d35905cc302,2020-05-29T10:33:33.537Z\\n5e7cf05bcfc8b713f5ac7db7,5ed0e31a76027d35905cc302,2020-05-29T10:32:58.197Z\\n5ecb979eeaff6b0c3a58a4f0,5ed0e31a76027d35905cc302,2020-05-29T10:32:34.941Z\\n5d610ae1653a331687083239,5ed0e31a76027d35905cc302,2020-05-29T10:31:29.028Z\\n5d618359fc5fcf3bdd9a0910,5ecf818376027d35905cbf03,2020-05-29T10:27:26.490Z\\n5d618359fc5fcf3bdd9a0910,5ed0e31a76027d35905cc302,2020-05-29T10:25:38.390Z\\n5defd51362624b0135ea9fd2,5ec3c09274f7660d73aa1229,2020-05-29T10:14:52.627Z\\n5defd51362624b0135ea9fd2,5ec573a3f2781131cc7e51b8,2020-05-29T10:14:16.328Z\\n5defd51362624b0135ea9fd2,5ecb7155eaff6b0c3a58a486,2020-05-29T10:13:56.637Z\\n5ed0d9bc76027d35905cc2c2,5ed09ad076027d35905cc15f,2020-05-29T09:46:11.475Z\\n5ecf6e6576027d35905cbeec,5ec3c09274f7660d73aa1229,2020-05-29T09:14:16.909Z\\n5ed0cfc676027d35905cc26a,5ecf96e876027d35905cbf46,2020-05-29T09:03:34.297Z\\n5ecf6e6576027d35905cbeec,5ed0007a76027d35905cc0ea,2020-05-29T09:00:06.934Z\\n5ed0bfc176027d35905cc1f8,5ed09ad076027d35905cc15f,2020-05-29T07:55:17.518Z\\n5ecb979eeaff6b0c3a58a4f0,5ed09ad076027d35905cc15f,2020-05-29T07:07:00.987Z\\n5ed09e8576027d35905cc164,5ecf818376027d35905cbf03,2020-05-29T05:33:41.781Z\\n5ecdf7397023451e66223784,5ecf96e876027d35905cbf46,2020-05-28T20:31:18.220Z\\n5ecfa94676027d35905cbf78,5ebd1111514aab59896bcd1c,2020-05-28T18:21:35.629Z\\n5d7c994d5720533e15c3b1e9,5ecfafcc76027d35905cbfb0,2020-05-28T17:16:31.096Z\\n5d7c994d5720533e15c3b1e9,5ecfb35c76027d35905cbfbc,2020-05-28T17:16:25.626Z\\n5d7c994d5720533e15c3b1e9,5ecf96e876027d35905cbf46,2020-05-28T17:15:43.617Z\\n5ecfdaa976027d35905cc02c,5de8d73249e8203ff9219a74,2020-05-28T15:52:59.443Z\\n5ecfdaa976027d35905cc02c,5eca7601ec493f4a26558a62,2020-05-28T15:39:10.528Z\\n5ecfdaa976027d35905cc02c,5ecfafcc76027d35905cbfb0,2020-05-28T15:38:04.259Z\\n5ecfbcb376027d35905cbfe5,5ecd5d417023451e662235c5,2020-05-28T13:31:00.423Z\\n5ecb979eeaff6b0c3a58a4f0,5ecfa0ca76027d35905cbf57,2020-05-28T11:31:45.840Z\\n5ecb979eeaff6b0c3a58a4f0,5ecf96e876027d35905cbf46,2020-05-28T10:48:34.763Z\\n5d60098a653a331687083238,5ecf818376027d35905cbf03,2020-05-28T10:02:42.657Z\\n5ecb979eeaff6b0c3a58a4f0,5ecf23b87023451e66223944,2020-05-28T09:52:13.949Z\\n5ecb979eeaff6b0c3a58a4f0,5ecf818376027d35905cbf03,2020-05-28T09:17:49.466Z\\n5ecdf7397023451e66223784,5ecd5d417023451e662235c5,2020-05-28T09:04:15.815Z\\n5ecf6e6576027d35905cbeec,5ea80a7e10426255a7aa9be2,2020-05-28T08:01:16.071Z\\n5ecf6e6576027d35905cbeec,5e1029f22a37d20505da2a79,2020-05-28T07:58:21.962Z\\n5ecf6e6576027d35905cbeec,5e5b6320d701ab08af792b9d,2020-05-28T07:57:46.721Z\\n5d60098a653a331687083238,5ecf23b87023451e66223944,2020-05-28T06:40:16.150Z\\n5d60098a653a331687083238,5ec7aafbec493f4a26558857,2020-05-28T06:40:06.177Z\\n5d60098a653a331687083238,5ec7a699ec493f4a2655883a,2020-05-28T06:39:20.919Z\\n5d60098a653a331687083238,5ec7a8bdec493f4a26558846,2020-05-28T06:38:50.342Z\\n5d60098a653a331687083238,5ec7ad1aec493f4a26558869,2020-05-28T06:38:25.308Z\\n5d60098a653a331687083238,5ecdecc67023451e66223765,2020-05-28T06:38:02.025Z\\n5d7c994d5720533e15c3b1e9,5ecf23b87023451e66223944,2020-05-28T02:36:45.717Z\\n5d610ae1653a331687083239,5d80dfbc6c53455f896e600e,2020-05-27T17:18:45.767Z\\n5e7b30a6cfc8b713f5ac7d95,5ecdecc67023451e66223765,2020-05-27T13:01:33.050Z\\n5d60098a653a331687083238,5ec7abfdec493f4a26558860,2020-05-27T11:01:42.536Z\\n5df20f1fee4bb5252b4f5351,5e502673d15de17a8cf1b946,2020-05-27T05:54:26.327Z\\n5df20f1fee4bb5252b4f5351,5e4c435cf5561b1994c8e400,2020-05-27T05:53:58.385Z\\n5df20f1fee4bb5252b4f5351,5ec3bc1a74f7660d73aa1207,2020-05-27T05:51:23.088Z\\n5df20f1fee4bb5252b4f5351,5ec57914f2781131cc7e51c8,2020-05-27T05:51:15.838Z\\n5df20f1fee4bb5252b4f5351,5eca6ddbec493f4a26558a46,2020-05-27T05:51:00.305Z\\n5df20f1fee4bb5252b4f5351,5eca7601ec493f4a26558a62,2020-05-27T05:50:52.535Z\\n5df20f1fee4bb5252b4f5351,5ecb72c0eaff6b0c3a58a48e,2020-05-27T05:50:42.035Z\\n5df20f1fee4bb5252b4f5351,5ecc186aeaff6b0c3a58a53f,2020-05-27T05:50:33.586Z\\n5df20f1fee4bb5252b4f5351,5ecc1d4eeaff6b0c3a58a565,2020-05-27T05:50:21.828Z\\n5df20f1fee4bb5252b4f5351,5ecd6ba47023451e66223604,2020-05-27T05:50:11.333Z\\n5d7c994d5720533e15c3b1e9,5e2d4737c85ab714a7da66d9,2020-05-27T04:24:59.370Z\\n5d7c994d5720533e15c3b1e9,5ecb6edeeaff6b0c3a58a479,2020-05-27T04:24:49.537Z\\n5d7c994d5720533e15c3b1e9,5ecb7155eaff6b0c3a58a486,2020-05-27T04:24:43.507Z\\n5d7c994d5720533e15c3b1e9,5ecb7567eaff6b0c3a58a4cf,2020-05-27T04:24:39.608Z\\n5d7c994d5720533e15c3b1e9,5ecce8a5eaff6b0c3a58a5e9,2020-05-27T04:24:30.203Z\\n5e7b30a6cfc8b713f5ac7d95,5ecce8a5eaff6b0c3a58a5e9,2020-05-27T04:22:45.957Z\\n5d60098a653a331687083238,5ecd5d417023451e662235c5,2020-05-27T03:01:21.569Z\\n5d60098a653a331687083238,5ecce8a5eaff6b0c3a58a5e9,2020-05-27T03:00:28.022Z\\n5de50d768eab6401affbb135,5ecce8a5eaff6b0c3a58a5e9,2020-05-26T20:20:17.151Z\\n5e35a5ed8d344822fed4d13e,5ecce8a5eaff6b0c3a58a5e9,2020-05-26T20:20:00.221Z\\n5deeef6142a8854bf6eabab9,5ecce8a5eaff6b0c3a58a5e9,2020-05-26T20:19:38.396Z\\n5ecb979eeaff6b0c3a58a4f0,5ecce8a5eaff6b0c3a58a5e9,2020-05-26T20:19:18.651Z\\n5d6d2bb87fa40e1417a49315,5ecce8a5eaff6b0c3a58a5e9,2020-05-26T20:18:56.456Z\\n5e3563348d344822fed4d13a,5ecce8a5eaff6b0c3a58a5e9,2020-05-26T20:18:37.723Z\\n5ec3ba5374f7660d73aa1201,5ecce8a5eaff6b0c3a58a5e9,2020-05-26T20:18:16.592Z\\n5defd51362624b0135ea9fd2,5ecce8a5eaff6b0c3a58a5e9,2020-05-26T20:17:57.082Z\\n5e5af599d701ab08af792b63,5ecce8a5eaff6b0c3a58a5e9,2020-05-26T20:17:35.773Z\\n5e7cf05bcfc8b713f5ac7db7,5ecce8a5eaff6b0c3a58a5e9,2020-05-26T20:17:12.583Z\\n5d610ae1653a331687083239,5ecce8a5eaff6b0c3a58a5e9,2020-05-26T20:16:07.131Z\\n5d610ae1653a331687083239,5ecd6ba47023451e66223604,2020-05-26T20:15:48.552Z\\n5d7c994d5720533e15c3b1e9,5ecd5d417023451e662235c5,2020-05-26T20:11:49.713Z\\n5df49b32cc709107827fb3c7,5ecd5d417023451e662235c5,2020-05-26T20:11:07.153Z\\n5e5af599d701ab08af792b63,5ecd5d417023451e662235c5,2020-05-26T20:10:31.361Z\\n5de50d768eab6401affbb135,5ecd5d417023451e662235c5,2020-05-26T20:09:50.934Z\\n5deeef6142a8854bf6eabab9,5ecd5d417023451e662235c5,2020-05-26T20:09:05.902Z\\n5d6d2bb87fa40e1417a49315,5ecd5d417023451e662235c5,2020-05-26T20:08:36.430Z\\n5ec3ba5374f7660d73aa1201,5ecd5d417023451e662235c5,2020-05-26T20:07:39.321Z\\n5e7cf05bcfc8b713f5ac7db7,5ecd5d417023451e662235c5,2020-05-26T20:07:06.310Z\\n5defd51362624b0135ea9fd2,5ecd5d417023451e662235c5,2020-05-26T20:06:31.293Z\\n5d7c994d5720533e15c3b1e9,5ecd6ba47023451e66223604,2020-05-26T19:19:24.334Z\\n5d610ae1653a331687083239,5ecd5d417023451e662235c5,2020-05-26T19:14:48.925Z\\n5ecb979eeaff6b0c3a58a4f0,5ecd5d417023451e662235c5,2020-05-26T18:17:46.771Z\\n5ecd5a5c7023451e662235c1,5e77738bcfc8b713f5ac7b36,2020-05-26T18:09:00.768Z\\n5d60098a653a331687083238,5eca6ddbec493f4a26558a46,2020-05-26T12:34:10.183Z\\n5d60098a653a331687083238,5ecb72c0eaff6b0c3a58a48e,2020-05-26T12:33:48.981Z\\n5d60098a653a331687083238,5ecb7567eaff6b0c3a58a4cf,2020-05-26T12:33:36.450Z\\n5eb2cad810426255a7aaa072,5ecc1d4eeaff6b0c3a58a565,2020-05-26T01:29:23.776Z\\n5e35a5ed8d344822fed4d13e,5ecc186aeaff6b0c3a58a53f,2020-05-25T19:48:24.741Z\\n5e35a5ed8d344822fed4d13e,5ecc1d4eeaff6b0c3a58a565,2020-05-25T19:48:15.307Z\\n5de50d768eab6401affbb135,5ecc186aeaff6b0c3a58a53f,2020-05-25T19:47:55.796Z\\n5de50d768eab6401affbb135,5ecc1d4eeaff6b0c3a58a565,2020-05-25T19:47:45.192Z\\n5d610ae1653a331687083239,5ecc186aeaff6b0c3a58a53f,2020-05-25T19:47:22.816Z\\n5d610ae1653a331687083239,5ecc1d4eeaff6b0c3a58a565,2020-05-25T19:47:15.886Z\\n5deeef6142a8854bf6eabab9,5ecc1d4eeaff6b0c3a58a565,2020-05-25T19:46:58.585Z\\n5deeef6142a8854bf6eabab9,5ecc186aeaff6b0c3a58a53f,2020-05-25T19:46:51.620Z\\n5ec3ba5374f7660d73aa1201,5ecc186aeaff6b0c3a58a53f,2020-05-25T19:46:13.066Z\\n5ec3ba5374f7660d73aa1201,5ecc1d4eeaff6b0c3a58a565,2020-05-25T19:46:01.365Z\\n5e3563348d344822fed4d13a,5ecc186aeaff6b0c3a58a53f,2020-05-25T19:45:34.026Z\\n5e3563348d344822fed4d13a,5ecc1d4eeaff6b0c3a58a565,2020-05-25T19:45:24.425Z\\n5defd51362624b0135ea9fd2,5ecc1d4eeaff6b0c3a58a565,2020-05-25T19:44:59.075Z\\n5e5af599d701ab08af792b63,5ecc1d4eeaff6b0c3a58a565,2020-05-25T19:44:40.088Z\\n5ecb979eeaff6b0c3a58a4f0,5ecc1d4eeaff6b0c3a58a565,2020-05-25T19:44:27.862Z\\n5d6d2bb87fa40e1417a49315,5ecc1d4eeaff6b0c3a58a565,2020-05-25T19:43:52.190Z\\n5d7c994d5720533e15c3b1e9,5ecc1d4eeaff6b0c3a58a565,2020-05-25T19:32:48.437Z\\n5d7c994d5720533e15c3b1e9,5ecc186aeaff6b0c3a58a53f,2020-05-25T19:12:47.330Z\\n5d7c994d5720533e15c3b1e9,5ecb72c0eaff6b0c3a58a48e,2020-05-25T19:08:08.550Z\\n5ecb979eeaff6b0c3a58a4f0,5ecb72c0eaff6b0c3a58a48e,2020-05-25T14:17:51.669Z\\n5ecb979eeaff6b0c3a58a4f0,5db2b91a99cbb90e4339c749,2020-05-25T14:12:32.595Z\\n5ecb979eeaff6b0c3a58a4f0,5eca8fceeaff6b0c3a58a3c0,2020-05-25T10:49:48.056Z\\n5df49b32cc709107827fb3c7,5dee9b5042a8854bf6eabaaf,2020-05-25T09:58:52.351Z\\n5ec3ba5374f7660d73aa1201,5ecb72c0eaff6b0c3a58a48e,2020-05-25T09:48:53.075Z\\n5df49b32cc709107827fb3c7,5ecb72c0eaff6b0c3a58a48e,2020-05-25T07:27:20.699Z\\n5df49b32cc709107827fb3c7,5ec3c09274f7660d73aa1229,2020-05-25T07:26:57.220Z\\n5df49b32cc709107827fb3c7,5ec573a3f2781131cc7e51b8,2020-05-25T07:26:42.046Z\\n5df49b32cc709107827fb3c7,5eca8fceeaff6b0c3a58a3c0,2020-05-25T07:26:27.545Z\\n5df49b32cc709107827fb3c7,5ecb7155eaff6b0c3a58a486,2020-05-25T07:26:16.658Z\\n5df49b32cc709107827fb3c7,5ec54fc9f2781131cc7e50f5,2020-05-25T07:25:47.134Z\\n5ec3ba5374f7660d73aa1201,5ecb7155eaff6b0c3a58a486,2020-05-25T07:18:56.814Z\\n5df49b32cc709107827fb3c7,5ecb6edeeaff6b0c3a58a479,2020-05-25T07:08:29.178Z\\n5e37b16ceab55d319938a6f8,5e518c9fd701ab08af79299a,2020-05-25T04:40:45.580Z\\n5e37b16ceab55d319938a6f8,5e50141ed15de17a8cf1b912,2020-05-25T04:40:37.763Z\\n5e37b16ceab55d319938a6f8,5e4edd87f5561b1994c8e497,2020-05-25T04:40:27.060Z\\n5e37b16ceab55d319938a6f8,5e51a2cfd701ab08af7929c2,2020-05-25T04:40:16.081Z\\n5e37b16ceab55d319938a6f8,5e8c2d01a3258347b42f2627,2020-05-25T04:40:07.524Z\\n5e37b16ceab55d319938a6f8,5e52e1b0d701ab08af7929eb,2020-05-25T04:40:02.126Z\\n5e37b16ceab55d319938a6f8,5e52f2b8d701ab08af792a05,2020-05-25T04:39:50.922Z\\n5e37b16ceab55d319938a6f8,5e52e7abd701ab08af7929f8,2020-05-25T04:39:44.412Z\\n5e37b16ceab55d319938a6f8,5d7d405e5720533e15c3b1f3,2020-05-25T04:37:31.489Z\\n5e37b16ceab55d319938a6f8,5dada695610ba040fbfdf585,2020-05-25T04:37:13.141Z\\n5e37b16ceab55d319938a6f8,5e281cf0025ae20886de2050,2020-05-25T04:36:48.542Z\\n5e37b16ceab55d319938a6f8,5e3674c68d344822fed4d152,2020-05-25T04:34:52.165Z\\n5e37b16ceab55d319938a6f8,5e4a3cf6f5561b1994c8e378,2020-05-25T04:34:01.253Z\\n5e37b16ceab55d319938a6f8,5e4ef199f5561b1994c8e4a4,2020-05-25T04:33:44.682Z\\n5e37b16ceab55d319938a6f8,5e519e8fd701ab08af7929b5,2020-05-25T04:33:35.376Z\\n5e37b16ceab55d319938a6f8,5e51a9e8d701ab08af7929dc,2020-05-25T04:31:43.965Z\\n5e37b16ceab55d319938a6f8,5e52f911d701ab08af792a12,2020-05-25T04:31:33.769Z\\n5e37b16ceab55d319938a6f8,5e8c993da3258347b42f264d,2020-05-25T04:31:18.971Z\\n5e37b16ceab55d319938a6f8,5eb2c11210426255a7aaa052,2020-05-25T04:31:09.772Z\\n5e37b16ceab55d319938a6f8,5e8cc876a3258347b42f26a3,2020-05-25T04:30:35.609Z\\n5e37b16ceab55d319938a6f8,5ebd5b46514aab59896bcd5a,2020-05-25T04:29:26.149Z\\n5e37b16ceab55d319938a6f8,5ec3bc1a74f7660d73aa1207,2020-05-25T04:27:41.000Z\\n5e37b16ceab55d319938a6f8,5eca6ddbec493f4a26558a46,2020-05-25T04:27:22.436Z\\n5e37b16ceab55d319938a6f8,5eca7601ec493f4a26558a62,2020-05-25T04:26:51.082Z\\n5e5af599d701ab08af792b63,5ec57914f2781131cc7e51c8,2020-05-24T19:30:53.948Z\\n5e5af599d701ab08af792b63,5eca6ddbec493f4a26558a46,2020-05-24T19:30:40.057Z\\n5e5af599d701ab08af792b63,5eca7601ec493f4a26558a62,2020-05-24T19:30:26.728Z\\n5e5af599d701ab08af792b63,5eca8fceeaff6b0c3a58a3c0,2020-05-24T19:29:57.044Z\\n5d610ae1653a331687083239,5eca8fceeaff6b0c3a58a3c0,2020-05-24T19:27:46.203Z\\n5e7cf05bcfc8b713f5ac7db7,5eca8fceeaff6b0c3a58a3c0,2020-05-24T15:35:41.545Z\\n5ec3ba5374f7660d73aa1201,5eca8fceeaff6b0c3a58a3c0,2020-05-24T15:28:30.388Z\\n5d60098a653a331687083238,5eca8fceeaff6b0c3a58a3c0,2020-05-24T15:27:42.782Z\\n5d6d2bb87fa40e1417a49315,5eca8fceeaff6b0c3a58a3c0,2020-05-24T15:21:27.400Z\\n5d6d2bb87fa40e1417a49315,5eb1df6d10426255a7aaa029,2020-05-24T13:49:28.058Z\\n5eb2cad810426255a7aaa072,5eca7601ec493f4a26558a62,2020-05-24T13:33:29.659Z\\n5d6d2bb87fa40e1417a49315,5eca7601ec493f4a26558a62,2020-05-24T13:30:53.770Z\\n5e3563348d344822fed4d13a,5ec57914f2781131cc7e51c8,2020-05-24T13:29:59.772Z\\n5e3563348d344822fed4d13a,5eca7601ec493f4a26558a62,2020-05-24T13:29:26.450Z\\n5d7c994d5720533e15c3b1e9,5eca7601ec493f4a26558a62,2020-05-24T13:27:23.430Z\\n5defd51362624b0135ea9fd2,5eca6ddbec493f4a26558a46,2020-05-24T12:56:13.098Z\\n5d7c994d5720533e15c3b1e9,5eca6ddbec493f4a26558a46,2020-05-24T12:51:48.843Z\\n5ec3ba5374f7660d73aa1201,5ea5ce9310426255a7aa9b8d,2020-05-24T10:55:38.097Z\\n5ec3ba5374f7660d73aa1201,5ec821ddec493f4a2655889e,2020-05-24T10:49:55.177Z\\n5ec3ba5374f7660d73aa1201,5ec8204cec493f4a26558893,2020-05-24T10:48:33.359Z\\n5d610ae1653a331687083239,5ec573a3f2781131cc7e51b8,2020-05-24T10:06:26.873Z\\n5d610ae1653a331687083239,5e51a9e8d701ab08af7929dc,2020-05-24T10:02:41.787Z\\n5ec2204374f7660d73aa100f,5ec821ddec493f4a2655889e,2020-05-24T09:23:57.537Z\\n5d60098a653a331687083238,5ddeb6e80eb5e25a8a07f065,2020-05-24T07:48:15.758Z\\n5e1ef04c2a37d20505da2b8b,5ec3667274f7660d73aa1194,2020-05-23T07:46:33.244Z\\n5e1ef04c2a37d20505da2b8b,5ec8204cec493f4a26558893,2020-05-23T07:42:00.059Z\\n5d60098a653a331687083238,5ec7a7a3ec493f4a26558840,2020-05-23T03:25:45.217Z\\n5d7c994d5720533e15c3b1e9,5ec7a699ec493f4a2655883a,2020-05-22T20:12:45.475Z\\n5d7c994d5720533e15c3b1e9,5ec7a7a3ec493f4a26558840,2020-05-22T20:12:16.335Z\\n5d7c994d5720533e15c3b1e9,5ec7ad1aec493f4a26558869,2020-05-22T20:11:53.866Z\\n5d7c994d5720533e15c3b1e9,5ec7abfdec493f4a26558860,2020-05-22T20:11:47.721Z\\n5d7c994d5720533e15c3b1e9,5ec8204cec493f4a26558893,2020-05-22T20:11:39.068Z\\n5d7c994d5720533e15c3b1e9,5ec821ddec493f4a2655889e,2020-05-22T20:11:32.317Z\\n5de50d768eab6401affbb135,5ec7a699ec493f4a2655883a,2020-05-22T20:11:09.561Z\\n5de50d768eab6401affbb135,5ec7a8bdec493f4a26558846,2020-05-22T20:11:02.810Z\\n5de50d768eab6401affbb135,5ec7abfdec493f4a26558860,2020-05-22T20:10:57.073Z\\n5de50d768eab6401affbb135,5ec7ad1aec493f4a26558869,2020-05-22T20:10:51.932Z\\n5de50d768eab6401affbb135,5ec8204cec493f4a26558893,2020-05-22T20:10:45.520Z\\n5de50d768eab6401affbb135,5ec821ddec493f4a2655889e,2020-05-22T20:10:41.100Z\\n5deeef6142a8854bf6eabab9,5ec601a0f2781131cc7e522e,2020-05-22T20:09:52.912Z\\n5deeef6142a8854bf6eabab9,5ec7a7a3ec493f4a26558840,2020-05-22T20:09:45.774Z\\n5deeef6142a8854bf6eabab9,5ec7a699ec493f4a2655883a,2020-05-22T20:09:26.550Z\\n5deeef6142a8854bf6eabab9,5ec7a8bdec493f4a26558846,2020-05-22T20:09:19.951Z\\n5deeef6142a8854bf6eabab9,5ec7aafbec493f4a26558857,2020-05-22T20:09:12.328Z\\n5deeef6142a8854bf6eabab9,5ec7abfdec493f4a26558860,2020-05-22T20:09:04.378Z\\n5deeef6142a8854bf6eabab9,5ec7ad1aec493f4a26558869,2020-05-22T20:08:54.867Z\\n5deeef6142a8854bf6eabab9,5ec8204cec493f4a26558893,2020-05-22T20:08:49.480Z\\n5deeef6142a8854bf6eabab9,5ec821ddec493f4a2655889e,2020-05-22T20:08:45.061Z\\n5d6d2bb87fa40e1417a49315,5ec8204cec493f4a26558893,2020-05-22T20:08:21.090Z\\n5d6d2bb87fa40e1417a49315,5ec821ddec493f4a2655889e,2020-05-22T20:08:09.061Z\\n5d6d2bb87fa40e1417a49315,5ec3676574f7660d73aa119a,2020-05-22T20:07:52.610Z\\n5d6d2bb87fa40e1417a49315,5ec601a0f2781131cc7e522e,2020-05-22T20:07:27.617Z\\n5d6d2bb87fa40e1417a49315,5ec7a699ec493f4a2655883a,2020-05-22T20:07:20.027Z\\n5d6d2bb87fa40e1417a49315,5ec7a7a3ec493f4a26558840,2020-05-22T20:07:14.500Z\\n5d6d2bb87fa40e1417a49315,5ec7aafbec493f4a26558857,2020-05-22T20:06:49.245Z\\n5d6d2bb87fa40e1417a49315,5ec7a8bdec493f4a26558846,2020-05-22T20:06:44.277Z\\n5d6d2bb87fa40e1417a49315,5ec7abfdec493f4a26558860,2020-05-22T20:06:39.009Z\\n5d6d2bb87fa40e1417a49315,5ec7ad1aec493f4a26558869,2020-05-22T20:06:34.958Z\\n5e3563348d344822fed4d13a,5ec7a7a3ec493f4a26558840,2020-05-22T20:05:44.444Z\\n5e3563348d344822fed4d13a,5ec7a699ec493f4a2655883a,2020-05-22T20:05:35.137Z\\n5e3563348d344822fed4d13a,5ec7aafbec493f4a26558857,2020-05-22T20:05:28.087Z\\n5e3563348d344822fed4d13a,5ec7a8bdec493f4a26558846,2020-05-22T20:05:22.749Z\\n5e3563348d344822fed4d13a,5ec7ad1aec493f4a26558869,2020-05-22T20:05:16.908Z\\n5e3563348d344822fed4d13a,5ec7abfdec493f4a26558860,2020-05-22T20:05:11.620Z\\n5e3563348d344822fed4d13a,5ec821ddec493f4a2655889e,2020-05-22T20:05:04.397Z\\n5e3563348d344822fed4d13a,5ec8204cec493f4a26558893,2020-05-22T20:04:59.457Z\\n5defd51362624b0135ea9fd2,5ec7a7a3ec493f4a26558840,2020-05-22T20:04:41.728Z\\n5defd51362624b0135ea9fd2,5ec7a699ec493f4a2655883a,2020-05-22T20:04:34.308Z\\n5defd51362624b0135ea9fd2,5ec7aafbec493f4a26558857,2020-05-22T20:04:14.458Z\\n5defd51362624b0135ea9fd2,5ec7a8bdec493f4a26558846,2020-05-22T20:04:05.499Z\\n5defd51362624b0135ea9fd2,5ec7ad1aec493f4a26558869,2020-05-22T20:03:59.858Z\\n5defd51362624b0135ea9fd2,5ec7abfdec493f4a26558860,2020-05-22T20:03:52.347Z\\n5defd51362624b0135ea9fd2,5ec821ddec493f4a2655889e,2020-05-22T20:03:46.912Z\\n5defd51362624b0135ea9fd2,5ec8204cec493f4a26558893,2020-05-22T20:03:41.883Z\\n5e5af599d701ab08af792b63,5ec7a699ec493f4a2655883a,2020-05-22T20:03:14.589Z\\n5e5af599d701ab08af792b63,5ec7a7a3ec493f4a26558840,2020-05-22T20:02:33.947Z\\n5e5af599d701ab08af792b63,5ec7a8bdec493f4a26558846,2020-05-22T20:02:23.135Z\\n5e5af599d701ab08af792b63,5ec7aafbec493f4a26558857,2020-05-22T20:01:58.512Z\\n5e5af599d701ab08af792b63,5ec7abfdec493f4a26558860,2020-05-22T20:01:50.350Z\\n5e5af599d701ab08af792b63,5ec7ad1aec493f4a26558869,2020-05-22T20:01:44.796Z\\n5e5af599d701ab08af792b63,5ec821ddec493f4a2655889e,2020-05-22T20:01:37.309Z\\n5e5af599d701ab08af792b63,5ec8204cec493f4a26558893,2020-05-22T20:01:29.767Z\\n5d610ae1653a331687083239,5ec8204cec493f4a26558893,2020-05-22T19:17:41.274Z\\n5e7cf05bcfc8b713f5ac7db7,5ec7ad1aec493f4a26558869,2020-05-22T19:17:08.540Z\\n5e7cf05bcfc8b713f5ac7db7,5ec7a7a3ec493f4a26558840,2020-05-22T19:16:53.751Z\\n5e7cf05bcfc8b713f5ac7db7,5ec7a699ec493f4a2655883a,2020-05-22T19:16:41.262Z\\n5e7cf05bcfc8b713f5ac7db7,5ec7a8bdec493f4a26558846,2020-05-22T19:16:28.762Z\\n5e7cf05bcfc8b713f5ac7db7,5ec8204cec493f4a26558893,2020-05-22T19:16:09.301Z\\n5ec3ba5374f7660d73aa1201,5ec7a8bdec493f4a26558846,2020-05-22T19:15:44.541Z\\n5ec3ba5374f7660d73aa1201,5ec7a699ec493f4a2655883a,2020-05-22T19:05:45.104Z\\n5ec3ba5374f7660d73aa1201,5ec7a7a3ec493f4a26558840,2020-05-22T19:04:30.543Z\\n5df49b32cc709107827fb3c7,5ec8204cec493f4a26558893,2020-05-22T18:56:45.805Z\\n5d7c994d5720533e15c3b1e9,5ec7a8bdec493f4a26558846,2020-05-22T18:37:38.243Z\\n5e1ef04c2a37d20505da2b8b,5eaed2f210426255a7aa9eef,2020-05-22T10:56:19.107Z\\n5e1ef04c2a37d20505da2b8b,5ec3676574f7660d73aa119a,2020-05-22T10:47:59.752Z\\n5e1ef04c2a37d20505da2b8b,5ec5546bf2781131cc7e5140,2020-05-22T10:46:26.358Z\\n5e1ef04c2a37d20505da2b8b,5ec57acaf2781131cc7e51d5,2020-05-22T10:46:05.972Z\\n5e1ef04c2a37d20505da2b8b,5ec7ad1aec493f4a26558869,2020-05-22T10:44:49.911Z\\n5e1ef04c2a37d20505da2b8b,5ec7abfdec493f4a26558860,2020-05-22T10:40:03.621Z\\n5e1ef04c2a37d20505da2b8b,5ec7aafbec493f4a26558857,2020-05-22T10:35:58.102Z\\n5e1ef04c2a37d20505da2b8b,5ec7a8bdec493f4a26558846,2020-05-22T10:26:34.096Z\\n5e1ef04c2a37d20505da2b8b,5ec7a7a3ec493f4a26558840,2020-05-22T10:26:28.942Z\\n5e1ef04c2a37d20505da2b8b,5ec7a699ec493f4a2655883a,2020-05-22T10:26:20.234Z\\n5ec3ba5374f7660d73aa1201,5e3fce21eab55d319938a81c,2020-05-21T20:10:07.796Z\\n5ec3ba5374f7660d73aa1201,5e3fd3bdeab55d319938a824,2020-05-21T20:09:56.876Z\\n5ec3ba5374f7660d73aa1201,5e3fd57aeab55d319938a826,2020-05-21T20:09:40.606Z\\n5ec3ba5374f7660d73aa1201,5e37d490eab55d319938a713,2020-05-21T20:09:30.327Z\\n5defd51362624b0135ea9fd2,5e37d490eab55d319938a713,2020-05-21T20:08:19.920Z\\n5defd51362624b0135ea9fd2,5e37dc1aeab55d319938a720,2020-05-21T20:07:58.734Z\\n5defd51362624b0135ea9fd2,5e3fc856eab55d319938a7f2,2020-05-21T20:07:38.656Z\\n5defd51362624b0135ea9fd2,5e3fc931eab55d319938a7f4,2020-05-21T20:07:23.438Z\\n5defd51362624b0135ea9fd2,5e37c301eab55d319938a701,2020-05-21T20:07:07.692Z\\n5defd51362624b0135ea9fd2,5e3fcc56eab55d319938a808,2020-05-21T20:06:55.436Z\\n5defd51362624b0135ea9fd2,5e3fcd38eab55d319938a81a,2020-05-21T20:06:24.836Z\\n5defd51362624b0135ea9fd2,5e3fce21eab55d319938a81c,2020-05-21T20:05:48.869Z\\n5defd51362624b0135ea9fd2,5e3fcfcdeab55d319938a81e,2020-05-21T20:05:34.438Z\\n5defd51362624b0135ea9fd2,5e3fd10aeab55d319938a820,2020-05-21T20:05:20.589Z\\n5defd51362624b0135ea9fd2,5e3fd290eab55d319938a822,2020-05-21T20:04:59.186Z\\n5defd51362624b0135ea9fd2,5e3fd3bdeab55d319938a824,2020-05-21T20:04:47.759Z\\n5defd51362624b0135ea9fd2,5e3fd57aeab55d319938a826,2020-05-21T20:04:39.098Z\\n5e7cf05bcfc8b713f5ac7db7,5e37c087eab55d319938a700,2020-05-21T20:03:50.906Z\\n5e7cf05bcfc8b713f5ac7db7,5e36db70eab55d319938a6cc,2020-05-21T20:03:41.776Z\\n5e7cf05bcfc8b713f5ac7db7,5e37c78aeab55d319938a703,2020-05-21T20:03:27.336Z\\n5e7cf05bcfc8b713f5ac7db7,5e37ce10eab55d319938a710,2020-05-21T20:03:05.702Z\\n5e7cf05bcfc8b713f5ac7db7,5e37d08ceab55d319938a711,2020-05-21T20:02:47.440Z\\n5e7cf05bcfc8b713f5ac7db7,5e37d1afeab55d319938a712,2020-05-21T20:02:29.932Z\\n5e7cf05bcfc8b713f5ac7db7,5e37d490eab55d319938a713,2020-05-21T20:02:15.809Z\\n5e7cf05bcfc8b713f5ac7db7,5e37d699eab55d319938a71a,2020-05-21T20:01:44.637Z\\n5e7cf05bcfc8b713f5ac7db7,5e37d8c9eab55d319938a71e,2020-05-21T20:01:31.756Z\\n5e7cf05bcfc8b713f5ac7db7,5e37d9eaeab55d319938a71f,2020-05-21T20:00:59.533Z\\n5e7cf05bcfc8b713f5ac7db7,5e3fc856eab55d319938a7f2,2020-05-21T20:00:38.323Z\\n5e7cf05bcfc8b713f5ac7db7,5e3fc931eab55d319938a7f4,2020-05-21T20:00:15.031Z\\n5e7cf05bcfc8b713f5ac7db7,5e3fcb74eab55d319938a806,2020-05-21T20:00:01.145Z\\n5e7cf05bcfc8b713f5ac7db7,5e3fcc56eab55d319938a808,2020-05-21T19:59:43.886Z\\n5e7cf05bcfc8b713f5ac7db7,5e3fcd38eab55d319938a81a,2020-05-21T19:59:22.159Z\\n5e7cf05bcfc8b713f5ac7db7,5e3fce21eab55d319938a81c,2020-05-21T19:59:02.732Z\\n5e7cf05bcfc8b713f5ac7db7,5e3fcfcdeab55d319938a81e,2020-05-21T19:58:47.500Z\\n5e7cf05bcfc8b713f5ac7db7,5e3fd10aeab55d319938a820,2020-05-21T19:58:28.607Z\\n5e7cf05bcfc8b713f5ac7db7,5e3fd290eab55d319938a822,2020-05-21T19:58:00.335Z\\n5e7cf05bcfc8b713f5ac7db7,5e3fd3bdeab55d319938a824,2020-05-21T19:57:46.176Z\\n5e7cf05bcfc8b713f5ac7db7,5e3fd57aeab55d319938a826,2020-05-21T19:57:33.827Z\\n5d60098a653a331687083238,5ec5546bf2781131cc7e5140,2020-05-21T18:02:37.584Z\\n5d60098a653a331687083238,5ec57914f2781131cc7e51c8,2020-05-21T18:02:17.667Z\\n5d60098a653a331687083238,5ec57acaf2781131cc7e51d5,2020-05-21T18:01:49.435Z\\n5d60098a653a331687083238,5ec601a0f2781131cc7e522e,2020-05-21T18:01:32.755Z\\n5df3f8f2ee4bb5252b4f5393,5eba2e94514aab59896bcc5a,2020-05-21T12:35:12.804Z\\n5e3563348d344822fed4d13a,5ec601a0f2781131cc7e522e,2020-05-21T06:06:28.975Z\\n5ec3ba5374f7660d73aa1201,5ec601a0f2781131cc7e522e,2020-05-21T06:06:11.775Z\\n5ec3ba5374f7660d73aa1201,5ec2e16074f7660d73aa1154,2020-05-21T06:06:03.764Z\\n5defd51362624b0135ea9fd2,5ec601a0f2781131cc7e522e,2020-05-21T06:05:44.176Z\\n5e7cf05bcfc8b713f5ac7db7,5ec601a0f2781131cc7e522e,2020-05-21T06:05:22.991Z\\n5d610ae1653a331687083239,5ec601a0f2781131cc7e522e,2020-05-21T06:05:03.432Z\\n5d60098a653a331687083238,5ec573a3f2781131cc7e51b8,2020-05-21T05:55:02.993Z\\n5d60098a653a331687083238,5ec54fc9f2781131cc7e50f5,2020-05-21T05:53:43.664Z\\n5d610ae1653a331687083239,5ec57acaf2781131cc7e51d5,2020-05-20T20:02:59.160Z\\n5d610ae1653a331687083239,5ec57914f2781131cc7e51c8,2020-05-20T20:02:48.497Z\\n5deeef6142a8854bf6eabab9,5ec573a3f2781131cc7e51b8,2020-05-20T20:02:12.951Z\\n5deeef6142a8854bf6eabab9,5ec57acaf2781131cc7e51d5,2020-05-20T20:01:46.820Z\\n5df49b32cc709107827fb3c7,5ec57acaf2781131cc7e51d5,2020-05-20T20:01:03.700Z\\n5d6d2bb87fa40e1417a49315,5ec57acaf2781131cc7e51d5,2020-05-20T20:00:47.509Z\\n5e3563348d344822fed4d13a,5ec573a3f2781131cc7e51b8,2020-05-20T20:00:25.749Z\\n5e3563348d344822fed4d13a,5ec57acaf2781131cc7e51d5,2020-05-20T20:00:04.265Z\\n5ec3ba5374f7660d73aa1201,5ec57acaf2781131cc7e51d5,2020-05-20T19:59:51.010Z\\n5e5af599d701ab08af792b63,5ec57acaf2781131cc7e51d5,2020-05-20T19:59:29.178Z\\n5defd51362624b0135ea9fd2,5ec57acaf2781131cc7e51d5,2020-05-20T19:59:14.089Z\\n5e7cf05bcfc8b713f5ac7db7,5ec57acaf2781131cc7e51d5,2020-05-20T19:58:57.769Z\\n5d7c994d5720533e15c3b1e9,5ec57acaf2781131cc7e51d5,2020-05-20T19:58:31.204Z\\n5d7c994d5720533e15c3b1e9,5ec57914f2781131cc7e51c8,2020-05-20T18:40:59.412Z\\n5ec553e2f2781131cc7e5138,5ec5546bf2781131cc7e5140,2020-05-20T18:39:36.748Z\\n5d7c994d5720533e15c3b1e9,5ec573a3f2781131cc7e51b8,2020-05-20T18:16:14.447Z\\n5ec3ba5374f7660d73aa1201,5ec573a3f2781131cc7e51b8,2020-05-20T18:15:22.236Z\\n5d618359fc5fcf3bdd9a0910,5ec54fc9f2781131cc7e50f5,2020-05-20T17:08:54.455Z\\n5d610ae1653a331687083239,5ec5546bf2781131cc7e5140,2020-05-20T16:58:30.224Z\\n5d7c994d5720533e15c3b1e9,5ec54fc9f2781131cc7e50f5,2020-05-20T16:57:04.883Z\\n5d7c994d5720533e15c3b1e9,5ec5546bf2781131cc7e5140,2020-05-20T16:11:57.054Z\\n5e5af599d701ab08af792b63,5ec5546bf2781131cc7e5140,2020-05-20T16:11:13.415Z\\n5defd51362624b0135ea9fd2,5ec5546bf2781131cc7e5140,2020-05-20T16:09:25.076Z\\n5e3563348d344822fed4d13a,5ec5546bf2781131cc7e5140,2020-05-20T16:09:01.651Z\\n5e7cf05bcfc8b713f5ac7db7,5ec5546bf2781131cc7e5140,2020-05-20T16:08:38.411Z\\n5ec3ba5374f7660d73aa1201,5ec5546bf2781131cc7e5140,2020-05-20T16:08:22.849Z\\n5deeef6142a8854bf6eabab9,5ec5546bf2781131cc7e5140,2020-05-20T16:08:07.525Z\\n5deeef6142a8854bf6eabab9,5ec54fc9f2781131cc7e50f5,2020-05-20T15:54:43.577Z\\n5e3563348d344822fed4d13a,5ec54fc9f2781131cc7e50f5,2020-05-20T15:53:17.353Z\\n5ec3ba5374f7660d73aa1201,5e4ef199f5561b1994c8e4a4,2020-05-20T15:50:57.021Z\\n5ec3ba5374f7660d73aa1201,5ebd5b46514aab59896bcd5a,2020-05-20T15:50:42.150Z\\n5ec3ba5374f7660d73aa1201,5ec1fd0974f7660d73aa0fd5,2020-05-20T15:50:21.508Z\\n5e5af599d701ab08af792b63,5ec54fc9f2781131cc7e50f5,2020-05-20T15:48:40.292Z\\n5defd51362624b0135ea9fd2,5ec54fc9f2781131cc7e50f5,2020-05-20T15:46:59.914Z\\n5e7cf05bcfc8b713f5ac7db7,5ec54fc9f2781131cc7e50f5,2020-05-20T15:46:13.370Z\\n5ec3ba5374f7660d73aa1201,5ec54fc9f2781131cc7e50f5,2020-05-20T15:45:17.486Z\\n5d610ae1653a331687083239,5ec54fc9f2781131cc7e50f5,2020-05-20T15:45:12.084Z\\n5ec2204374f7660d73aa100f,5ec3676574f7660d73aa119a,2020-05-20T15:40:29.230Z\\n5ec2204374f7660d73aa100f,5ec3667274f7660d73aa1194,2020-05-20T15:39:03.204Z\\n5d60098a653a331687083238,5ec3c09274f7660d73aa1229,2020-05-20T15:24:51.974Z\\n5e7cf05bcfc8b713f5ac7db7,5ec3bc1a74f7660d73aa1207,2020-05-20T15:13:11.342Z\\n5d610ae1653a331687083239,5ec3bc1a74f7660d73aa1207,2020-05-20T15:12:43.839Z\\n5d610ae1653a331687083239,5ec3c09274f7660d73aa1229,2020-05-19T11:21:08.482Z\\n5e3563348d344822fed4d13a,5ec3c09274f7660d73aa1229,2020-05-19T11:20:19.990Z\\n5e5af599d701ab08af792b63,5ec3c09274f7660d73aa1229,2020-05-19T11:19:58.932Z\\n5ec3ba5374f7660d73aa1201,5ec3c09274f7660d73aa1229,2020-05-19T11:19:37.708Z\\n5e7cf05bcfc8b713f5ac7db7,5ec3c09274f7660d73aa1229,2020-05-19T11:19:30.605Z\\n5d7c994d5720533e15c3b1e9,5ec3c09274f7660d73aa1229,2020-05-19T11:19:14.696Z\\n5d7c994d5720533e15c3b1e9,5e3674c68d344822fed4d152,2020-05-19T11:14:32.204Z\\n5ec3ba5374f7660d73aa1201,5ec3bc1a74f7660d73aa1207,2020-05-19T11:05:39.142Z\\n5ec3ba5374f7660d73aa1201,5ec3676574f7660d73aa119a,2020-05-19T11:04:18.131Z\\n5ec3ba5374f7660d73aa1201,5ec3667274f7660d73aa1194,2020-05-19T11:04:09.071Z\\n5ec3ba5374f7660d73aa1201,5ec278b574f7660d73aa10d5,2020-05-19T11:03:54.375Z\\n5ec3ba5374f7660d73aa1201,5ec2215374f7660d73aa1011,2020-05-19T11:03:44.185Z\\n5ec3ba5374f7660d73aa1201,5ec2b27974f7660d73aa1115,2020-05-19T11:02:27.158Z\\n5ec3ba5374f7660d73aa1201,5ebd1111514aab59896bcd1c,2020-05-19T11:01:59.439Z\\n5ec3ba5374f7660d73aa1201,5ebc3239514aab59896bcc86,2020-05-19T11:01:16.715Z\\n5df49b32cc709107827fb3c7,5ec3667274f7660d73aa1194,2020-05-19T10:33:34.012Z\\n5df49b32cc709107827fb3c7,5ec3676574f7660d73aa119a,2020-05-19T10:33:04.499Z\\n5e35a5ed8d344822fed4d13e,5ec3667274f7660d73aa1194,2020-05-19T10:32:43.336Z\\n5df20f1fee4bb5252b4f5351,5dee9b5042a8854bf6eabaaf,2020-05-19T10:26:08.070Z\\n5df20f1fee4bb5252b4f5351,5e3c7293eab55d319938a74d,2020-05-19T10:24:56.882Z\\n5df20f1fee4bb5252b4f5351,5e519e8fd701ab08af7929b5,2020-05-19T10:24:46.442Z\\n5df20f1fee4bb5252b4f5351,5e3674c68d344822fed4d152,2020-05-19T10:23:19.422Z\\n5df20f1fee4bb5252b4f5351,5e4ed8ccf5561b1994c8e47d,2020-05-19T10:22:49.906Z\\n5df20f1fee4bb5252b4f5351,5e51a9e8d701ab08af7929dc,2020-05-19T10:21:49.344Z\\n5df20f1fee4bb5252b4f5351,5e8c993da3258347b42f264d,2020-05-19T10:21:00.853Z\\n5df20f1fee4bb5252b4f5351,5e8cc876a3258347b42f26a3,2020-05-19T10:20:43.425Z\\n5df20f1fee4bb5252b4f5351,5e8cb88ea3258347b42f267e,2020-05-19T10:20:40.854Z\\n5df20f1fee4bb5252b4f5351,5e8c2d01a3258347b42f2627,2020-05-19T10:20:37.985Z\\n5df20f1fee4bb5252b4f5351,5e8ccfb5a3258347b42f26bc,2020-05-19T10:20:27.422Z\\n5df20f1fee4bb5252b4f5351,5eb1df6d10426255a7aaa029,2020-05-19T10:20:17.233Z\\n5df20f1fee4bb5252b4f5351,5eb2c11210426255a7aaa052,2020-05-19T10:19:59.392Z\\n5df20f1fee4bb5252b4f5351,5ebd5b46514aab59896bcd5a,2020-05-19T10:19:56.241Z\\n5df20f1fee4bb5252b4f5351,5ec1fd0974f7660d73aa0fd5,2020-05-19T10:19:43.734Z\\n5df20f1fee4bb5252b4f5351,5ec2f7c074f7660d73aa116e,2020-05-19T10:19:27.976Z\\n5d7c994d5720533e15c3b1e9,5ec3676574f7660d73aa119a,2020-05-19T10:12:59.891Z\\n5e7b30a6cfc8b713f5ac7d95,5e7cc074cfc8b713f5ac7db0,2020-05-19T09:06:36.905Z\\n5d7c994d5720533e15c3b1e9,5ec2e16074f7660d73aa1154,2020-05-19T08:45:03.900Z\\n5d60098a653a331687083238,5ec3676574f7660d73aa119a,2020-05-19T05:38:36.720Z\\n5d60098a653a331687083238,5ec3667274f7660d73aa1194,2020-05-19T05:37:17.310Z\\n5ec2204374f7660d73aa100f,5ec278b574f7660d73aa10d5,2020-05-18T21:12:50.389Z\\n5df49b32cc709107827fb3c7,5ec2f7c074f7660d73aa116e,2020-05-18T21:05:28.083Z\\n5e35a5ed8d344822fed4d13e,5ec2f7c074f7660d73aa116e,2020-05-18T21:04:50.776Z\\n5d6d2bb87fa40e1417a49315,5ec2f7c074f7660d73aa116e,2020-05-18T21:04:15.153Z\\n5e3563348d344822fed4d13a,5ec2f7c074f7660d73aa116e,2020-05-18T21:03:27.043Z\\n5e7cf05bcfc8b713f5ac7db7,5ec2f7c074f7660d73aa116e,2020-05-18T21:02:38.216Z\\n5d7c994d5720533e15c3b1e9,5ec2f7c074f7660d73aa116e,2020-05-18T21:02:12.448Z\\n5d7c994d5720533e15c3b1e9,5ec2b27974f7660d73aa1115,2020-05-18T20:57:56.794Z\\n5e35a5ed8d344822fed4d13e,5ec278b574f7660d73aa10d5,2020-05-18T19:47:28.709Z\\n5e35a5ed8d344822fed4d13e,5ec2b27974f7660d73aa1115,2020-05-18T19:46:18.568Z\\n5d60098a653a331687083238,5ec2e16074f7660d73aa1154,2020-05-18T19:28:03.673Z\\n5d60098a653a331687083238,5ec278b574f7660d73aa10d5,2020-05-18T18:26:20.006Z\\n5d60098a653a331687083238,5ec2d29074f7660d73aa113b,2020-05-18T18:23:39.914Z\\n5e7cf05bcfc8b713f5ac7db7,5ec2b27974f7660d73aa1115,2020-05-18T16:40:18.228Z\\n5d610ae1653a331687083239,5ec2b27974f7660d73aa1115,2020-05-18T16:19:21.543Z\\n5d60098a653a331687083238,5ec2b27974f7660d73aa1115,2020-05-18T16:16:32.132Z\\n5defd51362624b0135ea9fd2,5ec2b27974f7660d73aa1115,2020-05-18T16:11:48.004Z\\n5df49b32cc709107827fb3c7,5ec2b27974f7660d73aa1115,2020-05-18T16:06:27.679Z\\n5d7c994d5720533e15c3b1e9,5e52f911d701ab08af792a12,2020-05-18T15:50:27.656Z\\n5d7c994d5720533e15c3b1e9,5ec278b574f7660d73aa10d5,2020-05-18T15:11:42.561Z\\n5df49b32cc709107827fb3c7,5e7a0fa1cfc8b713f5ac7d78,2020-05-18T14:50:49.047Z\\n5e3563348d344822fed4d13a,5ebd5b46514aab59896bcd5a,2020-05-18T14:49:42.152Z\\n5e3563348d344822fed4d13a,5ec278b574f7660d73aa10d5,2020-05-18T14:47:25.996Z\\n5e5af599d701ab08af792b63,5ebd5b46514aab59896bcd5a,2020-05-18T14:28:08.113Z\\n5e7cf05bcfc8b713f5ac7db7,5ebd5b46514aab59896bcd5a,2020-05-18T14:27:06.515Z\\n5e7cf05bcfc8b713f5ac7db7,5eb2c11210426255a7aaa052,2020-05-18T14:26:24.958Z\\n5e7cf05bcfc8b713f5ac7db7,5ebc3239514aab59896bcc86,2020-05-18T14:25:44.224Z\\n5d7c994d5720533e15c3b1e9,5ebd1111514aab59896bcd1c,2020-05-18T14:25:04.673Z\\n5defd51362624b0135ea9fd2,5ebc3239514aab59896bcc86,2020-05-18T14:24:38.251Z\\n5defd51362624b0135ea9fd2,5ec278b574f7660d73aa10d5,2020-05-18T14:23:57.695Z\\n5ec2204374f7660d73aa100f,5ec2215374f7660d73aa1011,2020-05-18T11:55:54.671Z\\n5deeef6142a8854bf6eabab9,5ec2215374f7660d73aa1011,2020-05-18T11:27:26.052Z\\n5e5af599d701ab08af792b63,5ec1fd0974f7660d73aa0fd5,2020-05-18T11:26:32.366Z\\n5e5af599d701ab08af792b63,5ec2215374f7660d73aa1011,2020-05-18T11:26:06.291Z\\n5ec11abc74f7660d73aa0fbd,5ec2215374f7660d73aa1011,2020-05-18T11:25:56.596Z\\n5ec11abc74f7660d73aa0fbd,5eba2dd3514aab59896bcc57,2020-05-18T11:25:42.717Z\\n5d7c994d5720533e15c3b1e9,5ec2215374f7660d73aa1011,2020-05-18T11:25:27.961Z\\n5df49b32cc709107827fb3c7,5ec2215374f7660d73aa1011,2020-05-18T09:37:02.795Z\\n5d6d2bb87fa40e1417a49315,5ec2215374f7660d73aa1011,2020-05-18T09:35:04.556Z\\n5e3563348d344822fed4d13a,5ec2215374f7660d73aa1011,2020-05-18T09:34:26.487Z\\n5defd51362624b0135ea9fd2,5ec2215374f7660d73aa1011,2020-05-18T09:33:58.213Z\\n5e7cf05bcfc8b713f5ac7db7,5ec2215374f7660d73aa1011,2020-05-18T09:33:11.954Z\\n5e35a5ed8d344822fed4d13e,5ec2215374f7660d73aa1011,2020-05-18T09:32:18.855Z\\n5d6d2bb87fa40e1417a49315,5ec1fd0974f7660d73aa0fd5,2020-05-18T08:38:59.485Z\\n5de50d768eab6401affbb135,5ec1fd0974f7660d73aa0fd5,2020-05-18T08:38:14.735Z\\n5e35a5ed8d344822fed4d13e,5ec1fd0974f7660d73aa0fd5,2020-05-18T08:37:39.597Z\\n5deeef6142a8854bf6eabab9,5ec1fd0974f7660d73aa0fd5,2020-05-18T08:36:59.965Z\\n5e3563348d344822fed4d13a,5ec1fd0974f7660d73aa0fd5,2020-05-18T08:36:20.355Z\\n5df49b32cc709107827fb3c7,5ec1fd0974f7660d73aa0fd5,2020-05-18T08:35:28.241Z\\n5e7cf05bcfc8b713f5ac7db7,5ec1fd0974f7660d73aa0fd5,2020-05-18T08:34:57.429Z\\n5defd51362624b0135ea9fd2,5ec1fd0974f7660d73aa0fd5,2020-05-18T08:34:17.035Z\\n5d610ae1653a331687083239,5ec1fd0974f7660d73aa0fd5,2020-05-18T08:32:31.595Z\\n5e37b16ceab55d319938a6f8,5ec1fd0974f7660d73aa0fd5,2020-05-18T06:14:33.289Z\\n5d60098a653a331687083238,5e8cb88ea3258347b42f267e,2020-05-18T06:11:17.888Z\\n5d60098a653a331687083238,5ec1fd0974f7660d73aa0fd5,2020-05-18T06:08:58.145Z\\n5d60098a653a331687083238,5ec2215374f7660d73aa1011,2020-05-18T06:02:26.406Z\\n5ec2204374f7660d73aa100f,5ec1fd0974f7660d73aa0fd5,2020-05-18T05:48:40.334Z\\n5eb2cad810426255a7aaa072,5eb2ce0c10426255a7aaa078,2020-05-18T05:22:50.180Z\\n5eb2cad810426255a7aaa072,5ec1fd0974f7660d73aa0fd5,2020-05-18T05:21:48.415Z\\n5d7c994d5720533e15c3b1e9,5ec1fd0974f7660d73aa0fd5,2020-05-18T03:14:07.847Z\\n5d60098a653a331687083238,5e7082f91b24db0468e90cc5,2020-05-16T17:47:26.889Z\\n5e4195c3eab55d319938a82c,5eb2c11210426255a7aaa052,2020-05-15T16:00:57.819Z\\n5d7c994d5720533e15c3b1e9,5e4ef199f5561b1994c8e4a4,2020-05-15T12:43:31.234Z\\n5d7c994d5720533e15c3b1e9,5e52e7abd701ab08af7929f8,2020-05-15T11:55:02.765Z\\n5d7c994d5720533e15c3b1e9,5e51a9e8d701ab08af7929dc,2020-05-15T11:09:31.947Z\\n5e35a5ed8d344822fed4d13e,5ebd1111514aab59896bcd1c,2020-05-15T10:09:31.516Z\\n5e35a5ed8d344822fed4d13e,5ea11fbd10426255a7aa9a38,2020-05-15T08:31:36.424Z\\n5e35a5ed8d344822fed4d13e,5eb13a3610426255a7aa9fc5,2020-05-15T08:30:51.165Z\\n5e35a5ed8d344822fed4d13e,5eba2dd3514aab59896bcc57,2020-05-15T08:30:33.885Z\\n5e35a5ed8d344822fed4d13e,5eba2e94514aab59896bcc5a,2020-05-15T08:30:23.524Z\\n5df49b32cc709107827fb3c7,5e7a633ecfc8b713f5ac7d85,2020-05-15T08:29:36.385Z\\n5df49b32cc709107827fb3c7,5ea3236810426255a7aa9ac8,2020-05-15T08:28:42.633Z\\n5df49b32cc709107827fb3c7,5eba2e94514aab59896bcc5a,2020-05-15T08:28:25.532Z\\n5df49b32cc709107827fb3c7,5eba2dd3514aab59896bcc57,2020-05-15T08:28:16.578Z\\n5d7c994d5720533e15c3b1e9,5eba2dd3514aab59896bcc57,2020-05-15T08:27:38.253Z\\n5deeef6142a8854bf6eabab9,5eba2dd3514aab59896bcc57,2020-05-15T08:26:59.043Z\\n5e3563348d344822fed4d13a,5eba2dd3514aab59896bcc57,2020-05-15T08:26:03.926Z\\n5defd51362624b0135ea9fd2,5eba2dd3514aab59896bcc57,2020-05-15T08:25:07.629Z\\n5e5af599d701ab08af792b63,5eba2dd3514aab59896bcc57,2020-05-15T08:24:35.651Z\\n5e5af599d701ab08af792b63,5eba2e94514aab59896bcc5a,2020-05-15T08:23:44.873Z\\n5e3563348d344822fed4d13a,5eba2e94514aab59896bcc5a,2020-05-15T08:23:03.796Z\\n5defd51362624b0135ea9fd2,5eba2e94514aab59896bcc5a,2020-05-15T08:21:51.211Z\\n5d610ae1653a331687083239,5eba2e94514aab59896bcc5a,2020-05-15T08:21:03.265Z\\n5d610ae1653a331687083239,5eb0f27f10426255a7aa9fa2,2020-05-15T08:11:17.860Z\\n5d7c994d5720533e15c3b1e9,5eb0f27f10426255a7aa9fa2,2020-05-15T08:09:54.811Z\\n5d60098a653a331687083238,5eadc2f710426255a7aa9ee4,2020-05-15T08:01:22.868Z\\n5d60098a653a331687083238,5e5b59cbd701ab08af792b90,2020-05-15T08:00:56.079Z\\n5d60098a653a331687083238,5eb4fab110426255a7aaa0ed,2020-05-15T07:57:41.457Z\\n5d60098a653a331687083238,5eb4f80810426255a7aaa0ce,2020-05-15T07:57:31.409Z\\n5d60098a653a331687083238,5eb4fbe910426255a7aaa105,2020-05-15T07:57:12.647Z\\n5d60098a653a331687083238,5eb7b10ffd92f539c465ddda,2020-05-15T07:56:33.657Z\\n5d60098a653a331687083238,5ebcf6ea514aab59896bcd09,2020-05-15T07:55:34.015Z\\n5d60098a653a331687083238,5eb1407c10426255a7aa9fdb,2020-05-15T07:51:17.808Z\\n5d60098a653a331687083238,5eb15a9810426255a7aaa019,2020-05-15T07:50:56.002Z\\n5d60098a653a331687083238,5ebd5b46514aab59896bcd5a,2020-05-14T15:27:33.637Z\\n5deeef6142a8854bf6eabab9,5ebd5b46514aab59896bcd5a,2020-05-14T14:54:57.652Z\\n5d7c994d5720533e15c3b1e9,5ebd5b46514aab59896bcd5a,2020-05-14T14:53:48.267Z\\n5d7c994d5720533e15c3b1e9,5eb2c11210426255a7aaa052,2020-05-14T14:47:43.777Z\\n5df49b32cc709107827fb3c7,5eb2c11210426255a7aaa052,2020-05-14T09:46:38.505Z\\n5d610ae1653a331687083239,5ebd1111514aab59896bcd1c,2020-05-14T09:40:35.649Z\\n5d610ae1653a331687083239,5ebcf6ea514aab59896bcd09,2020-05-14T09:40:12.606Z\\n5ebcf2f2514aab59896bcd00,5ea7cd9610426255a7aa9bd2,2020-05-14T07:58:05.542Z\\n5ebcf2f2514aab59896bcd00,5eab962e10426255a7aa9cb8,2020-05-14T07:58:02.506Z\\n5df49b32cc709107827fb3c7,5e7a0d85cfc8b713f5ac7d77,2020-05-14T07:48:08.675Z\\n5d60098a653a331687083238,5ebc3239514aab59896bcc86,2020-05-14T02:41:55.200Z\\n5df49b32cc709107827fb3c7,5ebc3239514aab59896bcc86,2020-05-13T19:24:38.749Z\\n5d610ae1653a331687083239,5eb159a610426255a7aaa015,2020-05-13T19:09:31.549Z\\n5d610ae1653a331687083239,5eb4f80810426255a7aaa0ce,2020-05-13T19:09:02.929Z\\n5d610ae1653a331687083239,5eb4fab110426255a7aaa0ed,2020-05-13T19:08:49.711Z\\n5d610ae1653a331687083239,5eb4fbe910426255a7aaa105,2020-05-13T19:08:34.420Z\\n5d610ae1653a331687083239,5eb7b10ffd92f539c465ddda,2020-05-13T19:06:57.310Z\\n5d6d2bb87fa40e1417a49315,5ea3227010426255a7aa9ac1,2020-05-13T19:02:43.296Z\\n5d6d2bb87fa40e1417a49315,5ea3236810426255a7aa9ac8,2020-05-13T19:02:32.367Z\\n5d6d2bb87fa40e1417a49315,5eba2dd3514aab59896bcc57,2020-05-13T19:02:20.736Z\\n5d6d2bb87fa40e1417a49315,5eba2e94514aab59896bcc5a,2020-05-13T19:00:43.797Z\\n5d6d2bb87fa40e1417a49315,5e7a63c2cfc8b713f5ac7d86,2020-05-13T18:59:07.287Z\\n5d6d2bb87fa40e1417a49315,5ebc3239514aab59896bcc86,2020-05-13T18:58:56.506Z\\n5d6d2bb87fa40e1417a49315,5eabfaf510426255a7aa9da0,2020-05-13T18:57:27.798Z\\n5d6d2bb87fa40e1417a49315,5eb2c11210426255a7aaa052,2020-05-13T18:56:01.184Z\\n5ebc2ec4514aab59896bcc84,5e95f44ba3258347b42f2a31,2020-05-13T18:08:42.053Z\\n5e1ef04c2a37d20505da2b8b,5ebc3239514aab59896bcc86,2020-05-13T17:55:59.428Z\\n5d610ae1653a331687083239,5ebc3239514aab59896bcc86,2020-05-13T17:46:15.767Z\\n5df49b32cc709107827fb3c7,5eb6e04ffd92f539c465dd8f,2020-05-13T09:33:00.650Z\\n5df49b32cc709107827fb3c7,5ea5aacd10426255a7aa9b71,2020-05-13T09:20:46.457Z\\n5e4195c3eab55d319938a82c,5dde6a91369b28584ecca156,2020-05-13T06:55:45.899Z\\n5e942f7ba3258347b42f280e,5ea3227010426255a7aa9ac1,2020-05-12T04:56:34.192Z\\n5e942f7ba3258347b42f280e,5ea321dd10426255a7aa9abd,2020-05-12T04:56:15.314Z\\n5e26bb482a37d20505da2c10,5e4d359cf5561b1994c8e424,2020-05-11T14:33:43.258Z\\n5e4195c3eab55d319938a82c,5eb45ca210426255a7aaa0b5,2020-05-11T14:27:43.202Z\\n5ded443342a8854bf6eaba9a,5dea816a42a8854bf6eaba89,2020-05-11T12:09:04.357Z\\n5e1ef04c2a37d20505da2b8b,5e9db770a3258347b42f2dcf,2020-05-10T20:21:16.007Z\\n5e1ef04c2a37d20505da2b8b,5e2d4d63c85ab714a7da66db,2020-05-10T20:20:05.511Z\\n5e1ef04c2a37d20505da2b8b,5db2a7d099cbb90e4339c734,2020-05-10T20:18:43.326Z\\n5e1ef04c2a37d20505da2b8b,5dbc622a99cbb90e4339c7f6,2020-05-10T20:17:51.006Z\\n5e1ef04c2a37d20505da2b8b,5e99b786a3258347b42f2bfd,2020-05-10T20:16:10.807Z\\n5e1ef04c2a37d20505da2b8b,5e9f4421a3258347b42f2e54,2020-05-10T20:15:49.236Z\\n5e1ef04c2a37d20505da2b8b,5eb1569910426255a7aaa007,2020-05-10T20:06:46.152Z\\n5e1ef04c2a37d20505da2b8b,5eb159a610426255a7aaa015,2020-05-10T20:05:56.297Z\\n5e1ef04c2a37d20505da2b8b,5eb15a9810426255a7aaa019,2020-05-10T20:05:18.602Z\\n5e1ef04c2a37d20505da2b8b,5e948fdfa3258347b42f28ca,2020-05-10T20:02:43.741Z\\n5e1ef04c2a37d20505da2b8b,5e9486f6a3258347b42f287a,2020-05-10T20:02:33.081Z\\n5e1ef04c2a37d20505da2b8b,5eb6e04ffd92f539c465dd8f,2020-05-10T20:01:37.238Z\\n5e1ef04c2a37d20505da2b8b,5eb1551e10426255a7aaa003,2020-05-10T19:59:13.094Z\\n5e1ef04c2a37d20505da2b8b,5eb158d410426255a7aaa011,2020-05-10T19:58:43.847Z\\n5e1ef04c2a37d20505da2b8b,5eb6df2dfd92f539c465dd89,2020-05-10T19:57:35.284Z\\n5e1ef04c2a37d20505da2b8b,5eb6de2dfd92f539c465dd83,2020-05-10T19:57:17.267Z\\n5e1ef04c2a37d20505da2b8b,5eb15a9810426255a7aaa019,2020-05-10T19:56:11.227Z\\n5ea6c62410426255a7aa9bae,5eb6dc4cfd92f539c465dd77,2020-05-10T08:47:46.608Z\\n5ea6c62410426255a7aa9bae,5eb7b10ffd92f539c465ddda,2020-05-10T08:47:28.585Z\\n5ea6c62410426255a7aa9bae,5e9eececa3258347b42f2e11,2020-05-10T08:44:03.198Z\\n5eb7aeccfd92f539c465ddd7,5e77c625cfc8b713f5ac7c0b,2020-05-10T07:47:40.314Z\\n5eb7aeccfd92f539c465ddd7,5eb7b10ffd92f539c465ddda,2020-05-10T07:45:54.939Z\\n5deeef6142a8854bf6eabab9,5e2d36ebc85ab714a7da66d1,2020-05-09T17:00:32.390Z\\n5deeef6142a8854bf6eabab9,5e2d447dc85ab714a7da66d7,2020-05-09T17:00:12.702Z\\n5deeef6142a8854bf6eabab9,5eb1358910426255a7aa9fba,2020-05-09T17:00:04.867Z\\n5deeef6142a8854bf6eabab9,5eb13a3610426255a7aa9fc5,2020-05-09T16:59:58.880Z\\n5deeef6142a8854bf6eabab9,5eb1373110426255a7aa9fc1,2020-05-09T16:59:52.665Z\\n5deeef6142a8854bf6eabab9,5eb13e2a10426255a7aa9fcf,2020-05-09T16:59:47.420Z\\n5deeef6142a8854bf6eabab9,5eb13ee710426255a7aa9fd3,2020-05-09T16:59:41.766Z\\n5deeef6142a8854bf6eabab9,5eb1407c10426255a7aa9fdb,2020-05-09T16:59:36.377Z\\n5deeef6142a8854bf6eabab9,5eb1478a10426255a7aa9feb,2020-05-09T16:59:30.949Z\\n5deeef6142a8854bf6eabab9,5eb1485410426255a7aa9fef,2020-05-09T16:59:26.348Z\\n5deeef6142a8854bf6eabab9,5eb1490610426255a7aa9ff4,2020-05-09T16:59:20.611Z\\n5deeef6142a8854bf6eabab9,5eb153ca10426255a7aa9fff,2020-05-09T16:59:09.600Z\\n5deeef6142a8854bf6eabab9,5eb1551e10426255a7aaa003,2020-05-09T16:59:05.365Z\\n5deeef6142a8854bf6eabab9,5eb1569910426255a7aaa007,2020-05-09T16:58:59.841Z\\n5deeef6142a8854bf6eabab9,5eb158d410426255a7aaa011,2020-05-09T16:58:55.528Z\\n5deeef6142a8854bf6eabab9,5eb159a610426255a7aaa015,2020-05-09T16:58:51.617Z\\n5deeef6142a8854bf6eabab9,5eb15a9810426255a7aaa019,2020-05-09T16:58:47.541Z\\n5deeef6142a8854bf6eabab9,5e2d4737c85ab714a7da66d9,2020-05-09T16:57:52.757Z\\n5deeef6142a8854bf6eabab9,5eb6e04ffd92f539c465dd8f,2020-05-09T16:57:24.327Z\\n5deeef6142a8854bf6eabab9,5eb6df2dfd92f539c465dd89,2020-05-09T16:57:18.829Z\\n5deeef6142a8854bf6eabab9,5eb6de2dfd92f539c465dd83,2020-05-09T16:57:14.197Z\\n5deeef6142a8854bf6eabab9,5eb6dd5afd92f539c465dd7d,2020-05-09T16:57:07.442Z\\n5deeef6142a8854bf6eabab9,5eb6dc4cfd92f539c465dd77,2020-05-09T16:57:02.207Z\\n5deeef6142a8854bf6eabab9,5eb6db91fd92f539c465dd71,2020-05-09T16:56:55.488Z\\n5d7c994d5720533e15c3b1e9,5eb2c11210426255a7aaa052,2020-05-09T15:03:56.798Z\\n5e4195c3eab55d319938a82c,5e8c2d01a3258347b42f2627,2020-05-09T14:55:12.290Z\\n5d610ae1653a331687083239,5e8c2d01a3258347b42f2627,2020-05-09T14:54:37.306Z\\n5e4195c3eab55d319938a82c,5ea5ce9310426255a7aa9b8d,2020-05-09T14:53:45.296Z\\n5d610ae1653a331687083239,5e2d4737c85ab714a7da66d9,2020-05-08T15:49:03.506Z\\n5d610ae1653a331687083239,5e9f3f16a3258347b42f2e3c,2020-05-08T15:47:59.926Z\\n5d610ae1653a331687083239,5eb1490610426255a7aa9ff4,2020-05-08T15:47:30.704Z\\n5d610ae1653a331687083239,5eb1485410426255a7aa9fef,2020-05-08T15:47:17.208Z\\n5d610ae1653a331687083239,5eb1478a10426255a7aa9feb,2020-05-08T15:47:03.472Z\\n5d610ae1653a331687083239,5eb1407c10426255a7aa9fdb,2020-05-08T15:46:48.266Z\\n5d610ae1653a331687083239,5eb13e2a10426255a7aa9fcf,2020-05-08T15:46:26.604Z\\n5d610ae1653a331687083239,5eb1358910426255a7aa9fba,2020-05-08T15:46:04.079Z\\n5d610ae1653a331687083239,5eb1373110426255a7aa9fc1,2020-05-08T15:43:59.964Z\\n5d610ae1653a331687083239,5e2d3fbfc85ab714a7da66d5,2020-05-08T15:43:35.415Z\\n5d610ae1653a331687083239,5e2d516fc85ab714a7da66dd,2020-05-08T15:43:22.633Z\\n5d610ae1653a331687083239,5eb13a3610426255a7aa9fc5,2020-05-08T15:42:59.446Z\\n5d610ae1653a331687083239,5eb153ca10426255a7aa9fff,2020-05-08T14:50:34.592Z\\n5d610ae1653a331687083239,5eb1551e10426255a7aaa003,2020-05-08T14:50:13.040Z\\n5e1ef04c2a37d20505da2b8b,5e2d4737c85ab714a7da66d9,2020-05-08T14:49:55.791Z\\n5d610ae1653a331687083239,5eb1569910426255a7aaa007,2020-05-08T14:49:52.363Z\\n5d610ae1653a331687083239,5eb158d410426255a7aaa011,2020-05-08T14:49:42.735Z\\n5e1ef04c2a37d20505da2b8b,5eb13ee710426255a7aa9fd3,2020-05-08T14:49:27.557Z\\n5d610ae1653a331687083239,5eb159a610426255a7aaa015,2020-05-08T14:47:57.625Z\\n5d610ae1653a331687083239,5eb15a9810426255a7aaa019,2020-05-08T14:47:45.810Z\\n5d610ae1653a331687083239,5e2d4737c85ab714a7da66d9,2020-05-08T14:41:04.414Z\\n5d610ae1653a331687083239,5e2d36ebc85ab714a7da66d1,2020-05-08T14:40:52.655Z\\n5d610ae1653a331687083239,5e2d447dc85ab714a7da66d7,2020-05-08T14:40:41.246Z\\n5df3f8f2ee4bb5252b4f5393,5eaf8b9310426255a7aa9f7e,2020-05-08T11:32:39.382Z\\n5df3f8f2ee4bb5252b4f5393,5eb4fbe910426255a7aaa105,2020-05-08T11:32:07.810Z\\n5eb508ae10426255a7aaa12c,5eb1df6d10426255a7aaa029,2020-05-08T07:24:32.842Z\\n5eb508ae10426255a7aaa12c,5eb2c11210426255a7aaa052,2020-05-08T07:23:39.618Z\\n5eb4f73910426255a7aaa0cc,5e5e3b35fbc8805f69e02c9e,2020-05-08T06:12:22.122Z\\n5eb4f73910426255a7aaa0cc,5e5facf649d7f322c033e02b,2020-05-08T06:12:21.329Z\\n5eb4f73910426255a7aaa0cc,5e733f1c1b24db0468e90cf1,2020-05-08T06:12:21.160Z\\n5eb4f73910426255a7aaa0cc,5e7de250a3258347b42f210a,2020-05-08T06:12:17.121Z\\n5eb4f73910426255a7aaa0cc,5ea7cd9610426255a7aa9bd2,2020-05-08T06:12:13.088Z\\n5eb4f73910426255a7aaa0cc,5eab962e10426255a7aa9cb8,2020-05-08T06:12:06.170Z\\n5d7c994d5720533e15c3b1e9,5eb2c11210426255a7aaa052,2020-05-07T20:17:05.154Z\\n5df3f8f2ee4bb5252b4f5393,5eb1490610426255a7aa9ff4,2020-05-07T19:14:18.583Z\\n5df3f8f2ee4bb5252b4f5393,5eb45ca210426255a7aaa0b5,2020-05-07T19:08:40.224Z\\n5d7c994d5720533e15c3b1e9,5ea3227010426255a7aa9ac1,2020-05-07T18:38:40.377Z\\n5d7c994d5720533e15c3b1e9,5eabfaf510426255a7aa9da0,2020-05-07T18:38:20.180Z\\n5d7c994d5720533e15c3b1e9,5eabf76a10426255a7aa9cfb,2020-05-07T18:37:55.189Z\\n5d7c994d5720533e15c3b1e9,5eac350110426255a7aa9e92,2020-05-07T18:36:58.101Z\\n5d7c994d5720533e15c3b1e9,5e5b561cd701ab08af792b8a,2020-05-07T18:32:17.440Z\\n5d7c994d5720533e15c3b1e9,5e5b59bcd701ab08af792b8f,2020-05-07T18:32:08.958Z\\n5d7c994d5720533e15c3b1e9,5ea3236810426255a7aa9ac8,2020-05-07T18:28:12.573Z\\n5d7c994d5720533e15c3b1e9,5eb2cbde10426255a7aaa074,2020-05-07T13:30:38.110Z\\n5d7c994d5720533e15c3b1e9,5eb2ce0c10426255a7aaa078,2020-05-07T13:29:26.470Z\\n5e26bb482a37d20505da2c10,5e31a591c85ab714a7da6760,2020-05-07T13:16:48.767Z\\n5e26bb482a37d20505da2c10,5e27002d2a37d20505da2c13,2020-05-07T13:16:20.735Z\\n5e26bb482a37d20505da2c10,5e2f1811c85ab714a7da670d,2020-05-07T13:15:48.574Z\\n5e26bb482a37d20505da2c10,5e2867f6025ae20886de205a,2020-05-07T13:15:41.227Z\\n5e1ef04c2a37d20505da2b8b,5e2d447dc85ab714a7da66d7,2020-05-07T08:29:34.235Z\\n5e1ef04c2a37d20505da2b8b,5e2d36ebc85ab714a7da66d1,2020-05-07T08:28:51.505Z\\n5d60098a653a331687083238,5eb3ba7f10426255a7aaa09e,2020-05-07T07:37:49.585Z\\n5d60098a653a331687083238,5eaed2f210426255a7aa9eef,2020-05-07T06:08:56.482Z\\n5d60098a653a331687083238,5eab002f10426255a7aa9c6c,2020-05-07T06:07:30.695Z\\n5d60098a653a331687083238,5ea85c1f10426255a7aa9c05,2020-05-07T06:05:22.662Z\\n5d60098a653a331687083238,5eaf8b9310426255a7aa9f7e,2020-05-07T06:03:46.200Z\\n5d60098a653a331687083238,5eb1551e10426255a7aaa003,2020-05-07T06:01:34.629Z\\n5d60098a653a331687083238,5eb2c11210426255a7aaa052,2020-05-07T06:01:15.409Z\\n5d60098a653a331687083238,5eb1df6d10426255a7aaa029,2020-05-07T06:00:32.170Z\\n5d60098a653a331687083238,5eb2ce0c10426255a7aaa078,2020-05-07T05:59:30.349Z\\n5d60098a653a331687083238,5eb1ac4510426255a7aaa024,2020-05-07T05:59:11.289Z\\n5eb2cad810426255a7aaa072,5eb159a610426255a7aaa015,2020-05-07T02:20:26.726Z\\n5d7c994d5720533e15c3b1e9,5eb2cbde10426255a7aaa074,2020-05-06T15:09:31.997Z\\n5eb2cad810426255a7aaa072,5eb2cbde10426255a7aaa074,2020-05-06T15:07:23.061Z\\n5d610ae1653a331687083239,5eb2c11210426255a7aaa052,2020-05-06T15:07:02.962Z\\n5d7c994d5720533e15c3b1e9,5eb2c11210426255a7aaa052,2020-05-06T15:02:30.496Z\\n5d7c994d5720533e15c3b1e9,5eb2c11210426255a7aaa052,2020-05-06T13:59:05.304Z\\n5e1ef04c2a37d20505da2b8b,5ea5ce9310426255a7aa9b8d,2020-05-06T07:46:12.652Z\\n5e5af599d701ab08af792b63,5eaf3d4110426255a7aa9f4c,2020-05-06T06:12:37.321Z\\n5e5af599d701ab08af792b63,5eaed2f210426255a7aa9eef,2020-05-05T23:00:18.161Z\\n5e5af599d701ab08af792b63,5eadc2f710426255a7aa9ee4,2020-05-05T22:09:16.257Z\\n5d7c994d5720533e15c3b1e9,5eb1407c10426255a7aa9fdb,2020-05-05T21:54:13.957Z\\n5d7c994d5720533e15c3b1e9,5eb1df6d10426255a7aaa029,2020-05-05T21:52:00.703Z\\n5e4195c3eab55d319938a82c,5eb1ac4510426255a7aaa024,2020-05-05T18:12:35.334Z\\n5e1ef04c2a37d20505da2b8b,5eb158d410426255a7aaa011,2020-05-05T12:38:22.393Z\\n5e1ef04c2a37d20505da2b8b,5eb159a610426255a7aaa015,2020-05-05T12:38:17.017Z\\n5e1ef04c2a37d20505da2b8b,5eb15a9810426255a7aaa019,2020-05-05T12:38:12.216Z\\n5e1ef04c2a37d20505da2b8b,5eb153ca10426255a7aa9fff,2020-05-05T12:08:44.771Z\\n5e1ef04c2a37d20505da2b8b,5eb1551e10426255a7aaa003,2020-05-05T12:08:39.212Z\\n5e1ef04c2a37d20505da2b8b,5eb1569910426255a7aaa007,2020-05-05T12:08:32.465Z\\n5e1ef04c2a37d20505da2b8b,5eb1490610426255a7aa9ff4,2020-05-05T11:41:58.993Z\\n5e1ef04c2a37d20505da2b8b,5eb1485410426255a7aa9fef,2020-05-05T11:41:52.808Z\\n5e1ef04c2a37d20505da2b8b,5eb1478a10426255a7aa9feb,2020-05-05T11:04:59.796Z\\n5e1ef04c2a37d20505da2b8b,5e9486f6a3258347b42f287a,2020-05-05T10:38:57.913Z\\n5e1ef04c2a37d20505da2b8b,5e948db2a3258347b42f28ae,2020-05-05T10:38:47.791Z\\n5e1ef04c2a37d20505da2b8b,5e948fdfa3258347b42f28ca,2020-05-05T10:38:35.273Z\\n5e1ef04c2a37d20505da2b8b,5ea1d7ac10426255a7aa9a66,2020-05-05T10:34:54.203Z\\n5e1ef04c2a37d20505da2b8b,5eac350110426255a7aa9e92,2020-05-05T10:33:25.873Z\\n5e1ef04c2a37d20505da2b8b,5eb1407c10426255a7aa9fdb,2020-05-05T10:31:37.845Z\\n5e1ef04c2a37d20505da2b8b,5eb13ee710426255a7aa9fd3,2020-05-05T10:25:06.491Z\\n5e1ef04c2a37d20505da2b8b,5eb13e2a10426255a7aa9fcf,2020-05-05T10:24:54.980Z\\n5e1ef04c2a37d20505da2b8b,5eb1373110426255a7aa9fc1,2020-05-05T10:07:38.133Z\\n5e1ef04c2a37d20505da2b8b,5eb13a3610426255a7aa9fc5,2020-05-05T10:07:29.525Z\\n5e1ef04c2a37d20505da2b8b,5eb1358910426255a7aa9fba,2020-05-05T09:46:22.122Z\\n5e1ef04c2a37d20505da2b8b,5e2d4d63c85ab714a7da66db,2020-05-05T09:10:48.328Z\\n5e1ef04c2a37d20505da2b8b,5e2d4737c85ab714a7da66d9,2020-05-05T09:10:24.133Z\\n5e1ef04c2a37d20505da2b8b,5e2d447dc85ab714a7da66d7,2020-05-05T09:09:33.238Z\\n5e1ef04c2a37d20505da2b8b,5e2d3fbfc85ab714a7da66d5,2020-05-05T09:08:53.958Z\\n5e1ef04c2a37d20505da2b8b,5e2d36ebc85ab714a7da66d1,2020-05-05T09:08:11.712Z\\n5e1ef04c2a37d20505da2b8b,5e2d516fc85ab714a7da66dd,2020-05-05T09:00:22.634Z\\n5e0d5ce12a37d20505da2a5d,5eaf8b9310426255a7aa9f7e,2020-05-05T07:21:17.644Z\\n5d610ae1653a331687083239,5eaed2f210426255a7aa9eef,2020-05-04T18:41:19.797Z\\n5d610ae1653a331687083239,5eaf8b9310426255a7aa9f7e,2020-05-04T18:31:33.436Z\\n5e5af599d701ab08af792b63,5eac578010426255a7aa9eba,2020-05-04T09:46:31.728Z\\n5e0d5ce12a37d20505da2a5d,5e4a3cf6f5561b1994c8e378,2020-05-04T03:43:58.103Z\\n5d610ae1653a331687083239,5eaf322910426255a7aa9efa,2020-05-03T23:24:55.941Z\\n5d610ae1653a331687083239,5eaf4d4210426255a7aa9f76,2020-05-03T23:24:28.105Z\\n5e7f4ad1a3258347b42f2155,5eaf4d4210426255a7aa9f76,2020-05-03T23:01:35.141Z\\n5d610ae1653a331687083239,5eabeec210426255a7aa9cd2,2020-05-03T20:36:26.055Z\\n5df3f8f2ee4bb5252b4f5393,5eaed2f210426255a7aa9eef,2020-05-03T14:19:45.213Z\\n5d7c994d5720533e15c3b1e9,5eac350110426255a7aa9e92,2020-05-03T05:35:43.494Z\\n5df3f8f2ee4bb5252b4f5393,5eabeec210426255a7aa9cd2,2020-05-02T10:33:53.585Z\\n5d60098a653a331687083238,5d62abaa65218653a132c956,2020-05-02T08:46:12.104Z\\n5d60098a653a331687083238,5eac350110426255a7aa9e92,2020-05-02T08:45:03.414Z\\n5d60098a653a331687083238,5eac349010426255a7aa9e29,2020-05-02T08:42:01.960Z\\n5d60098a653a331687083238,5eabfaf510426255a7aa9da0,2020-05-02T08:40:17.759Z\\n5d60098a653a331687083238,5eabeec210426255a7aa9cd2,2020-05-02T08:38:53.570Z\\n5d60098a653a331687083238,5ea30f6010426255a7aa9a9c,2020-05-02T08:37:01.837Z\\n5d60098a653a331687083238,5eac578010426255a7aa9eba,2020-05-02T08:36:23.037Z\\n5d60098a653a331687083238,5eab942d10426255a7aa9ca7,2020-05-02T08:35:13.620Z\\n5d60098a653a331687083238,5eab924610426255a7aa9c90,2020-05-02T08:34:46.162Z\\n5d610ae1653a331687083239,5eab962e10426255a7aa9cb8,2020-05-01T17:43:06.006Z\\n5d610ae1653a331687083239,5eabeec210426255a7aa9cd2,2020-05-01T17:42:04.817Z\\n5d610ae1653a331687083239,5eac350110426255a7aa9e92,2020-05-01T17:30:28.406Z\\n5e5af599d701ab08af792b63,5ea80a7e10426255a7aa9be2,2020-05-01T17:07:03.919Z\\n5e5af599d701ab08af792b63,5eac350110426255a7aa9e92,2020-05-01T17:06:11.029Z\\n5d610ae1653a331687083239,5eac305f10426255a7aa9dd3,2020-05-01T14:28:14.307Z\\n5d610ae1653a331687083239,5eac315210426255a7aa9dfe,2020-05-01T14:28:04.447Z\\n5d610ae1653a331687083239,5eabf76a10426255a7aa9cfb,2020-05-01T14:09:36.791Z\\n5d610ae1653a331687083239,5eabf76a10426255a7aa9cfb,2020-05-01T10:23:58.601Z\\n5d60098a653a331687083238,5e948786a3258347b42f287e,2020-05-01T07:52:50.626Z\\n5d60098a653a331687083238,5eab962e10426255a7aa9cb8,2020-05-01T06:48:06.149Z\\n5d60098a653a331687083238,5ea80a7e10426255a7aa9be2,2020-05-01T06:44:56.140Z\\n5eab903b10426255a7aa9c8e,5e5e3b35fbc8805f69e02c9e,2020-05-01T03:10:18.808Z\\n5eab903b10426255a7aa9c8e,5e5facf649d7f322c033e02b,2020-05-01T03:09:38.059Z\\n5eab903b10426255a7aa9c8e,5e733f1c1b24db0468e90cf1,2020-05-01T03:08:56.036Z\\n5eab903b10426255a7aa9c8e,5e7de250a3258347b42f210a,2020-05-01T03:08:20.757Z\\n5d60098a653a331687083238,5e9806f5a3258347b42f2b61,2020-04-30T18:22:14.180Z\\n5d60098a653a331687083238,5ea7cd9610426255a7aa9bd2,2020-04-30T18:19:56.081Z\\n5d60098a653a331687083238,5e9eececa3258347b42f2e11,2020-04-30T18:17:52.095Z\\n5d60098a653a331687083238,5ea323a010426255a7aa9aca,2020-04-30T18:17:02.045Z\\n5d60098a653a331687083238,5ea8618a10426255a7aa9c0d,2020-04-30T18:16:45.805Z\\n5d60098a653a331687083238,5eaaffe110426255a7aa9c5b,2020-04-30T18:15:49.156Z\\n5d90fc1a641ef364939fb6cc,5d9b3514979d5962253c2f90,2020-04-30T16:35:33.590Z\\n5d610ae1653a331687083239,5ea8618a10426255a7aa9c0d,2020-04-30T14:27:43.264Z\\n5ea83e8810426255a7aa9bf2,5d7d23315720533e15c3b1ee,2020-04-30T11:03:52.741Z\\n5ea83e8810426255a7aa9bf2,5e65346c85ae350860168b53,2020-04-30T06:09:57.993Z\\n5eaa137910426255a7aa9c41,5e5b6320d701ab08af792b9d,2020-04-29T23:56:25.684Z\\n5eaa137910426255a7aa9c41,5ea5ce9310426255a7aa9b8d,2020-04-29T23:54:44.597Z\\n5eaa137910426255a7aa9c41,5ea8618a10426255a7aa9c0d,2020-04-29T23:54:33.612Z\\n5d610ae1653a331687083239,5ea1ef0710426255a7aa9a7e,2020-04-28T22:37:51.408Z\\n5d7c994d5720533e15c3b1e9,5ea80a7e10426255a7aa9be2,2020-04-28T22:36:48.279Z\\n5ea890e410426255a7aa9c16,5e895d87a3258347b42f25bb,2020-04-28T20:32:37.712Z\\n5ea890e410426255a7aa9c16,5ea80a7e10426255a7aa9be2,2020-04-28T20:32:03.193Z\\n5ea890e410426255a7aa9c16,5ea1603a10426255a7aa9a3e,2020-04-28T20:31:09.573Z\\n5ea890e410426255a7aa9c16,5e9f4421a3258347b42f2e54,2020-04-28T20:30:51.171Z\\n5ea890e410426255a7aa9c16,5ea85c1f10426255a7aa9c05,2020-04-28T20:28:22.522Z\\n5ea83e8810426255a7aa9bf2,5e99c99fa3258347b42f2c05,2020-04-28T18:23:52.200Z\\n5ea83e8810426255a7aa9bf2,5e9f40b2a3258347b42f2e45,2020-04-28T18:23:06.282Z\\n5e5b4511d701ab08af792b6d,5ea85c1f10426255a7aa9c05,2020-04-28T16:39:21.374Z\\n5ea83e8810426255a7aa9bf2,5ea30f6010426255a7aa9a9c,2020-04-28T15:24:27.145Z\\n5d7c994d5720533e15c3b1e9,5ea7cd9610426255a7aa9bd2,2020-04-28T08:58:20.025Z\\n5d7c994d5720533e15c3b1e9,5ea5ce9310426255a7aa9b8d,2020-04-28T08:55:19.589Z\\n5e4ce251f5561b1994c8e40d,5ea7cd9610426255a7aa9bd2,2020-04-28T06:31:58.974Z\\n5d60098a653a331687083238,5ea1603a10426255a7aa9a3e,2020-04-28T06:04:37.815Z\\n5d60098a653a331687083238,5e9db770a3258347b42f2dcf,2020-04-28T06:01:40.110Z\\n5d60098a653a331687083238,5ea11fbd10426255a7aa9a38,2020-04-28T06:01:08.130Z\\n5d60098a653a331687083238,5ea319ee10426255a7aa9aa4,2020-04-28T06:00:51.690Z\\n5d60098a653a331687083238,5ea1ef0710426255a7aa9a7e,2020-04-28T06:00:29.509Z\\n5d60098a653a331687083238,5ea31ee710426255a7aa9ab3,2020-04-28T06:00:03.569Z\\n5d60098a653a331687083238,5ea3227010426255a7aa9ac1,2020-04-28T05:59:49.929Z\\n5d60098a653a331687083238,5ea3236810426255a7aa9ac8,2020-04-28T05:59:33.850Z\\n5ea6c05910426255a7aa9baa,5e5bdf4fd701ab08af792bfd,2020-04-27T12:58:02.041Z\\n5ea5bf5110426255a7aa9b88,5e9b6b20a3258347b42f2c8d,2020-04-26T19:21:27.749Z\\n5ea5bf5110426255a7aa9b88,5ea5aacd10426255a7aa9b71,2020-04-26T19:18:16.514Z\\n5d60098a653a331687083238,5ea5ce9310426255a7aa9b8d,2020-04-26T18:12:05.942Z\\n5df49b32cc709107827fb3c7,5ea5ce9310426255a7aa9b8d,2020-04-26T18:10:41.233Z\\n5ea5bf5110426255a7aa9b88,5ea1603a10426255a7aa9a3e,2020-04-26T17:10:26.448Z\\n5ea5ac4f10426255a7aa9b78,5e95f087a3258347b42f2a16,2020-04-26T16:31:01.933Z\\n5ea5ac4f10426255a7aa9b78,5e776c1fcfc8b713f5ac7b23,2020-04-26T16:23:55.714Z\\n5ea5ac4f10426255a7aa9b78,5e7743ebcfc8b713f5ac7aeb,2020-04-26T16:13:00.390Z\\n5ea5ac4f10426255a7aa9b78,5e948155a3258347b42f2850,2020-04-26T16:07:00.221Z\\n5ea5ac4f10426255a7aa9b78,5e9ff423a3258347b42f2e72,2020-04-26T16:02:41.163Z\\n5ea5ac4f10426255a7aa9b78,5e5e7e0afbc8805f69e02ca8,2020-04-26T15:59:17.995Z\\n5ea5af7110426255a7aa9b7c,5ea5aacd10426255a7aa9b71,2020-04-26T15:58:59.689Z\\n5ea5ac4f10426255a7aa9b78,5e9e2760a3258347b42f2df7,2020-04-26T15:56:45.398Z\\n5ea5ac4f10426255a7aa9b78,5e8164f9a3258347b42f21bf,2020-04-26T15:55:48.577Z\\n5ea5ac4f10426255a7aa9b78,5ea1603a10426255a7aa9a3e,2020-04-26T15:53:09.373Z\\n5d7c994d5720533e15c3b1e9,5ea5aacd10426255a7aa9b71,2020-04-26T15:39:45.651Z\\n5df49b32cc709107827fb3c7,5ea5aacd10426255a7aa9b71,2020-04-26T15:38:02.459Z\\n5df3f8f2ee4bb5252b4f5393,5ea45fdf10426255a7aa9b34,2020-04-26T14:26:17.370Z\\n5df3f8f2ee4bb5252b4f5393,5ea1603a10426255a7aa9a3e,2020-04-26T14:15:37.253Z\\n5d9a2982979d5962253c2f81,5e767d501b24db0468e90d54,2020-04-25T21:57:23.052Z\\n5d7c994d5720533e15c3b1e9,5ea029e9a3258347b42f2e85,2020-04-25T17:42:12.791Z\\n5d7c994d5720533e15c3b1e9,5ea319ee10426255a7aa9aa4,2020-04-25T17:40:27.524Z\\n5ea43f7310426255a7aa9b1d,5e9f3e1aa3258347b42f2e39,2020-04-25T13:48:59.687Z\\n5ea3f6dc10426255a7aa9aff,5e9f4045a3258347b42f2e42,2020-04-25T08:57:19.162Z\\n5ea3f6dc10426255a7aa9aff,5ea3236810426255a7aa9ac8,2020-04-25T08:56:40.103Z\\n5ea3f6dc10426255a7aa9aff,5e948db6a3258347b42f28b2,2020-04-25T08:54:43.140Z\\n5ea3f6dc10426255a7aa9aff,5e948e4ca3258347b42f28ba,2020-04-25T08:54:30.609Z\\n5ea3f6dc10426255a7aa9aff,5e948f05a3258347b42f28c2,2020-04-25T08:54:13.789Z\\n5ea3f6dc10426255a7aa9aff,5e9db770a3258347b42f2dcf,2020-04-25T08:52:00.974Z\\n5ea3f6dc10426255a7aa9aff,5e948fb8a3258347b42f28c6,2020-04-25T08:50:35.077Z\\n5ea3f6dc10426255a7aa9aff,5e948fdfa3258347b42f28ca,2020-04-25T08:50:08.029Z\\n5e5af599d701ab08af792b63,5e9eececa3258347b42f2e11,2020-04-24T19:39:57.298Z\\n5e5af599d701ab08af792b63,5ea2e85b10426255a7aa9a8c,2020-04-24T19:38:44.387Z\\n5e5af599d701ab08af792b63,5ea31ee710426255a7aa9ab3,2020-04-24T19:37:38.973Z\\n5e5af599d701ab08af792b63,5ea319ee10426255a7aa9aa4,2020-04-24T19:36:25.889Z\\n5d7c994d5720533e15c3b1e9,5ea31faf10426255a7aa9ab5,2020-04-24T17:44:44.435Z\\n5d7c994d5720533e15c3b1e9,5ea3213010426255a7aa9abb,2020-04-24T17:44:26.201Z\\n5d7c994d5720533e15c3b1e9,5ea321dd10426255a7aa9abd,2020-04-24T17:44:03.551Z\\n5d7c994d5720533e15c3b1e9,5ea3227010426255a7aa9ac1,2020-04-24T17:43:49.979Z\\n5d7c994d5720533e15c3b1e9,5e943363a3258347b42f2813,2020-04-24T17:43:12.820Z\\n5d7c994d5720533e15c3b1e9,5ea323a010426255a7aa9aca,2020-04-24T17:42:21.417Z\\n5d7c994d5720533e15c3b1e9,5ea3236810426255a7aa9ac8,2020-04-24T17:41:46.986Z\\n5d7c994d5720533e15c3b1e9,5ea30f6010426255a7aa9a9c,2020-04-24T17:35:05.435Z\\n5e5af599d701ab08af792b63,5e6eff8aed32a005135d6bb8,2020-04-24T17:34:23.378Z\\n5e942f7ba3258347b42f280e,5ea31e5610426255a7aa9ab0,2020-04-24T17:15:46.880Z\\n5ea3191210426255a7aa9aa2,5e733f1c1b24db0468e90cf1,2020-04-24T16:56:53.394Z\\n5ea3191210426255a7aa9aa2,5e5facf649d7f322c033e02b,2020-04-24T16:56:51.584Z\\n5ea3191210426255a7aa9aa2,5e7de250a3258347b42f210a,2020-04-24T16:56:49.430Z\\n5ea3191210426255a7aa9aa2,5e5e3b35fbc8805f69e02c9e,2020-04-24T16:56:48.129Z\\n5e5af599d701ab08af792b63,5ea30f6010426255a7aa9a9c,2020-04-24T16:24:57.257Z\\n5df3f8f2ee4bb5252b4f5393,5e9f4421a3258347b42f2e54,2020-04-24T13:24:39.008Z\\n5d610ae1653a331687083239,5ea07ddba3258347b42f2eb6,2020-04-23T18:35:37.425Z\\n5d610ae1653a331687083239,5ea1d7ac10426255a7aa9a66,2020-04-23T18:35:24.755Z\\n5df3f8f2ee4bb5252b4f5393,5ea1d7ac10426255a7aa9a66,2020-04-23T18:00:23.181Z\\n5d610ae1653a331687083239,5e9f4045a3258347b42f2e42,2020-04-23T09:38:43.262Z\\n5d610ae1653a331687083239,5e9f40b2a3258347b42f2e45,2020-04-23T09:38:27.764Z\\n5d610ae1653a331687083239,5e9f4155a3258347b42f2e48,2020-04-23T09:38:13.213Z\\n5d610ae1653a331687083239,5e9f4295a3258347b42f2e4e,2020-04-23T09:37:58.988Z\\n5d610ae1653a331687083239,5e9f439ba3258347b42f2e51,2020-04-23T09:37:44.962Z\\n5d610ae1653a331687083239,5e9f4421a3258347b42f2e54,2020-04-23T09:37:30.631Z\\n5d610ae1653a331687083239,5ea11fbd10426255a7aa9a38,2020-04-23T09:37:00.816Z\\n5d610ae1653a331687083239,5e980938a3258347b42f2b66,2020-04-23T09:36:40.510Z\\n5d610ae1653a331687083239,5ea029e9a3258347b42f2e85,2020-04-23T09:36:04.526Z\\n5df3f8f2ee4bb5252b4f5393,5e9f4421a3258347b42f2e54,2020-04-22T21:55:50.529Z\\n5df3f8f2ee4bb5252b4f5393,5e9ff423a3258347b42f2e72,2020-04-22T21:54:59.624Z\\n5e99b0d4a3258347b42f2bf0,5e9f3fd9a3258347b42f2e3f,2020-04-22T21:13:02.494Z\\n5e99b0d4a3258347b42f2bf0,5e9f4421a3258347b42f2e54,2020-04-22T21:12:09.014Z\\n5d610ae1653a331687083239,5e9ff423a3258347b42f2e72,2020-04-22T19:55:27.850Z\\n5df3f8f2ee4bb5252b4f5393,5ea07ddba3258347b42f2eb6,2020-04-22T19:48:36.239Z\\n5e941316a3258347b42f27f4,5ea047d5a3258347b42f2e96,2020-04-22T18:32:24.886Z\\n5e941316a3258347b42f27f4,5ea07ddba3258347b42f2eb6,2020-04-22T18:32:13.622Z\\n5d60098a653a331687083238,5e9f3e1aa3258347b42f2e39,2020-04-22T18:01:20.604Z\\n5d60098a653a331687083238,5e9f439ba3258347b42f2e51,2020-04-22T18:00:55.412Z\\n5d60098a653a331687083238,5e9f4421a3258347b42f2e54,2020-04-22T18:00:27.486Z\\n5e5af599d701ab08af792b63,5ea029e9a3258347b42f2e85,2020-04-22T16:03:00.038Z\\n5deeef6142a8854bf6eabab9,5e9f4421a3258347b42f2e54,2020-04-22T14:06:52.873Z\\n5deeef6142a8854bf6eabab9,5e9a8271a3258347b42f2c35,2020-04-22T14:04:10.779Z\\n5deeef6142a8854bf6eabab9,5e9f3e1aa3258347b42f2e39,2020-04-22T14:03:52.450Z\\n5deeef6142a8854bf6eabab9,5e9a7e73a3258347b42f2c24,2020-04-22T14:03:39.951Z\\n5deeef6142a8854bf6eabab9,5e99b1c6a3258347b42f2bf2,2020-04-22T14:03:24.720Z\\n5deeef6142a8854bf6eabab9,5e99b786a3258347b42f2bfd,2020-04-22T14:03:09.849Z\\n5deeef6142a8854bf6eabab9,5e9f3fd9a3258347b42f2e3f,2020-04-22T14:02:27.369Z\\n5df3f8f2ee4bb5252b4f5393,5ea04678a3258347b42f2e8a,2020-04-22T13:34:33.795Z\\n5e5af599d701ab08af792b63,5e9db770a3258347b42f2dcf,2020-04-22T08:41:08.440Z\\n5e5af599d701ab08af792b63,5e9ff423a3258347b42f2e72,2020-04-22T08:01:47.119Z\\n5e9a8013a3258347b42f2c29,5e9f3e1aa3258347b42f2e39,2020-04-21T20:42:17.387Z\\n5e9a8013a3258347b42f2c29,5e9f4045a3258347b42f2e42,2020-04-21T20:42:09.589Z\\n5e9a8013a3258347b42f2c29,5e9f3f16a3258347b42f2e3c,2020-04-21T20:42:02.737Z\\n5e9a8013a3258347b42f2c29,5e9f40b2a3258347b42f2e45,2020-04-21T20:41:56.159Z\\n5e9a8013a3258347b42f2c29,5e9f4155a3258347b42f2e48,2020-04-21T20:41:47.462Z\\n5e9a8013a3258347b42f2c29,5e9f3fd9a3258347b42f2e3f,2020-04-21T20:41:22.141Z\\n5e9a8013a3258347b42f2c29,5e9a8271a3258347b42f2c35,2020-04-21T20:40:52.342Z\\n5e9a8013a3258347b42f2c29,5e9f4215a3258347b42f2e4b,2020-04-21T20:40:13.999Z\\n5e9a8013a3258347b42f2c29,5e9f4295a3258347b42f2e4e,2020-04-21T20:39:34.506Z\\n5e9a8013a3258347b42f2c29,5e9f439ba3258347b42f2e51,2020-04-21T20:39:20.938Z\\n5e9a8013a3258347b42f2c29,5e9f4421a3258347b42f2e54,2020-04-21T20:38:38.116Z\\n5e99b0d4a3258347b42f2bf0,5e9a8437a3258347b42f2c38,2020-04-21T20:17:50.543Z\\n5df3f8f2ee4bb5252b4f5393,5e9db770a3258347b42f2dcf,2020-04-21T16:00:26.934Z\\n5df3f8f2ee4bb5252b4f5393,5e9b6b20a3258347b42f2c8d,2020-04-21T15:52:56.490Z\\n5d610ae1653a331687083239,5e9b6b20a3258347b42f2c8d,2020-04-21T14:29:55.265Z\\n5d610ae1653a331687083239,5e9db770a3258347b42f2dcf,2020-04-21T14:28:20.632Z\\n5d610ae1653a331687083239,5e9e2760a3258347b42f2df7,2020-04-21T14:21:57.856Z\\n5e5b4511d701ab08af792b6d,5e9eececa3258347b42f2e11,2020-04-21T12:54:27.891Z\\n5e5af599d701ab08af792b63,5e5fcd9a49d7f322c033e02f,2020-04-20T23:28:31.156Z\\n5e5af599d701ab08af792b63,5e5e7e0afbc8805f69e02ca8,2020-04-20T23:11:51.815Z\\n5e5af599d701ab08af792b63,5e9e2760a3258347b42f2df7,2020-04-20T22:59:31.502Z\\n5e941316a3258347b42f27f4,5e9b6b20a3258347b42f2c8d,2020-04-20T15:16:59.320Z\\n5df3f8f2ee4bb5252b4f5393,5e9db770a3258347b42f2dcf,2020-04-20T14:53:50.086Z\\n5d60098a653a331687083238,5e941877a3258347b42f27fd,2020-04-19T14:39:33.143Z\\n5d60098a653a331687083238,5e964254a3258347b42f2a75,2020-04-19T14:38:33.942Z\\n5d60098a653a331687083238,5e964354a3258347b42f2a7d,2020-04-19T14:38:20.062Z\\n5d60098a653a331687083238,5e964bcea3258347b42f2a96,2020-04-19T14:37:40.842Z\\n5d60098a653a331687083238,5e98c18fa3258347b42f2bc4,2020-04-19T14:37:24.307Z\\n5d60098a653a331687083238,5e9895e8a3258347b42f2ba7,2020-04-19T14:37:02.292Z\\n5d60098a653a331687083238,5e99b786a3258347b42f2bfd,2020-04-19T14:36:25.214Z\\n5d60098a653a331687083238,5e99b1c6a3258347b42f2bf2,2020-04-19T14:36:14.350Z\\n5d60098a653a331687083238,5e9a8271a3258347b42f2c35,2020-04-19T14:36:02.258Z\\n5d60098a653a331687083238,5e9a8437a3258347b42f2c38,2020-04-19T14:35:52.163Z\\n5d60098a653a331687083238,5e9b6b20a3258347b42f2c8d,2020-04-19T14:35:29.657Z\\n5d60098a653a331687083238,5e9aaeefa3258347b42f2c3f,2020-04-19T14:32:09.589Z\\n5d60098a653a331687083238,5e9b0475a3258347b42f2c6b,2020-04-19T14:32:00.673Z\\n5d60098a653a331687083238,5e9b0274a3258347b42f2c60,2020-04-19T14:31:47.059Z\\n5d60098a653a331687083238,5e9ab176a3258347b42f2c4a,2020-04-19T14:31:35.405Z\\n5d60098a653a331687083238,5e9a7e73a3258347b42f2c24,2020-04-19T14:31:22.731Z\\n5d60098a653a331687083238,5e99c99fa3258347b42f2c05,2020-04-19T14:30:39.717Z\\n5e9c146ba3258347b42f2cbd,5e9b6b20a3258347b42f2c8d,2020-04-19T09:06:46.189Z\\n5deeef6142a8854bf6eabab9,5e9ab176a3258347b42f2c4a,2020-04-18T21:14:20.630Z\\n5deeef6142a8854bf6eabab9,5e943363a3258347b42f2813,2020-04-18T21:13:01.645Z\\n5deeef6142a8854bf6eabab9,5e977f94a3258347b42f2af9,2020-04-18T21:12:43.345Z\\n5df24eeaee4bb5252b4f5366,5e9b0475a3258347b42f2c6b,2020-04-18T19:44:45.176Z\\n5d610ae1653a331687083239,5e99c99fa3258347b42f2c05,2020-04-18T08:06:43.915Z\\n5deeef6142a8854bf6eabab9,5e95f087a3258347b42f2a16,2020-04-18T06:17:46.042Z\\n5e9a8013a3258347b42f2c29,5e99b1c6a3258347b42f2bf2,2020-04-18T04:25:06.581Z\\n5e99b0d4a3258347b42f2bf0,5e9a7e73a3258347b42f2c24,2020-04-18T04:24:59.402Z\\n5e9a8013a3258347b42f2c29,5e9a7e73a3258347b42f2c24,2020-04-18T04:24:52.861Z\\n5e99b0d4a3258347b42f2bf0,5e99b786a3258347b42f2bfd,2020-04-18T04:17:21.079Z\\n5e5af599d701ab08af792b63,5e99c99fa3258347b42f2c05,2020-04-17T20:29:41.820Z\\n5e8309c4a3258347b42f23f4,5e901b98a3258347b42f2708,2020-04-17T14:26:20.560Z\\n5e8309c4a3258347b42f23f4,5e830dc8a3258347b42f23fb,2020-04-17T13:54:06.162Z\\n5e941316a3258347b42f27f4,5e977f94a3258347b42f2af9,2020-04-17T09:26:20.808Z\\n5e941316a3258347b42f27f4,5e98c18fa3258347b42f2bc4,2020-04-17T09:25:45.223Z\\n5e941316a3258347b42f27f4,5e979786a3258347b42f2b2e,2020-04-17T09:25:33.608Z\\n5d60098a653a331687083238,5e966b74a3258347b42f2ab1,2020-04-16T14:07:01.844Z\\n5d60098a653a331687083238,5e964576a3258347b42f2a86,2020-04-16T14:06:47.368Z\\n5d60098a653a331687083238,5e96464da3258347b42f2a8e,2020-04-16T14:05:38.193Z\\n5d60098a653a331687083238,5e973a30a3258347b42f2ada,2020-04-16T14:05:24.690Z\\n5d60098a653a331687083238,5e977f94a3258347b42f2af9,2020-04-16T14:05:06.052Z\\n5d60098a653a331687083238,5e9754efa3258347b42f2ae8,2020-04-16T14:04:58.712Z\\n5d60098a653a331687083238,5e97542da3258347b42f2ae5,2020-04-16T14:04:32.322Z\\n5d60098a653a331687083238,5e979490a3258347b42f2b13,2020-04-16T14:04:22.202Z\\n5d60098a653a331687083238,5e979637a3258347b42f2b1e,2020-04-16T14:04:14.302Z\\n5d60098a653a331687083238,5e9796dba3258347b42f2b26,2020-04-16T14:04:08.383Z\\n5d60098a653a331687083238,5e979786a3258347b42f2b2e,2020-04-16T14:03:57.513Z\\n5e9828f2a3258347b42f2b71,5e964006a3258347b42f2a65,2020-04-16T11:59:20.688Z\\n5e9828f2a3258347b42f2b71,5e94ae2fa3258347b42f28ee,2020-04-16T11:58:32.177Z\\n5e9828f2a3258347b42f2b71,5e9796dba3258347b42f2b26,2020-04-16T09:45:25.140Z\\n5e9828f2a3258347b42f2b71,5e979786a3258347b42f2b2e,2020-04-16T09:44:58.131Z\\n5e97ef3ea3258347b42f2b47,5e7a0d85cfc8b713f5ac7d77,2020-04-16T05:42:36.360Z\\n5e97ef3ea3258347b42f2b47,5da745b6019399436815c4cd,2020-04-16T05:42:13.862Z\\n5df3f8f2ee4bb5252b4f5393,5e979490a3258347b42f2b13,2020-04-15T23:16:24.633Z\\n5e5af599d701ab08af792b63,5e978c7ca3258347b42f2b09,2020-04-15T22:45:12.223Z\\n5df3f8f2ee4bb5252b4f5393,5e9651d5a3258347b42f2a9f,2020-04-15T22:07:39.848Z\\n5df3f8f2ee4bb5252b4f5393,5e977f94a3258347b42f2af9,2020-04-15T22:04:36.435Z\\n5e942f7ba3258347b42f280e,5e977f94a3258347b42f2af9,2020-04-15T21:43:53.626Z\\n5e5af599d701ab08af792b63,5e976a64a3258347b42f2af1,2020-04-15T20:19:07.263Z\\n5e5af599d701ab08af792b63,5e961830a3258347b42f2a4e,2020-04-15T20:08:20.328Z\\n5e94248aa3258347b42f2804,5e9754efa3258347b42f2ae8,2020-04-15T18:40:17.330Z\\n5e94248aa3258347b42f2804,5e97542da3258347b42f2ae5,2020-04-15T18:40:01.246Z\\n5e958e73a3258347b42f29a1,5e95f44ba3258347b42f2a31,2020-04-15T05:06:13.159Z\\n5e7f4ad1a3258347b42f2155,5e966b74a3258347b42f2ab1,2020-04-15T02:03:39.453Z\\n5e7f4ad1a3258347b42f2155,5e966ad3a3258347b42f2aaf,2020-04-15T02:01:02.603Z\\n5e954e9aa3258347b42f295a,5e964200a3258347b42f2a6d,2020-04-15T00:38:59.435Z\\n5e954e9aa3258347b42f295a,5e9651d5a3258347b42f2a9f,2020-04-15T00:37:05.536Z\\n5df3f8f2ee4bb5252b4f5393,5e964bcea3258347b42f2a96,2020-04-14T23:50:48.338Z\\n5df3f8f2ee4bb5252b4f5393,5e948fb8a3258347b42f28c6,2020-04-14T23:50:01.860Z\\n5e5af599d701ab08af792b63,5e961830a3258347b42f2a4e,2020-04-14T20:21:21.984Z\\n5d60098a653a331687083238,5e95f3a0a3258347b42f2a2c,2020-04-14T20:03:29.634Z\\n5d60098a653a331687083238,5e95dd30a3258347b42f29f5,2020-04-14T20:03:00.504Z\\n5d60098a653a331687083238,5e948ce6a3258347b42f28aa,2020-04-14T19:46:00.530Z\\n5d60098a653a331687083238,5e95a06da3258347b42f29b4,2020-04-14T19:35:24.382Z\\n5d60098a653a331687083238,5e95f13ba3258347b42f2a1b,2020-04-14T19:34:59.963Z\\n5d60098a653a331687083238,5e95f44ba3258347b42f2a31,2020-04-14T19:34:39.954Z\\n5d60098a653a331687083238,5e95e469a3258347b42f2a02,2020-04-14T19:27:44.939Z\\n5d60098a653a331687083238,5e81b47fa3258347b42f21d7,2020-04-14T19:26:27.298Z\\n5d60098a653a331687083238,5e5b6320d701ab08af792b9d,2020-04-14T19:25:46.160Z\\n5d60098a653a331687083238,5e956e42a3258347b42f297f,2020-04-14T19:20:33.237Z\\n5d60098a653a331687083238,5e95ed0aa3258347b42f2a0e,2020-04-14T19:05:15.153Z\\n5d60098a653a331687083238,5e95f087a3258347b42f2a16,2020-04-14T19:04:19.467Z\\n5deeef6142a8854bf6eabab9,5e95f087a3258347b42f2a16,2020-04-14T17:27:49.852Z\\n5deeef6142a8854bf6eabab9,5e95f1a8a3258347b42f2a20,2020-04-14T17:25:43.884Z\\n5deeef6142a8854bf6eabab9,5e95f13ba3258347b42f2a1b,2020-04-14T17:25:31.093Z\\n5e95a2d8a3258347b42f29bd,5e95ed0aa3258347b42f2a0e,2020-04-14T17:11:02.609Z\\n5e9595dba3258347b42f29aa,5e95ed0aa3258347b42f2a0e,2020-04-14T17:10:25.321Z\\n5e958e73a3258347b42f29a1,5e95ed0aa3258347b42f2a0e,2020-04-14T17:06:05.144Z\\n5e5af599d701ab08af792b63,5e95e469a3258347b42f2a02,2020-04-14T16:46:33.618Z\\n5d60098a653a331687083238,5e95d427a3258347b42f29db,2020-04-14T16:07:57.704Z\\n5df3f8f2ee4bb5252b4f5393,5e95dd30a3258347b42f29f5,2020-04-14T15:58:10.759Z\\n5e95da1aa3258347b42f29e6,5e95d427a3258347b42f29db,2020-04-14T15:44:56.803Z\\n5e95da1aa3258347b42f29e6,5e95a06da3258347b42f29b4,2020-04-14T15:44:02.276Z\\n5e95a2d8a3258347b42f29bd,5e95d427a3258347b42f29db,2020-04-14T15:38:21.650Z\\n5e958e73a3258347b42f29a1,5e95d427a3258347b42f29db,2020-04-14T15:28:43.010Z\\n5e9595dba3258347b42f29aa,5e95d427a3258347b42f29db,2020-04-14T15:27:35.081Z\\n5d60098a653a331687083238,5e8d539ba3258347b42f26d8,2020-04-14T15:03:43.918Z\\n5df3f8f2ee4bb5252b4f5393,5e9489e7a3258347b42f2896,2020-04-14T13:20:56.825Z\\n5df3f8f2ee4bb5252b4f5393,5e7f39a3a3258347b42f2151,2020-04-14T13:20:36.985Z\\n5e954e9aa3258347b42f295a,5e95a06da3258347b42f29b4,2020-04-14T12:18:27.435Z\\n5e958e73a3258347b42f29a1,5e7f39a3a3258347b42f2151,2020-04-14T11:58:04.398Z\\n5df3f8f2ee4bb5252b4f5393,5e95a06da3258347b42f29b4,2020-04-14T11:43:14.892Z\\n5e9595dba3258347b42f29aa,5e940dd0a3258347b42f27f1,2020-04-14T11:32:05.240Z\\n5e9595dba3258347b42f29aa,5e9435f7a3258347b42f281a,2020-04-14T11:31:51.635Z\\n5e9595dba3258347b42f29aa,5e94ae2fa3258347b42f28ee,2020-04-14T11:31:30.696Z\\n5e9595dba3258347b42f29aa,5e94bf78a3258347b42f2925,2020-04-14T11:31:23.209Z\\n5e958e73a3258347b42f29a1,5e94bf78a3258347b42f2925,2020-04-14T10:44:51.725Z\\n5e958e73a3258347b42f29a1,5e9483b6a3258347b42f2860,2020-04-14T10:41:28.932Z\\n5e94248aa3258347b42f2804,5e956e42a3258347b42f297f,2020-04-14T08:03:23.166Z\\n5deeef6142a8854bf6eabab9,5e947c4aa3258347b42f283e,2020-04-14T07:14:32.502Z\\n5deeef6142a8854bf6eabab9,5e948fdfa3258347b42f28ca,2020-04-14T07:13:25.629Z\\n5deeef6142a8854bf6eabab9,5e9415d2a3258347b42f27f8,2020-04-14T07:12:43.124Z\\n5e941316a3258347b42f27f4,5e94bf78a3258347b42f2925,2020-04-14T07:04:19.366Z\\n5e5af599d701ab08af792b63,5e9415d2a3258347b42f27f8,2020-04-13T20:32:36.206Z\\n5d60098a653a331687083238,5e94caeda3258347b42f2932,2020-04-13T20:29:25.182Z\\n5e5af599d701ab08af792b63,5e94caeda3258347b42f2932,2020-04-13T20:29:21.540Z\\n5d60098a653a331687083238,5e8cc876a3258347b42f26a3,2020-04-13T20:28:52.222Z\\n5e94248aa3258347b42f2804,5e94bf78a3258347b42f2925,2020-04-13T19:38:45.825Z\\n5e94248aa3258347b42f2804,5e94ae2fa3258347b42f28ee,2020-04-13T19:38:28.135Z\\n5df3f8f2ee4bb5252b4f5393,5e94bf78a3258347b42f2925,2020-04-13T19:38:00.000Z\\n5d60098a653a331687083238,5e9415d2a3258347b42f27f8,2020-04-13T19:25:16.419Z\\n5d60098a653a331687083238,5e94bc47a3258347b42f291d,2020-04-13T19:24:02.102Z\\n5e941316a3258347b42f27f4,5e94bc47a3258347b42f291d,2020-04-13T19:24:01.580Z\\n5d60098a653a331687083238,5e940dd0a3258347b42f27f1,2020-04-13T19:23:49.473Z\\n5d60098a653a331687083238,5e82390ea3258347b42f2369,2020-04-13T19:23:31.962Z\\n5d60098a653a331687083238,5e936c67a3258347b42f27b6,2020-04-13T19:21:18.895Z\\n5d60098a653a331687083238,5e94ae2fa3258347b42f28ee,2020-04-13T19:20:17.237Z\\n5d60098a653a331687083238,5e9496b3a3258347b42f28d8,2020-04-13T19:19:44.412Z\\n5d60098a653a331687083238,5e9488c1a3258347b42f288a,2020-04-13T19:19:13.740Z\\n5d60098a653a331687083238,5e9489e7a3258347b42f2896,2020-04-13T19:18:33.353Z\\n5e941316a3258347b42f27f4,5e94ae2fa3258347b42f28ee,2020-04-13T19:18:26.479Z\\n5d60098a653a331687083238,5e948c4fa3258347b42f28a2,2020-04-13T19:18:25.352Z\\n5d60098a653a331687083238,5e948db2a3258347b42f28ae,2020-04-13T19:18:20.215Z\\n5e941316a3258347b42f27f4,5e94452ea3258347b42f282a,2020-04-13T19:18:18.760Z\\n5d60098a653a331687083238,5e948db6a3258347b42f28b2,2020-04-13T19:18:15.808Z\\n5d60098a653a331687083238,5e948e4ca3258347b42f28ba,2020-04-13T19:18:11.544Z\\n5e941316a3258347b42f27f4,5e9435f7a3258347b42f281a,2020-04-13T19:18:10.719Z\\n5d60098a653a331687083238,5e948e97a3258347b42f28be,2020-04-13T19:18:07.855Z\\n5d60098a653a331687083238,5e948f05a3258347b42f28c2,2020-04-13T19:18:03.718Z\\n5d60098a653a331687083238,5e948fdfa3258347b42f28ca,2020-04-13T19:17:57.513Z\\n5d60098a653a331687083238,5e948fb8a3258347b42f28c6,2020-04-13T19:17:53.313Z\\n5e941316a3258347b42f27f4,5e941877a3258347b42f27fd,2020-04-13T19:17:49.791Z\\n5d60098a653a331687083238,5e94827ea3258347b42f2854,2020-04-13T19:17:27.083Z\\n5df3f8f2ee4bb5252b4f5393,5e94ae2fa3258347b42f28ee,2020-04-13T18:23:51.021Z\\n5e94248aa3258347b42f2804,5e9496b3a3258347b42f28d8,2020-04-13T17:08:04.860Z\\n5e94248aa3258347b42f2804,5e9496b3a3258347b42f28d8,2020-04-13T17:07:24.530Z\\n5e94248aa3258347b42f2804,5e940dd0a3258347b42f27f1,2020-04-13T16:35:38.714Z\\n5e94248aa3258347b42f2804,5e9435f7a3258347b42f281a,2020-04-13T16:35:24.786Z\\n5e94248aa3258347b42f2804,5e7220891b24db0468e90ce2,2020-04-13T16:34:48.896Z\\n5e94248aa3258347b42f2804,5e7f39a3a3258347b42f2151,2020-04-13T16:33:51.681Z\\n5deeef6142a8854bf6eabab9,5e947dcda3258347b42f2843,2020-04-13T15:00:56.216Z\\n5deeef6142a8854bf6eabab9,5e947c4aa3258347b42f283e,2020-04-13T14:50:57.236Z\\n5deeef6142a8854bf6eabab9,5d9b950768671220a1b2b153,2020-04-13T14:30:54.706Z\\n5e942f7ba3258347b42f280e,5e9435f7a3258347b42f281a,2020-04-13T09:52:45.564Z\\n5df3f8f2ee4bb5252b4f5393,5e9435f7a3258347b42f281a,2020-04-13T09:51:15.238Z\\n5df3f8f2ee4bb5252b4f5393,5e940dd0a3258347b42f27f1,2020-04-13T09:51:04.307Z\\n5e942f7ba3258347b42f280e,5e940dd0a3258347b42f27f1,2020-04-13T09:50:00.052Z\\n5e942f7ba3258347b42f280e,5e943363a3258347b42f2813,2020-04-13T09:39:56.235Z\\n5df3f8f2ee4bb5252b4f5393,5e941877a3258347b42f27fd,2020-04-13T08:40:42.692Z\\n5e941316a3258347b42f27f4,5e941877a3258347b42f27fd,2020-04-13T07:45:04.231Z\\n5e941316a3258347b42f27f4,5e778ffccfc8b713f5ac7b50,2020-04-13T07:31:11.819Z\\n5e941316a3258347b42f27f4,5e940dd0a3258347b42f27f1,2020-04-13T07:25:01.148Z\\n5df3f8f2ee4bb5252b4f5393,5e88383aa3258347b42f255c,2020-04-13T06:51:27.913Z\\n5df3f8f2ee4bb5252b4f5393,5df64ad1cc709107827fb3dd,2020-04-13T06:50:44.152Z\\n5e93d7d5a3258347b42f27e4,5df64ad1cc709107827fb3dd,2020-04-13T03:10:24.904Z\\n5e93d7d5a3258347b42f27e4,5d80ecfd6c53455f896e601a,2020-04-13T03:10:17.023Z\\n5d610ae1653a331687083239,5e8d539ba3258347b42f26d8,2020-04-12T20:47:10.017Z\\n5d610ae1653a331687083239,5e901f23a3258347b42f2725,2020-04-12T20:46:56.240Z\\n5d610ae1653a331687083239,5e90208ca3258347b42f2730,2020-04-12T20:46:34.175Z\\n5d610ae1653a331687083239,5e9028cea3258347b42f2736,2020-04-12T20:46:04.090Z\\n5d610ae1653a331687083239,5e91a2dda3258347b42f276d,2020-04-12T20:45:21.854Z\\n5d610ae1653a331687083239,5e936c67a3258347b42f27b6,2020-04-12T20:44:21.209Z\\n5df24eeaee4bb5252b4f5366,5e82390ea3258347b42f2369,2020-04-12T19:45:29.493Z\\n5df24eeaee4bb5252b4f5366,5e936c67a3258347b42f27b6,2020-04-12T19:35:05.866Z\\n5e93471ea3258347b42f279f,5e84657da3258347b42f2452,2020-04-12T17:01:33.773Z\\n5e93471ea3258347b42f279f,5e88aac5a3258347b42f2577,2020-04-12T17:01:08.904Z\\n5e93471ea3258347b42f279f,5e8bfa8aa3258347b42f2611,2020-04-12T17:00:54.271Z\\n5e93471ea3258347b42f279f,5e8d539ba3258347b42f26d8,2020-04-12T16:55:21.490Z\\n5e93471ea3258347b42f279f,5e91a2dda3258347b42f276d,2020-04-12T16:54:54.310Z\\n5e92e380a3258347b42f278c,5e04fb252a37d20505da2a2b,2020-04-12T09:49:20.671Z\\n5e92e380a3258347b42f278c,5ddeb6e80eb5e25a8a07f065,2020-04-12T09:48:56.989Z\\n5d60098a653a331687083238,5e8bfa8aa3258347b42f2611,2020-04-12T05:50:57.595Z\\n5d60098a653a331687083238,5e8e13dca3258347b42f26f2,2020-04-12T05:49:56.935Z\\n5df11ee1ee4bb5252b4f5344,5e91a2dda3258347b42f276d,2020-04-11T12:17:27.840Z\\n5e5b4511d701ab08af792b6d,5e8307ada3258347b42f23ec,2020-04-11T09:32:36.451Z\\n5e5b4511d701ab08af792b6d,5e830a6ca3258347b42f23f6,2020-04-11T09:32:17.920Z\\n5e5b4511d701ab08af792b6d,5e8309a9a3258347b42f23f2,2020-04-11T09:32:03.837Z\\n5e8437f6a3258347b42f243d,5e901b98a3258347b42f2708,2020-04-11T06:50:42.846Z\\n5e8437f6a3258347b42f243d,5e908602a3258347b42f275b,2020-04-10T14:43:26.615Z\\n5e902793a3258347b42f2733,5e9028cea3258347b42f2736,2020-04-10T09:15:55.162Z\\n5e901d01a3258347b42f270f,5e5e3b35fbc8805f69e02c9e,2020-04-10T07:24:27.816Z\\n5e901d01a3258347b42f270f,5e901b98a3258347b42f2708,2020-04-10T07:24:20.826Z\\n5e901d01a3258347b42f270f,5e7de250a3258347b42f210a,2020-04-10T07:23:47.515Z\\n5e901d01a3258347b42f270f,5e733f1c1b24db0468e90cf1,2020-04-10T07:23:35.295Z\\n5e901d01a3258347b42f270f,5e901e9da3258347b42f2711,2020-04-10T07:22:25.986Z\\n5d610ae1653a331687083239,5e895ceca3258347b42f25b6,2020-04-09T19:02:35.154Z\\n5d7c994d5720533e15c3b1e9,5e8d539ba3258347b42f26d8,2020-04-09T18:46:37.984Z\\n5e5af599d701ab08af792b63,5e8e13dca3258347b42f26f2,2020-04-08T18:37:25.587Z\\n5d7c994d5720533e15c3b1e9,5e8d539ba3258347b42f26d8,2020-04-08T11:02:11.137Z\\n5d7c994d5720533e15c3b1e9,5e8ccfb5a3258347b42f26bc,2020-04-07T19:09:31.950Z\\n5d7c994d5720533e15c3b1e9,5e8cc876a3258347b42f26a3,2020-04-07T18:38:29.962Z\\n5d7c994d5720533e15c3b1e9,5e8cb88ea3258347b42f267e,2020-04-07T18:38:13.232Z\\n5e8cbd92a3258347b42f2699,5df64ad1cc709107827fb3dd,2020-04-07T17:59:55.597Z\\n5e8cbd92a3258347b42f2699,5d81323a6c53455f896e6044,2020-04-07T17:59:47.887Z\\n5e8cbd92a3258347b42f2699,5db2b91a99cbb90e4339c749,2020-04-07T17:59:32.292Z\\n5e8cbd92a3258347b42f2699,5e77c625cfc8b713f5ac7c0b,2020-04-07T17:58:50.151Z\\n5e8cbd92a3258347b42f2699,5e897f6ca3258347b42f25cd,2020-04-07T17:54:17.279Z\\n5e8cbd92a3258347b42f2699,5e895ceca3258347b42f25b6,2020-04-07T17:53:37.750Z\\n5d610ae1653a331687083239,5e8c2d01a3258347b42f2627,2020-04-07T17:50:09.360Z\\n5d610ae1653a331687083239,5e8c993da3258347b42f264d,2020-04-07T17:49:48.173Z\\n5d610ae1653a331687083239,5e4edd87f5561b1994c8e497,2020-04-07T17:48:30.798Z\\n5d60098a653a331687083238,5e52fd0ed701ab08af792a1f,2020-04-07T16:09:00.477Z\\n5d60098a653a331687083238,5e8c2d01a3258347b42f2627,2020-04-07T16:07:26.653Z\\n5d7c994d5720533e15c3b1e9,5e8c2d01a3258347b42f2627,2020-04-07T15:23:35.781Z\\n5d7c994d5720533e15c3b1e9,5e8c993da3258347b42f264d,2020-04-07T15:23:20.554Z\\n5e5af599d701ab08af792b63,5e7e66e7a3258347b42f213c,2020-04-07T13:02:49.708Z\\n5d60098a653a331687083238,5e8bfa8aa3258347b42f2611,2020-04-07T07:37:36.067Z\\n5d60098a653a331687083238,5e8bfacca3258347b42f261b,2020-04-07T07:36:26.590Z\\n5d60098a653a331687083238,5e895d87a3258347b42f25bb,2020-04-07T07:34:37.007Z\\n5e5af599d701ab08af792b63,5e8bfa8aa3258347b42f2611,2020-04-07T04:37:19.710Z\\n5d610ae1653a331687083239,5e895d87a3258347b42f25bb,2020-04-06T18:45:29.955Z\\n5e8447a7a3258347b42f2446,5e8448aba3258347b42f2447,2020-04-06T17:50:28.504Z\\n5d610ae1653a331687083239,5e4ba8b2f5561b1994c8e39f,2020-04-06T12:19:42.916Z\\n5d610ae1653a331687083239,5e88aac5a3258347b42f2577,2020-04-06T12:15:12.243Z\\n5d610ae1653a331687083239,5e7a60edcfc8b713f5ac7d82,2020-04-06T12:14:02.231Z\\n5d60098a653a331687083238,5e8448aba3258347b42f2447,2020-04-06T04:43:31.706Z\\n5e5af599d701ab08af792b63,5de8d73249e8203ff9219a74,2020-04-06T03:44:13.312Z\\n5d60098a653a331687083238,5e80b40ea3258347b42f21a5,2020-04-05T20:44:08.539Z\\n5d60098a653a331687083238,5e7b1e65cfc8b713f5ac7d90,2020-04-05T20:43:20.919Z\\n5d60098a653a331687083238,5e897ab4a3258347b42f25ca,2020-04-05T20:40:10.976Z\\n5d60098a653a331687083238,5e88a3c0a3258347b42f2572,2020-04-05T20:39:11.060Z\\n5d60098a653a331687083238,5e88aac5a3258347b42f2577,2020-04-05T20:38:23.952Z\\n5d60098a653a331687083238,5e88aa21a3258347b42f2575,2020-04-05T20:37:50.123Z\\n5d60098a653a331687083238,5e895d87a3258347b42f25bb,2020-04-05T20:35:52.134Z\\n5d7c994d5720533e15c3b1e9,5e77bdc2cfc8b713f5ac7be4,2020-04-05T19:04:47.879Z\\n5d610ae1653a331687083239,5e88383aa3258347b42f255c,2020-04-05T17:14:21.192Z\\n5e899be7a3258347b42f25d0,5e79b8becfc8b713f5ac7d45,2020-04-05T09:03:57.119Z\\n5e899be7a3258347b42f25d0,5e7a5f5dcfc8b713f5ac7d80,2020-04-05T09:03:27.358Z\\n5e899be7a3258347b42f25d0,5e7a614fcfc8b713f5ac7d83,2020-04-05T09:02:41.163Z\\n5e899be7a3258347b42f25d0,5e7f3cf8a3258347b42f2154,2020-04-05T09:02:11.923Z\\n5e899be7a3258347b42f25d0,5e88aa21a3258347b42f2575,2020-04-05T09:01:36.854Z\\n5e899be7a3258347b42f25d0,5e84657da3258347b42f2452,2020-04-05T09:01:01.174Z\\n5e899be7a3258347b42f25d0,5e79cf2acfc8b713f5ac7d4e,2020-04-05T08:59:22.127Z\\n5e899be7a3258347b42f25d0,5e3ab644eab55d319938a72d,2020-04-05T08:57:02.583Z\\n5e7f4ad1a3258347b42f2155,5e897f6ca3258347b42f25cd,2020-04-05T06:49:22.657Z\\n5e7f4ad1a3258347b42f2155,5e897ab4a3258347b42f25ca,2020-04-05T06:30:36.653Z\\n5e78ce84cfc8b713f5ac7cee,5e78d6dccfc8b713f5ac7cf4,2020-04-05T05:44:03.998Z\\n5d60098a653a331687083238,5d6d39567fa40e1417a4931c,2020-04-04T10:56:43.034Z\\n5d60098a653a331687083238,5e8837fba3258347b42f255b,2020-04-04T09:02:47.701Z\\n5d60098a653a331687083238,5e88383aa3258347b42f255c,2020-04-04T09:02:38.442Z\\n5e88156ca3258347b42f2542,5e778ffccfc8b713f5ac7b50,2020-04-04T05:12:12.081Z\\n5e88156ca3258347b42f2542,5e81c257a3258347b42f22f0,2020-04-04T05:11:05.261Z\\n5e880f02a3258347b42f252c,5e85054fa3258347b42f24a0,2020-04-04T04:49:13.670Z\\n5e880f02a3258347b42f252c,5e81bc41a3258347b42f220a,2020-04-04T04:48:19.936Z\\n5e880f02a3258347b42f252c,5dee9b5042a8854bf6eabaaf,2020-04-04T04:45:32.964Z\\n5e880f02a3258347b42f252c,5e783590cfc8b713f5ac7c5d,2020-04-04T04:44:54.488Z\\n5e880f02a3258347b42f252c,5e7f39a3a3258347b42f2151,2020-04-04T04:44:11.314Z\\n5d60098a653a331687083238,5e866cffa3258347b42f24ef,2020-04-03T12:31:33.685Z\\n5e5af599d701ab08af792b63,5e866cffa3258347b42f24ef,2020-04-02T23:09:29.256Z\\n5d60098a653a331687083238,5e81ba06a3258347b42f21ef,2020-04-02T18:38:11.644Z\\n5d60098a653a331687083238,5e830a6ca3258347b42f23f6,2020-04-02T15:08:25.005Z\\n5d60098a653a331687083238,5e7df068a3258347b42f2125,2020-04-02T15:06:57.656Z\\n5d60098a653a331687083238,5e7df283a3258347b42f2128,2020-04-02T15:06:22.258Z\\n5d60098a653a331687083238,5e85054fa3258347b42f24a0,2020-04-02T11:18:56.861Z\\n5d7c994d5720533e15c3b1e9,5e81c1e6a3258347b42f22dd,2020-04-02T06:54:43.504Z\\n5df20f1fee4bb5252b4f5351,5e2d516fc85ab714a7da66dd,2020-04-02T06:44:36.082Z\\n5df20f1fee4bb5252b4f5351,5e4edd87f5561b1994c8e497,2020-04-02T06:43:12.361Z\\n5df20f1fee4bb5252b4f5351,5e281cf0025ae20886de2050,2020-04-02T06:42:38.992Z\\n5df20f1fee4bb5252b4f5351,5e36763d8d344822fed4d15d,2020-04-02T06:42:31.412Z\\n5df20f1fee4bb5252b4f5351,5e36746a8d344822fed4d147,2020-04-02T06:42:17.871Z\\n5df20f1fee4bb5252b4f5351,5e3e9cc0eab55d319938a79b,2020-04-02T06:42:01.992Z\\n5df20f1fee4bb5252b4f5351,5dadf6ae610ba040fbfdf5c8,2020-04-02T06:41:51.991Z\\n5df20f1fee4bb5252b4f5351,5e41bd7deab55d319938a839,2020-04-02T06:41:45.865Z\\n5df20f1fee4bb5252b4f5351,5e50141ed15de17a8cf1b912,2020-04-02T06:41:27.122Z\\n5df20f1fee4bb5252b4f5351,5de7971b8eab6401affbb137,2020-04-02T06:41:18.442Z\\n5df20f1fee4bb5252b4f5351,5dada89b610ba040fbfdf591,2020-04-02T06:41:07.203Z\\n5df20f1fee4bb5252b4f5351,5dada82f610ba040fbfdf58e,2020-04-02T06:40:52.793Z\\n5df20f1fee4bb5252b4f5351,5e4edd1bf5561b1994c8e48a,2020-04-02T06:40:37.782Z\\n5df20f1fee4bb5252b4f5351,5e372ee2eab55d319938a6ed,2020-04-02T06:40:25.823Z\\n5df20f1fee4bb5252b4f5351,5e3ea110eab55d319938a7a7,2020-04-02T06:40:04.872Z\\n5df20f1fee4bb5252b4f5351,5e4da7c8f5561b1994c8e439,2020-04-02T06:39:50.292Z\\n5df20f1fee4bb5252b4f5351,5e4da502f5561b1994c8e42c,2020-04-02T06:39:29.552Z\\n5df20f1fee4bb5252b4f5351,5dada798610ba040fbfdf58b,2020-04-02T06:39:20.431Z\\n5df20f1fee4bb5252b4f5351,5e4a3cf6f5561b1994c8e378,2020-04-02T06:39:15.131Z\\n5df20f1fee4bb5252b4f5351,5e4af475f5561b1994c8e385,2020-04-02T06:39:04.262Z\\n5df20f1fee4bb5252b4f5351,5e45b5c9f5561b1994c8e32d,2020-04-02T06:39:00.222Z\\n5df20f1fee4bb5252b4f5351,5e45ae70f5561b1994c8e320,2020-04-02T06:38:54.442Z\\n5df20f1fee4bb5252b4f5351,5dada734610ba040fbfdf588,2020-04-02T06:38:45.442Z\\n5df20f1fee4bb5252b4f5351,5dada695610ba040fbfdf585,2020-04-02T06:38:34.931Z\\n5df20f1fee4bb5252b4f5351,5d7d23315720533e15c3b1ee,2020-04-02T06:38:27.413Z\\n5df20f1fee4bb5252b4f5351,5d7d405e5720533e15c3b1f3,2020-04-02T06:38:18.572Z\\n5df20f1fee4bb5252b4f5351,5e36e7baeab55d319938a6d1,2020-04-02T06:38:13.702Z\\n5df20f1fee4bb5252b4f5351,5e4ba8b2f5561b1994c8e39f,2020-04-02T06:38:07.941Z\\n5df20f1fee4bb5252b4f5351,5e4c28c5f5561b1994c8e3b0,2020-04-02T06:37:56.003Z\\n5df20f1fee4bb5252b4f5351,5e4ba3a9f5561b1994c8e392,2020-04-02T06:37:46.822Z\\n5df20f1fee4bb5252b4f5351,5e41b98eeab55d319938a82d,2020-04-02T06:37:42.772Z\\n5df20f1fee4bb5252b4f5351,5e4c3d1df5561b1994c8e3f3,2020-04-02T06:37:37.387Z\\n5df20f1fee4bb5252b4f5351,5e431bf9eab55d319938a86a,2020-04-02T06:37:29.882Z\\n5df20f1fee4bb5252b4f5351,5e51a2cfd701ab08af7929c2,2020-04-02T06:37:22.185Z\\n5df20f1fee4bb5252b4f5351,5e51a46ad701ab08af7929cf,2020-04-02T06:37:17.122Z\\n5df20f1fee4bb5252b4f5351,5e501d55d15de17a8cf1b91f,2020-04-02T06:37:11.722Z\\n5df20f1fee4bb5252b4f5351,5e4dab15f5561b1994c8e446,2020-04-02T06:37:02.191Z\\n5df20f1fee4bb5252b4f5351,5e4ed85af5561b1994c8e470,2020-04-02T06:36:54.024Z\\n5df20f1fee4bb5252b4f5351,5e4c2e65f5561b1994c8e3bd,2020-04-02T06:36:47.611Z\\n5df20f1fee4bb5252b4f5351,5e4c3c09f5561b1994c8e3e6,2020-04-02T06:36:42.224Z\\n5df20f1fee4bb5252b4f5351,5e4ef199f5561b1994c8e4a4,2020-04-02T06:36:34.832Z\\n5df20f1fee4bb5252b4f5351,5e4c3873f5561b1994c8e3d9,2020-04-02T06:36:27.773Z\\n5df20f1fee4bb5252b4f5351,5e5196b5d701ab08af7929a8,2020-04-02T06:36:22.341Z\\n5df20f1fee4bb5252b4f5351,5e50207cd15de17a8cf1b92c,2020-04-02T06:36:18.502Z\\n5df20f1fee4bb5252b4f5351,5e518c9fd701ab08af79299a,2020-04-02T06:36:14.073Z\\n5df20f1fee4bb5252b4f5351,5e52e1b0d701ab08af7929eb,2020-04-02T06:36:10.505Z\\n5df20f1fee4bb5252b4f5351,5e52e7abd701ab08af7929f8,2020-04-02T06:36:06.662Z\\n5df20f1fee4bb5252b4f5351,5e52f2b8d701ab08af792a05,2020-04-02T06:36:02.682Z\\n5df20f1fee4bb5252b4f5351,5e52fd0ed701ab08af792a1f,2020-04-02T06:35:58.207Z\\n5d610ae1653a331687083239,5e85054fa3258347b42f24a0,2020-04-02T06:33:41.651Z\\n5e5af599d701ab08af792b63,5e85054fa3258347b42f24a0,2020-04-01T21:37:27.779Z\\n5d9a2982979d5962253c2f81,5e81be54a3258347b42f221d,2020-04-01T16:27:51.532Z\\n5d610ae1653a331687083239,5e81ba06a3258347b42f21ef,2020-04-01T15:59:57.908Z\\n5d610ae1653a331687083239,5e847970a3258347b42f245e,2020-04-01T15:56:25.612Z\\n5d610ae1653a331687083239,5e830dc8a3258347b42f23fb,2020-04-01T15:55:54.304Z\\n5d610ae1653a331687083239,5e8381cfa3258347b42f2428,2020-04-01T15:54:37.811Z\\n5d610ae1653a331687083239,5e84a6a3a3258347b42f246e,2020-04-01T15:52:26.269Z\\n5d60098a653a331687083238,5e84a6a3a3258347b42f246e,2020-04-01T15:06:26.170Z\\n5d60098a653a331687083238,5e81a4f2a3258347b42f21d3,2020-04-01T15:04:08.773Z\\n5d60098a653a331687083238,5e847970a3258347b42f245e,2020-04-01T15:03:03.332Z\\n5df20f1fee4bb5252b4f5351,5e5023f1d15de17a8cf1b939,2020-04-01T14:56:29.097Z\\n5df20f1fee4bb5252b4f5351,5e5196b5d701ab08af7929a8,2020-04-01T14:56:25.878Z\\n5df20f1fee4bb5252b4f5351,5e518c9fd701ab08af79299a,2020-04-01T14:56:22.089Z\\n5df20f1fee4bb5252b4f5351,5e52e7abd701ab08af7929f8,2020-04-01T14:56:12.357Z\\n5df20f1fee4bb5252b4f5351,5e52f2b8d701ab08af792a05,2020-04-01T14:55:56.419Z\\n5df20f1fee4bb5252b4f5351,5e52f911d701ab08af792a12,2020-04-01T14:55:53.465Z\\n5df20f1fee4bb5252b4f5351,5e52fd0ed701ab08af792a1f,2020-04-01T14:55:49.160Z\\n5e8309c4a3258347b42f23f4,5e5e3b35fbc8805f69e02c9e,2020-04-01T14:20:59.489Z\\n5e7f4ad1a3258347b42f2155,5e847970a3258347b42f245e,2020-04-01T11:23:26.661Z\\n5d610ae1653a331687083239,5e84657da3258347b42f2452,2020-04-01T11:17:03.711Z\\n5de50d768eab6401affbb135,5e8448aba3258347b42f2447,2020-04-01T11:15:40.685Z\\n5d60098a653a331687083238,5e2d36ebc85ab714a7da66d1,2020-04-01T10:27:23.577Z\\n5d60098a653a331687083238,5e8448aba3258347b42f2447,2020-04-01T10:15:52.158Z\\n5e845fbaa3258347b42f2450,5e84657da3258347b42f2452,2020-04-01T09:58:38.107Z\\n5d60098a653a331687083238,5e830dc8a3258347b42f23fb,2020-04-01T07:33:04.834Z\\n5d60098a653a331687083238,5e8381cfa3258347b42f2428,2020-04-01T07:32:48.224Z\\n5e840a75a3258347b42f2437,5e4ed85af5561b1994c8e470,2020-04-01T03:33:38.471Z\\n5d618359fc5fcf3bdd9a0910,5e79f3fccfc8b713f5ac7d54,2020-03-31T20:40:03.745Z\\n5d60098a653a331687083238,5e830a6ca3258347b42f23f6,2020-03-31T13:58:57.647Z\\n5e365e758d344822fed4d144,5e41bd7deab55d319938a839,2020-03-31T13:14:02.115Z\\n5e365e758d344822fed4d144,5e36e7baeab55d319938a6d1,2020-03-31T13:13:46.646Z\\n5d60098a653a331687083238,5e823908a3258347b42f2368,2020-03-31T11:36:10.295Z\\n5d60098a653a331687083238,5e82390ea3258347b42f2369,2020-03-31T11:34:11.967Z\\n5d60098a653a331687083238,5e8307ada3258347b42f23ec,2020-03-31T11:32:13.628Z\\n5d60098a653a331687083238,5e8309a9a3258347b42f23f2,2020-03-31T11:31:47.067Z\\n5d60098a653a331687083238,5e830a6ca3258347b42f23f6,2020-03-31T11:31:33.828Z\\n5d60098a653a331687083238,5e8308c4a3258347b42f23ed,2020-03-31T11:30:35.158Z\\n5d610ae1653a331687083239,5e81be54a3258347b42f221d,2020-03-31T11:18:19.094Z\\n5d610ae1653a331687083239,5db2b91a99cbb90e4339c749,2020-03-31T10:52:56.168Z\\n5d610ae1653a331687083239,5e830a6ca3258347b42f23f6,2020-03-31T10:45:58.697Z\\n5d610ae1653a331687083239,5e8308c4a3258347b42f23ed,2020-03-31T10:45:44.329Z\\n5d610ae1653a331687083239,5e8307ada3258347b42f23ec,2020-03-31T10:45:08.557Z\\n5d610ae1653a331687083239,5e8309a9a3258347b42f23f2,2020-03-31T10:44:55.758Z\\n5e8309c4a3258347b42f23f4,5e7de250a3258347b42f210a,2020-03-31T09:40:48.608Z\\n5e5dfbbefbc8805f69e02c91,5e830a6ca3258347b42f23f6,2020-03-31T09:17:06.235Z\\n5e5dfbbefbc8805f69e02c91,5e8309a9a3258347b42f23f2,2020-03-31T09:13:20.849Z\\n5e5dfbbefbc8805f69e02c91,5e8308c4a3258347b42f23ed,2020-03-31T09:09:46.835Z\\n5e5dfbbefbc8805f69e02c91,5e8307ada3258347b42f23ec,2020-03-31T09:09:36.114Z\\n5d60098a653a331687083238,5e773e15cfc8b713f5ac7ad9,2020-03-31T07:48:38.448Z\\n5d60098a653a331687083238,5e822b4aa3258347b42f235f,2020-03-31T07:44:29.954Z\\n5e822b86a3258347b42f2360,5e7304761b24db0468e90ce7,2020-03-30T18:27:51.026Z\\n5e822b86a3258347b42f2360,5e823908a3258347b42f2368,2020-03-30T18:24:27.151Z\\n5d610ae1653a331687083239,5e822b4aa3258347b42f235f,2020-03-30T18:08:42.496Z\\n5e5af599d701ab08af792b63,5e81ba06a3258347b42f21ef,2020-03-30T17:29:11.867Z\\n5d618359fc5fcf3bdd9a0910,5e81c1e6a3258347b42f22dd,2020-03-30T16:29:07.121Z\\n5d618359fc5fcf3bdd9a0910,5e81c257a3258347b42f22f0,2020-03-30T16:28:32.557Z\\n5d60098a653a331687083238,5e81c1b7a3258347b42f22ca,2020-03-30T15:48:41.969Z\\n5d60098a653a331687083238,5e81c257a3258347b42f22f0,2020-03-30T15:48:28.430Z\\n5d60098a653a331687083238,5e81c29ea3258347b42f2303,2020-03-30T15:48:18.909Z\\n5d60098a653a331687083238,5e81b47fa3258347b42f21d7,2020-03-30T15:47:03.837Z\\n5d60098a653a331687083238,5e81be54a3258347b42f221d,2020-03-30T15:45:50.390Z\\n5de50d768eab6401affbb135,5e7f4fb3a3258347b42f2156,2020-03-30T13:55:56.919Z\\n5e5af599d701ab08af792b63,5e5e81e8fbc8805f69e02cab,2020-03-30T13:47:36.751Z\\n5d610ae1653a331687083239,5e81bc41a3258347b42f220a,2020-03-30T13:45:16.429Z\\n5de50d768eab6401affbb135,5e81bc41a3258347b42f220a,2020-03-30T12:08:17.688Z\\n5de50d768eab6401affbb135,5e81be54a3258347b42f221d,2020-03-30T11:56:21.611Z\\n5d610ae1653a331687083239,5e81bf73a3258347b42f2257,2020-03-30T11:26:56.086Z\\n5d610ae1653a331687083239,5e81bf2fa3258347b42f2244,2020-03-30T11:26:22.661Z\\n5d610ae1653a331687083239,5e81bfe5a3258347b42f226a,2020-03-30T11:25:41.441Z\\n5d610ae1653a331687083239,5e81c06ba3258347b42f227d,2020-03-30T11:25:11.322Z\\n5d610ae1653a331687083239,5e81c0cba3258347b42f2290,2020-03-30T11:24:37.331Z\\n5d610ae1653a331687083239,5e81c101a3258347b42f22a3,2020-03-30T11:24:18.092Z\\n5d610ae1653a331687083239,5e81c15aa3258347b42f22b6,2020-03-30T11:23:52.492Z\\n5d610ae1653a331687083239,5e81c1b7a3258347b42f22ca,2020-03-30T11:23:21.820Z\\n5d610ae1653a331687083239,5e81c1e6a3258347b42f22dd,2020-03-30T11:23:07.411Z\\n5d610ae1653a331687083239,5e81c257a3258347b42f22f0,2020-03-30T11:22:39.861Z\\n5d610ae1653a331687083239,5e81c29ea3258347b42f2303,2020-03-30T11:22:23.533Z\\n5e7cf05bcfc8b713f5ac7db7,5e81a4f2a3258347b42f21d3,2020-03-30T11:17:26.104Z\\n5de50d768eab6401affbb135,5e81ba06a3258347b42f21ef,2020-03-30T09:22:59.310Z\\n5de50d768eab6401affbb135,5e773c89cfc8b713f5ac7ac9,2020-03-30T09:01:58.076Z\\n5e7cf05bcfc8b713f5ac7db7,5e8164f9a3258347b42f21bf,2020-03-30T09:00:31.771Z\\n5e7cf05bcfc8b713f5ac7db7,5e81b47fa3258347b42f21d7,2020-03-30T08:58:41.415Z\\n5e5af599d701ab08af792b63,5e8164f9a3258347b42f21bf,2020-03-30T08:39:33.110Z\\n5e7f4ad1a3258347b42f2155,5e81a4f2a3258347b42f21d3,2020-03-30T07:51:26.569Z\\n5e7f4ad1a3258347b42f2155,5e81a441a3258347b42f21d1,2020-03-30T07:48:51.380Z\\n5e7cf05bcfc8b713f5ac7db7,5e816629a3258347b42f21c2,2020-03-30T05:53:20.584Z\\n5e7cf05bcfc8b713f5ac7db7,5e80b4cca3258347b42f21a7,2020-03-30T05:53:03.834Z\\n5e7cf05bcfc8b713f5ac7db7,5e80b40ea3258347b42f21a5,2020-03-30T05:52:39.934Z\\n5d60098a653a331687083238,5e80b4cca3258347b42f21a7,2020-03-29T19:30:43.960Z\\n5de50d768eab6401affbb135,5e77738bcfc8b713f5ac7b36,2020-03-29T15:40:59.009Z\\n5d60098a653a331687083238,5e782cd9cfc8b713f5ac7c4f,2020-03-29T14:14:59.789Z\\n5d60098a653a331687083238,5e7838bdcfc8b713f5ac7c99,2020-03-29T14:13:34.700Z\\n5d60098a653a331687083238,5e78c64acfc8b713f5ac7ce7,2020-03-29T14:10:37.526Z\\n5defd51362624b0135ea9fd2,5e7de250a3258347b42f210a,2020-03-29T07:08:51.124Z\\n5defd51362624b0135ea9fd2,5e5bb3eed701ab08af792bfa,2020-03-29T07:08:28.923Z\\n5defd51362624b0135ea9fd2,5e7680361b24db0468e90d66,2020-03-29T07:07:35.325Z\\n5defd51362624b0135ea9fd2,5e7e66e7a3258347b42f213c,2020-03-29T07:05:16.627Z\\n5defd51362624b0135ea9fd2,5e7a614fcfc8b713f5ac7d83,2020-03-29T07:04:57.135Z\\n5defd51362624b0135ea9fd2,5e7f4fb3a3258347b42f2156,2020-03-29T07:03:51.446Z\\n5e1ef04c2a37d20505da2b8b,5e7304761b24db0468e90ce7,2020-03-29T06:07:24.639Z\\n5d618359fc5fcf3bdd9a0910,5e7f39a3a3258347b42f2151,2020-03-29T03:23:22.597Z\\n5e7cf05bcfc8b713f5ac7db7,5e7f39a3a3258347b42f2151,2020-03-29T03:20:21.693Z\\n5e5af599d701ab08af792b63,5e7e66e7a3258347b42f213c,2020-03-28T23:21:30.496Z\\n5d60098a653a331687083238,5e7a7066cfc8b713f5ac7d88,2020-03-28T21:30:37.440Z\\n5d60098a653a331687083238,5e7bd922cfc8b713f5ac7da9,2020-03-28T21:28:54.581Z\\n5d60098a653a331687083238,5e7f39a3a3258347b42f2151,2020-03-28T20:55:21.091Z\\n5d60098a653a331687083238,5e7f3cf8a3258347b42f2154,2020-03-28T20:41:57.971Z\\n5d60098a653a331687083238,5e7e66e7a3258347b42f213c,2020-03-28T20:40:00.604Z\\n5d610ae1653a331687083239,5e78ae4ccfc8b713f5ac7cde,2020-03-28T20:38:27.430Z\\n5d60098a653a331687083238,5e7b8764cfc8b713f5ac7da2,2020-03-28T20:37:53.800Z\\n5d60098a653a331687083238,5e7df068a3258347b42f2125,2020-03-28T20:35:41.011Z\\n5d60098a653a331687083238,5e7df283a3258347b42f2128,2020-03-28T20:35:13.271Z\\n5d610ae1653a331687083239,5e7f3cf8a3258347b42f2154,2020-03-28T19:57:10.385Z\\n5d610ae1653a331687083239,5e7f39a3a3258347b42f2151,2020-03-28T19:47:35.188Z\\n5d610ae1653a331687083239,5e7f4fb3a3258347b42f2156,2020-03-28T19:46:59.553Z\\n5d60098a653a331687083238,5e7304761b24db0468e90ce7,2020-03-28T15:58:03.141Z\\n5d60098a653a331687083238,5e7de250a3258347b42f210a,2020-03-28T15:56:59.829Z\\n5d60098a653a331687083238,5e7f4fb3a3258347b42f2156,2020-03-28T15:55:43.103Z\\n5e783375cfc8b713f5ac7c5b,5e7f39a3a3258347b42f2151,2020-03-28T14:33:18.560Z\\n5d60098a653a331687083238,5dbc631f99cbb90e4339c7fd,2020-03-28T13:42:50.090Z\\n5e7f4ad1a3258347b42f2155,5e7f4fb3a3258347b42f2156,2020-03-28T13:26:56.304Z\\n5e783375cfc8b713f5ac7c5b,5e787636cfc8b713f5ac7cbe,2020-03-28T11:45:05.321Z\\n5d618359fc5fcf3bdd9a0910,5e7a605dcfc8b713f5ac7d81,2020-03-28T06:14:31.430Z\\n5d618359fc5fcf3bdd9a0910,5e773c0bcfc8b713f5ac7ab7,2020-03-28T06:14:14.147Z\\n5d618359fc5fcf3bdd9a0910,5e7e66e7a3258347b42f213c,2020-03-28T06:11:15.433Z\\n5d610ae1653a331687083239,5e7e66e7a3258347b42f213c,2020-03-28T06:04:16.448Z\\n5d610ae1653a331687083239,5e7de48ca3258347b42f2110,2020-03-27T19:28:42.287Z\\n5d610ae1653a331687083239,5e7df068a3258347b42f2125,2020-03-27T19:25:54.399Z\\n5d610ae1653a331687083239,5e7df283a3258347b42f2128,2020-03-27T19:25:07.472Z\\n5d610ae1653a331687083239,5e7de250a3258347b42f210a,2020-03-27T19:24:17.414Z\\n5d60098a653a331687083238,5e7c7a44cfc8b713f5ac7dac,2020-03-27T17:44:16.993Z\\n5d60098a653a331687083238,5e7de48ca3258347b42f2110,2020-03-27T15:12:48.967Z\\n5e7def80a3258347b42f2124,5e7b8764cfc8b713f5ac7da2,2020-03-27T12:33:42.341Z\\n5e7def80a3258347b42f2124,5dd1751db802e41ed198b680,2020-03-27T12:26:18.624Z\\n5e7de336a3258347b42f210e,5e733f1c1b24db0468e90cf1,2020-03-27T11:35:16.980Z\\n5e7de336a3258347b42f210e,5e5e3b35fbc8805f69e02c9e,2020-03-27T11:35:13.977Z\\n5e7de336a3258347b42f210e,5e5facf649d7f322c033e02b,2020-03-27T11:35:06.956Z\\n5e7de336a3258347b42f210e,5e7de250a3258347b42f210a,2020-03-27T11:35:02.354Z\\n5e7dde87a3258347b42f2108,5e79f3fccfc8b713f5ac7d54,2020-03-27T11:09:38.898Z\\n5d610ae1653a331687083239,5e7bd922cfc8b713f5ac7da9,2020-03-27T09:45:14.071Z\\n5d7c994d5720533e15c3b1e9,5e79b32ecfc8b713f5ac7d3f,2020-03-27T09:40:56.366Z\\n5d7c994d5720533e15c3b1e9,5e77c625cfc8b713f5ac7c0b,2020-03-27T09:38:43.891Z\\n5d7c994d5720533e15c3b1e9,5e7304761b24db0468e90ce7,2020-03-27T09:37:14.199Z\\n5d60098a653a331687083238,5e294fd1c85ab714a7da6643,2020-03-27T08:41:13.123Z\\n5d60098a653a331687083238,5e7cc074cfc8b713f5ac7db0,2020-03-27T08:40:58.818Z\\n5d610ae1653a331687083239,5e7c7a44cfc8b713f5ac7dac,2020-03-26T22:23:59.430Z\\n5d610ae1653a331687083239,5e7c78fdcfc8b713f5ac7daa,2020-03-26T22:23:15.619Z\\n5e5855ced701ab08af792b51,5e7bd922cfc8b713f5ac7da9,2020-03-26T21:39:16.764Z\\n5d60098a653a331687083238,5dc065ca24b883670268772f,2020-03-26T19:10:26.525Z\\n5d60098a653a331687083238,5e7a5f5dcfc8b713f5ac7d80,2020-03-26T19:07:05.543Z\\n5d60098a653a331687083238,5e7a0d85cfc8b713f5ac7d77,2020-03-26T19:06:59.183Z\\n5d60098a653a331687083238,5e7a5ebdcfc8b713f5ac7d7f,2020-03-26T19:05:50.403Z\\n5d60098a653a331687083238,5e7a63c2cfc8b713f5ac7d86,2020-03-26T19:05:42.475Z\\n5d60098a653a331687083238,5e7a60edcfc8b713f5ac7d82,2020-03-26T19:03:55.284Z\\n5d60098a653a331687083238,5e7a629ccfc8b713f5ac7d84,2020-03-26T19:01:42.384Z\\n5d60098a653a331687083238,5e7b1e65cfc8b713f5ac7d90,2020-03-26T19:00:25.693Z\\n5d60098a653a331687083238,5e7cc074cfc8b713f5ac7db0,2020-03-26T18:49:14.721Z\\n5d60098a653a331687083238,5e1029f22a37d20505da2a79,2020-03-26T18:25:45.637Z\\n'}"
            ]
          },
          "metadata": {
            "tags": []
          },
          "execution_count": 4
        }
      ]
    },
    {
      "cell_type": "markdown",
      "metadata": {
        "id": "TErRc3XYUgFY"
      },
      "source": [
        "Reading CSV files"
      ]
    },
    {
      "cell_type": "code",
      "metadata": {
        "id": "NFWdFnGzd8iM"
      },
      "source": [
        "df1=pd.read_csv(\"posts.csv\", encoding='unicode_escape', error_bad_lines=False)\n",
        "df2=pd.read_csv(\"users.csv\", encoding='unicode_escape', error_bad_lines=False)\n",
        "df3=pd.read_csv(\"views.csv\", encoding='unicode_escape', error_bad_lines=False)"
      ],
      "execution_count": null,
      "outputs": []
    },
    {
      "cell_type": "markdown",
      "metadata": {
        "id": "_MZ_HFzCUlVc"
      },
      "source": [
        "Data pre Processing"
      ]
    },
    {
      "cell_type": "code",
      "metadata": {
        "colab": {
          "base_uri": "https://localhost:8080/",
          "height": 135
        },
        "id": "WJy1PbUWmzNt",
        "outputId": "200af670-5896-412f-a475-a90926d2aac6"
      },
      "source": [
        "df1['post_no']=[x for x in range(0,df1.shape[0])]\n",
        "df1.head(3)"
      ],
      "execution_count": null,
      "outputs": [
        {
          "output_type": "execute_result",
          "data": {
            "text/html": [
              "<div>\n",
              "<style scoped>\n",
              "    .dataframe tbody tr th:only-of-type {\n",
              "        vertical-align: middle;\n",
              "    }\n",
              "\n",
              "    .dataframe tbody tr th {\n",
              "        vertical-align: top;\n",
              "    }\n",
              "\n",
              "    .dataframe thead th {\n",
              "        text-align: right;\n",
              "    }\n",
              "</style>\n",
              "<table border=\"1\" class=\"dataframe\">\n",
              "  <thead>\n",
              "    <tr style=\"text-align: right;\">\n",
              "      <th></th>\n",
              "      <th>_id</th>\n",
              "      <th>title</th>\n",
              "      <th>category</th>\n",
              "      <th>post_type</th>\n",
              "      <th>post_no</th>\n",
              "    </tr>\n",
              "  </thead>\n",
              "  <tbody>\n",
              "    <tr>\n",
              "      <th>0</th>\n",
              "      <td>5d62abaa65218653a132c956</td>\n",
              "      <td>hello there</td>\n",
              "      <td>Plant Biotechnology</td>\n",
              "      <td>blog</td>\n",
              "      <td>0</td>\n",
              "    </tr>\n",
              "    <tr>\n",
              "      <th>1</th>\n",
              "      <td>5d6d39567fa40e1417a4931c</td>\n",
              "      <td>Ml and AI</td>\n",
              "      <td>Artificial Intelligence|Machine Learning|Infor...</td>\n",
              "      <td>blog</td>\n",
              "      <td>1</td>\n",
              "    </tr>\n",
              "    <tr>\n",
              "      <th>2</th>\n",
              "      <td>5d7d23315720533e15c3b1ee</td>\n",
              "      <td>What is an Operating System ?</td>\n",
              "      <td>Operating Systems</td>\n",
              "      <td>blog</td>\n",
              "      <td>2</td>\n",
              "    </tr>\n",
              "  </tbody>\n",
              "</table>\n",
              "</div>"
            ],
            "text/plain": [
              "                        _id                          title  ...  post_type post_no\n",
              "0  5d62abaa65218653a132c956                    hello there  ...       blog       0\n",
              "1  5d6d39567fa40e1417a4931c                      Ml and AI  ...       blog       1\n",
              "2  5d7d23315720533e15c3b1ee  What is an Operating System ?  ...       blog       2\n",
              "\n",
              "[3 rows x 5 columns]"
            ]
          },
          "metadata": {
            "tags": []
          },
          "execution_count": 6
        }
      ]
    },
    {
      "cell_type": "code",
      "metadata": {
        "colab": {
          "base_uri": "https://localhost:8080/"
        },
        "id": "VwCJ17vpmSyS",
        "outputId": "83ac5b77-d257-4aaa-a97f-2c06cd1504f6"
      },
      "source": [
        "#checking for null values\n",
        "df1.isnull().sum()"
      ],
      "execution_count": null,
      "outputs": [
        {
          "output_type": "execute_result",
          "data": {
            "text/plain": [
              "_id            0\n",
              "title          0\n",
              "category      28\n",
              " post_type     0\n",
              "post_no        0\n",
              "dtype: int64"
            ]
          },
          "metadata": {
            "tags": []
          },
          "execution_count": 7
        }
      ]
    },
    {
      "cell_type": "code",
      "metadata": {
        "id": "NCMPxmgCmXw0"
      },
      "source": [
        "#replacing null valued catogries by any\n",
        "df1.fillna(\"\", inplace=True)"
      ],
      "execution_count": null,
      "outputs": []
    },
    {
      "cell_type": "code",
      "metadata": {
        "colab": {
          "base_uri": "https://localhost:8080/"
        },
        "id": "dRTQhQTqqUYg",
        "outputId": "3d11eb3f-d54d-470c-ee47-601c06eb4619"
      },
      "source": [
        "#checking for duplicates\n",
        "df1.drop_duplicates(inplace=True)\n",
        "df1.shape"
      ],
      "execution_count": null,
      "outputs": [
        {
          "output_type": "execute_result",
          "data": {
            "text/plain": [
              "(493, 5)"
            ]
          },
          "metadata": {
            "tags": []
          },
          "execution_count": 9
        }
      ]
    },
    {
      "cell_type": "code",
      "metadata": {
        "colab": {
          "base_uri": "https://localhost:8080/",
          "height": 135
        },
        "id": "Wrm4O__MnUtz",
        "outputId": "88a2daab-0646-4a4f-e49c-620ea5470bd3"
      },
      "source": [
        "df2['user_no']=[x for x in range(0,df2.shape[0])]\n",
        "df2.head(3)"
      ],
      "execution_count": null,
      "outputs": [
        {
          "output_type": "execute_result",
          "data": {
            "text/html": [
              "<div>\n",
              "<style scoped>\n",
              "    .dataframe tbody tr th:only-of-type {\n",
              "        vertical-align: middle;\n",
              "    }\n",
              "\n",
              "    .dataframe tbody tr th {\n",
              "        vertical-align: top;\n",
              "    }\n",
              "\n",
              "    .dataframe thead th {\n",
              "        text-align: right;\n",
              "    }\n",
              "</style>\n",
              "<table border=\"1\" class=\"dataframe\">\n",
              "  <thead>\n",
              "    <tr style=\"text-align: right;\">\n",
              "      <th></th>\n",
              "      <th>_id</th>\n",
              "      <th>name</th>\n",
              "      <th>gender</th>\n",
              "      <th>academics</th>\n",
              "      <th>user_no</th>\n",
              "    </tr>\n",
              "  </thead>\n",
              "  <tbody>\n",
              "    <tr>\n",
              "      <th>0</th>\n",
              "      <td>5d60098a653a331687083238</td>\n",
              "      <td>Nivesh Singh Chauhan</td>\n",
              "      <td>male</td>\n",
              "      <td>undergraduate</td>\n",
              "      <td>0</td>\n",
              "    </tr>\n",
              "    <tr>\n",
              "      <th>1</th>\n",
              "      <td>5d610ae1653a331687083239</td>\n",
              "      <td>Gaurav Sharma</td>\n",
              "      <td>male</td>\n",
              "      <td>graduate</td>\n",
              "      <td>1</td>\n",
              "    </tr>\n",
              "    <tr>\n",
              "      <th>2</th>\n",
              "      <td>5d618359fc5fcf3bdd9a0910</td>\n",
              "      <td>Akshay Mishra</td>\n",
              "      <td>male</td>\n",
              "      <td>undergraduate</td>\n",
              "      <td>2</td>\n",
              "    </tr>\n",
              "  </tbody>\n",
              "</table>\n",
              "</div>"
            ],
            "text/plain": [
              "                        _id                  name  ...      academics user_no\n",
              "0  5d60098a653a331687083238  Nivesh Singh Chauhan  ...  undergraduate       0\n",
              "1  5d610ae1653a331687083239         Gaurav Sharma  ...       graduate       1\n",
              "2  5d618359fc5fcf3bdd9a0910         Akshay Mishra  ...  undergraduate       2\n",
              "\n",
              "[3 rows x 5 columns]"
            ]
          },
          "metadata": {
            "tags": []
          },
          "execution_count": 10
        }
      ]
    },
    {
      "cell_type": "code",
      "metadata": {
        "colab": {
          "base_uri": "https://localhost:8080/"
        },
        "id": "BungjXtpn6U1",
        "outputId": "f4d58a6b-8704-44d7-80ae-2daf9b30a388"
      },
      "source": [
        "#checking for null values\n",
        "df2.isnull().sum()"
      ],
      "execution_count": null,
      "outputs": [
        {
          "output_type": "execute_result",
          "data": {
            "text/plain": [
              "_id          0\n",
              "name         0\n",
              "gender       0\n",
              "academics    0\n",
              "user_no      0\n",
              "dtype: int64"
            ]
          },
          "metadata": {
            "tags": []
          },
          "execution_count": 11
        }
      ]
    },
    {
      "cell_type": "code",
      "metadata": {
        "colab": {
          "base_uri": "https://localhost:8080/"
        },
        "id": "O_nlR4C8qpHF",
        "outputId": "ae35ade5-9320-4e00-f99e-52248ebb7fb9"
      },
      "source": [
        "#removing duplicate values if present\n",
        "df2.drop_duplicates(keep=False, inplace=True)\n",
        "df2.shape"
      ],
      "execution_count": null,
      "outputs": [
        {
          "output_type": "execute_result",
          "data": {
            "text/plain": [
              "(118, 5)"
            ]
          },
          "metadata": {
            "tags": []
          },
          "execution_count": 12
        }
      ]
    },
    {
      "cell_type": "code",
      "metadata": {
        "colab": {
          "base_uri": "https://localhost:8080/",
          "height": 135
        },
        "id": "EktnwAjPoyLi",
        "outputId": "6e477ad9-a0eb-4079-b4e0-f9ba52c4e295"
      },
      "source": [
        "df3.head(3)"
      ],
      "execution_count": null,
      "outputs": [
        {
          "output_type": "execute_result",
          "data": {
            "text/html": [
              "<div>\n",
              "<style scoped>\n",
              "    .dataframe tbody tr th:only-of-type {\n",
              "        vertical-align: middle;\n",
              "    }\n",
              "\n",
              "    .dataframe tbody tr th {\n",
              "        vertical-align: top;\n",
              "    }\n",
              "\n",
              "    .dataframe thead th {\n",
              "        text-align: right;\n",
              "    }\n",
              "</style>\n",
              "<table border=\"1\" class=\"dataframe\">\n",
              "  <thead>\n",
              "    <tr style=\"text-align: right;\">\n",
              "      <th></th>\n",
              "      <th>user_id</th>\n",
              "      <th>post_id</th>\n",
              "      <th>timestamp</th>\n",
              "    </tr>\n",
              "  </thead>\n",
              "  <tbody>\n",
              "    <tr>\n",
              "      <th>0</th>\n",
              "      <td>5df49b32cc709107827fb3c7</td>\n",
              "      <td>5ec821ddec493f4a2655889e</td>\n",
              "      <td>2020-06-01T10:46:45.131Z</td>\n",
              "    </tr>\n",
              "    <tr>\n",
              "      <th>1</th>\n",
              "      <td>5ed3748576027d35905ccaab</td>\n",
              "      <td>5ed4cbadbd514d602c1531a6</td>\n",
              "      <td>2020-06-01T09:39:20.021Z</td>\n",
              "    </tr>\n",
              "    <tr>\n",
              "      <th>2</th>\n",
              "      <td>5ed0defa76027d35905cc2de</td>\n",
              "      <td>5eac305f10426255a7aa9dd3</td>\n",
              "      <td>2020-06-01T08:12:42.682Z</td>\n",
              "    </tr>\n",
              "  </tbody>\n",
              "</table>\n",
              "</div>"
            ],
            "text/plain": [
              "                    user_id                   post_id                 timestamp\n",
              "0  5df49b32cc709107827fb3c7  5ec821ddec493f4a2655889e  2020-06-01T10:46:45.131Z\n",
              "1  5ed3748576027d35905ccaab  5ed4cbadbd514d602c1531a6  2020-06-01T09:39:20.021Z\n",
              "2  5ed0defa76027d35905cc2de  5eac305f10426255a7aa9dd3  2020-06-01T08:12:42.682Z"
            ]
          },
          "metadata": {
            "tags": []
          },
          "execution_count": 13
        }
      ]
    },
    {
      "cell_type": "code",
      "metadata": {
        "colab": {
          "base_uri": "https://localhost:8080/"
        },
        "id": "5fd9OR2CplZS",
        "outputId": "147b001b-492d-4d4b-c189-aa897e4c0065"
      },
      "source": [
        "#checking for null values\n",
        "df3.isnull().sum()"
      ],
      "execution_count": null,
      "outputs": [
        {
          "output_type": "execute_result",
          "data": {
            "text/plain": [
              "user_id      0\n",
              "post_id      0\n",
              "timestamp    0\n",
              "dtype: int64"
            ]
          },
          "metadata": {
            "tags": []
          },
          "execution_count": 14
        }
      ]
    },
    {
      "cell_type": "code",
      "metadata": {
        "colab": {
          "base_uri": "https://localhost:8080/"
        },
        "id": "BK93RlC6poua",
        "outputId": "cbc3b757-ec93-49d6-f438-ded90901d515"
      },
      "source": [
        "#removing duplicate values if any\n",
        "df3.duplicated(['user_id','post_id'], keep=False)\n",
        "df3.shape"
      ],
      "execution_count": null,
      "outputs": [
        {
          "output_type": "execute_result",
          "data": {
            "text/plain": [
              "(1449, 3)"
            ]
          },
          "metadata": {
            "tags": []
          },
          "execution_count": 15
        }
      ]
    },
    {
      "cell_type": "code",
      "metadata": {
        "id": "uBtP648UquBp"
      },
      "source": [
        "#droping timestamp cloumn\n",
        "df3.drop(['timestamp'], axis=1, inplace=True)"
      ],
      "execution_count": null,
      "outputs": []
    },
    {
      "cell_type": "markdown",
      "metadata": {
        "id": "hE8fCKh-HcnO"
      },
      "source": [
        "sorting values based on post id "
      ]
    },
    {
      "cell_type": "code",
      "metadata": {
        "id": "bWNNclV3t5Yu"
      },
      "source": [
        "\n",
        "df3=df3.sort_values('post_id')\n",
        "df3.reset_index(inplace=True)"
      ],
      "execution_count": null,
      "outputs": []
    },
    {
      "cell_type": "markdown",
      "metadata": {
        "id": "ug8U4D2HHzQa"
      },
      "source": [
        "Merging all the 3 dataframes"
      ]
    },
    {
      "cell_type": "code",
      "metadata": {
        "colab": {
          "base_uri": "https://localhost:8080/",
          "height": 236
        },
        "id": "ojS6hoVWtMjI",
        "outputId": "cf7a6f94-bbbb-4f25-c1ad-bdd00b7c1dc7"
      },
      "source": [
        "df3=pd.merge(df1,df3,left_on='_id', right_on='post_id')\n",
        "df3=pd.merge(df2,df3,left_on='_id', right_on='user_id')\n",
        "df3.head(3)"
      ],
      "execution_count": null,
      "outputs": [
        {
          "output_type": "execute_result",
          "data": {
            "text/html": [
              "<div>\n",
              "<style scoped>\n",
              "    .dataframe tbody tr th:only-of-type {\n",
              "        vertical-align: middle;\n",
              "    }\n",
              "\n",
              "    .dataframe tbody tr th {\n",
              "        vertical-align: top;\n",
              "    }\n",
              "\n",
              "    .dataframe thead th {\n",
              "        text-align: right;\n",
              "    }\n",
              "</style>\n",
              "<table border=\"1\" class=\"dataframe\">\n",
              "  <thead>\n",
              "    <tr style=\"text-align: right;\">\n",
              "      <th></th>\n",
              "      <th>_id_x</th>\n",
              "      <th>name</th>\n",
              "      <th>gender</th>\n",
              "      <th>academics</th>\n",
              "      <th>user_no</th>\n",
              "      <th>_id_y</th>\n",
              "      <th>title</th>\n",
              "      <th>category</th>\n",
              "      <th>post_type</th>\n",
              "      <th>post_no</th>\n",
              "      <th>index</th>\n",
              "      <th>user_id</th>\n",
              "      <th>post_id</th>\n",
              "    </tr>\n",
              "  </thead>\n",
              "  <tbody>\n",
              "    <tr>\n",
              "      <th>0</th>\n",
              "      <td>5d60098a653a331687083238</td>\n",
              "      <td>Nivesh Singh Chauhan</td>\n",
              "      <td>male</td>\n",
              "      <td>undergraduate</td>\n",
              "      <td>0</td>\n",
              "      <td>5d62abaa65218653a132c956</td>\n",
              "      <td>hello there</td>\n",
              "      <td>Plant Biotechnology</td>\n",
              "      <td>blog</td>\n",
              "      <td>0</td>\n",
              "      <td>809</td>\n",
              "      <td>5d60098a653a331687083238</td>\n",
              "      <td>5d62abaa65218653a132c956</td>\n",
              "    </tr>\n",
              "    <tr>\n",
              "      <th>1</th>\n",
              "      <td>5d60098a653a331687083238</td>\n",
              "      <td>Nivesh Singh Chauhan</td>\n",
              "      <td>male</td>\n",
              "      <td>undergraduate</td>\n",
              "      <td>0</td>\n",
              "      <td>5d6d39567fa40e1417a4931c</td>\n",
              "      <td>Ml and AI</td>\n",
              "      <td>Artificial Intelligence|Machine Learning|Infor...</td>\n",
              "      <td>blog</td>\n",
              "      <td>1</td>\n",
              "      <td>1223</td>\n",
              "      <td>5d60098a653a331687083238</td>\n",
              "      <td>5d6d39567fa40e1417a4931c</td>\n",
              "    </tr>\n",
              "    <tr>\n",
              "      <th>2</th>\n",
              "      <td>5d60098a653a331687083238</td>\n",
              "      <td>Nivesh Singh Chauhan</td>\n",
              "      <td>male</td>\n",
              "      <td>undergraduate</td>\n",
              "      <td>0</td>\n",
              "      <td>5dbc631f99cbb90e4339c7fd</td>\n",
              "      <td>Calligraphy</td>\n",
              "      <td>Drawings|Calligraphy</td>\n",
              "      <td>artwork</td>\n",
              "      <td>20</td>\n",
              "      <td>1410</td>\n",
              "      <td>5d60098a653a331687083238</td>\n",
              "      <td>5dbc631f99cbb90e4339c7fd</td>\n",
              "    </tr>\n",
              "  </tbody>\n",
              "</table>\n",
              "</div>"
            ],
            "text/plain": [
              "                      _id_x  ...                   post_id\n",
              "0  5d60098a653a331687083238  ...  5d62abaa65218653a132c956\n",
              "1  5d60098a653a331687083238  ...  5d6d39567fa40e1417a4931c\n",
              "2  5d60098a653a331687083238  ...  5dbc631f99cbb90e4339c7fd\n",
              "\n",
              "[3 rows x 13 columns]"
            ]
          },
          "metadata": {
            "tags": []
          },
          "execution_count": 18
        }
      ]
    },
    {
      "cell_type": "markdown",
      "metadata": {
        "id": "0XfF2kZyIDUW"
      },
      "source": [
        "Creating a new dataframe with all the columns that we are going to use for building a recomendation system"
      ]
    },
    {
      "cell_type": "code",
      "metadata": {
        "id": "oXcZ_y2zvgi8"
      },
      "source": [
        "title__=df3.groupby('title')['title'].agg('unique')\n",
        "title__=list(title__)\n",
        "title_=[]\n",
        "for i in title__:\n",
        "  Str = ' '.join([str(ele) for ele in i])\n",
        "  title_.append(Str)"
      ],
      "execution_count": null,
      "outputs": []
    },
    {
      "cell_type": "code",
      "metadata": {
        "id": "ga_1ZqRlv409"
      },
      "source": [
        "gender__=df3.groupby('title')['gender'].agg('unique')\n",
        "gender__=list(gender__)\n",
        "gender_=[]\n",
        "for i in gender__:\n",
        "  Str = ' '.join([str(ele) for ele in i])\n",
        "  gender_.append(Str)\n",
        "  "
      ],
      "execution_count": null,
      "outputs": []
    },
    {
      "cell_type": "code",
      "metadata": {
        "id": "L4jzJK5_wrLe"
      },
      "source": [
        "academics__=df3.groupby('title')['academics'].agg('unique')\n",
        "academics__=list(academics__)\n",
        "academics_=[]\n",
        "for i in academics__:\n",
        "  Str = ' '.join([str(ele) for ele in i])\n",
        "  academics_.append(Str)"
      ],
      "execution_count": null,
      "outputs": []
    },
    {
      "cell_type": "code",
      "metadata": {
        "id": "Ocb3yCO4zGLY"
      },
      "source": [
        "category__=df3.groupby('title')['category'].agg('unique')\n",
        "category__=list(category__)\n",
        "category_=[]\n",
        "for i in category__:\n",
        "  Str = ' '.join([str(ele) for ele in i])\n",
        "  category_.append(Str)"
      ],
      "execution_count": null,
      "outputs": []
    },
    {
      "cell_type": "code",
      "metadata": {
        "id": "_uDWVLnkzoEK"
      },
      "source": [
        "post_type__=df3.groupby('title')[' post_type'].agg('unique')\n",
        "post_type__=list(post_type__)\n",
        "post_type_=[]\n",
        "for i in post_type__:\n",
        "  Str = ' '.join([str(ele) for ele in i])\n",
        "  post_type_.append(Str)"
      ],
      "execution_count": null,
      "outputs": []
    },
    {
      "cell_type": "code",
      "metadata": {
        "id": "SzYQiODt0JPj"
      },
      "source": [
        "df = {'Title':title_,'Post_Type':post_type_, 'category':category_, 'ReadBy_gender': gender_, 'academics':academics_}"
      ],
      "execution_count": null,
      "outputs": []
    },
    {
      "cell_type": "code",
      "metadata": {
        "id": "XdSDN9JA10PR"
      },
      "source": [
        "df= pd.DataFrame(df)"
      ],
      "execution_count": null,
      "outputs": []
    },
    {
      "cell_type": "code",
      "metadata": {
        "colab": {
          "base_uri": "https://localhost:8080/",
          "height": 135
        },
        "id": "jPVK30x214wf",
        "outputId": "a5d02e82-94f0-4509-f211-f4dc36b49baa"
      },
      "source": [
        "df.head(3)"
      ],
      "execution_count": null,
      "outputs": [
        {
          "output_type": "execute_result",
          "data": {
            "text/html": [
              "<div>\n",
              "<style scoped>\n",
              "    .dataframe tbody tr th:only-of-type {\n",
              "        vertical-align: middle;\n",
              "    }\n",
              "\n",
              "    .dataframe tbody tr th {\n",
              "        vertical-align: top;\n",
              "    }\n",
              "\n",
              "    .dataframe thead th {\n",
              "        text-align: right;\n",
              "    }\n",
              "</style>\n",
              "<table border=\"1\" class=\"dataframe\">\n",
              "  <thead>\n",
              "    <tr style=\"text-align: right;\">\n",
              "      <th></th>\n",
              "      <th>Title</th>\n",
              "      <th>Post_Type</th>\n",
              "      <th>category</th>\n",
              "      <th>ReadBy_gender</th>\n",
              "      <th>academics</th>\n",
              "    </tr>\n",
              "  </thead>\n",
              "  <tbody>\n",
              "    <tr>\n",
              "      <th>0</th>\n",
              "      <td>'The Virtual ME'</td>\n",
              "      <td>artwork</td>\n",
              "      <td>Fashion Design|Visual Arts|Graphic Design|Arti...</td>\n",
              "      <td>male female</td>\n",
              "      <td>graduate undergraduate</td>\n",
              "    </tr>\n",
              "    <tr>\n",
              "      <th>1</th>\n",
              "      <td>10 Best Artificial Intelligence (AI) Courses O...</td>\n",
              "      <td>blog</td>\n",
              "      <td>Computer Technology|Machine Learning</td>\n",
              "      <td>male</td>\n",
              "      <td>undergraduate</td>\n",
              "    </tr>\n",
              "    <tr>\n",
              "      <th>2</th>\n",
              "      <td>10 Best UI UX Design Course &amp; Certification [2...</td>\n",
              "      <td>blog</td>\n",
              "      <td>Computer Technology|Design and Analysis of Alg...</td>\n",
              "      <td>male</td>\n",
              "      <td>undergraduate</td>\n",
              "    </tr>\n",
              "  </tbody>\n",
              "</table>\n",
              "</div>"
            ],
            "text/plain": [
              "                                               Title  ...               academics\n",
              "0                                   'The Virtual ME'  ...  graduate undergraduate\n",
              "1  10 Best Artificial Intelligence (AI) Courses O...  ...           undergraduate\n",
              "2  10 Best UI UX Design Course & Certification [2...  ...           undergraduate\n",
              "\n",
              "[3 rows x 5 columns]"
            ]
          },
          "metadata": {
            "tags": []
          },
          "execution_count": 26
        }
      ]
    },
    {
      "cell_type": "code",
      "metadata": {
        "id": "QFSMJgfR2MVe"
      },
      "source": [
        "def add_space(Stri):\n",
        "    new_str = Stri.replace('|',' ')\n",
        "    return new_str"
      ],
      "execution_count": null,
      "outputs": []
    },
    {
      "cell_type": "code",
      "metadata": {
        "id": "O2_ufzm93fMy",
        "colab": {
          "base_uri": "https://localhost:8080/",
          "height": 135
        },
        "outputId": "a2f2c308-30c4-4fd9-8d76-a04aa58a794a"
      },
      "source": [
        "df['category'] = df['category'].apply(add_space)\n",
        "df[\"post_no\"]=[x for x in range(0,df.shape[0])]\n",
        "df.head(3)"
      ],
      "execution_count": null,
      "outputs": [
        {
          "output_type": "execute_result",
          "data": {
            "text/html": [
              "<div>\n",
              "<style scoped>\n",
              "    .dataframe tbody tr th:only-of-type {\n",
              "        vertical-align: middle;\n",
              "    }\n",
              "\n",
              "    .dataframe tbody tr th {\n",
              "        vertical-align: top;\n",
              "    }\n",
              "\n",
              "    .dataframe thead th {\n",
              "        text-align: right;\n",
              "    }\n",
              "</style>\n",
              "<table border=\"1\" class=\"dataframe\">\n",
              "  <thead>\n",
              "    <tr style=\"text-align: right;\">\n",
              "      <th></th>\n",
              "      <th>Title</th>\n",
              "      <th>Post_Type</th>\n",
              "      <th>category</th>\n",
              "      <th>ReadBy_gender</th>\n",
              "      <th>academics</th>\n",
              "      <th>post_no</th>\n",
              "    </tr>\n",
              "  </thead>\n",
              "  <tbody>\n",
              "    <tr>\n",
              "      <th>0</th>\n",
              "      <td>'The Virtual ME'</td>\n",
              "      <td>artwork</td>\n",
              "      <td>Fashion Design Visual Arts Graphic Design Arti...</td>\n",
              "      <td>male female</td>\n",
              "      <td>graduate undergraduate</td>\n",
              "      <td>0</td>\n",
              "    </tr>\n",
              "    <tr>\n",
              "      <th>1</th>\n",
              "      <td>10 Best Artificial Intelligence (AI) Courses O...</td>\n",
              "      <td>blog</td>\n",
              "      <td>Computer Technology Machine Learning</td>\n",
              "      <td>male</td>\n",
              "      <td>undergraduate</td>\n",
              "      <td>1</td>\n",
              "    </tr>\n",
              "    <tr>\n",
              "      <th>2</th>\n",
              "      <td>10 Best UI UX Design Course &amp; Certification [2...</td>\n",
              "      <td>blog</td>\n",
              "      <td>Computer Technology Design and Analysis of Alg...</td>\n",
              "      <td>male</td>\n",
              "      <td>undergraduate</td>\n",
              "      <td>2</td>\n",
              "    </tr>\n",
              "  </tbody>\n",
              "</table>\n",
              "</div>"
            ],
            "text/plain": [
              "                                               Title  ... post_no\n",
              "0                                   'The Virtual ME'  ...       0\n",
              "1  10 Best Artificial Intelligence (AI) Courses O...  ...       1\n",
              "2  10 Best UI UX Design Course & Certification [2...  ...       2\n",
              "\n",
              "[3 rows x 6 columns]"
            ]
          },
          "metadata": {
            "tags": []
          },
          "execution_count": 28
        }
      ]
    },
    {
      "cell_type": "markdown",
      "metadata": {
        "id": "cgXbd0a2Iwn5"
      },
      "source": [
        "#Building Content Based Recomendation system"
      ]
    },
    {
      "cell_type": "code",
      "metadata": {
        "id": "_VMg7w4b5IJY"
      },
      "source": [
        "def combine_data(data):\n",
        "  features=[]\n",
        "  for i in range(0,df.shape[0]):\n",
        "    features.append(df['Title'][i]+' '+ df['Post_Type'][i]+' ' + df['category'][i]+' ' + df['ReadBy_gender'][i]+ ' ' + df['academics'][i])\n",
        "  return features"
      ],
      "execution_count": null,
      "outputs": []
    },
    {
      "cell_type": "code",
      "metadata": {
        "id": "SgQct7eK6FtZ"
      },
      "source": [
        "combined_data=combine_data(df)"
      ],
      "execution_count": null,
      "outputs": []
    },
    {
      "cell_type": "code",
      "metadata": {
        "id": "KCeosSff6Slj"
      },
      "source": [
        "cv=CountVectorizer()\n",
        "matrix=cv.fit_transform(combined_data)\n"
      ],
      "execution_count": null,
      "outputs": []
    },
    {
      "cell_type": "code",
      "metadata": {
        "colab": {
          "base_uri": "https://localhost:8080/"
        },
        "id": "JjNDuBIM6xk9",
        "outputId": "f99bc241-b869-4078-ebaf-1cd546f7f68d"
      },
      "source": [
        "cs=cosine_similarity(matrix)\n",
        "print(cs)"
      ],
      "execution_count": null,
      "outputs": [
        {
          "output_type": "stream",
          "text": [
            "[[1.         0.09805807 0.30769231 ... 0.24019223 0.23652496 0.13074409]\n",
            " [0.09805807 1.         0.49029034 ... 0.20412415 0.22613351 0.25      ]\n",
            " [0.30769231 0.49029034 1.         ... 0.16012815 0.17739372 0.19611614]\n",
            " ...\n",
            " [0.24019223 0.20412415 0.16012815 ... 1.         0.24618298 0.27216553]\n",
            " [0.23652496 0.22613351 0.17739372 ... 0.24618298 1.         0.30151134]\n",
            " [0.13074409 0.25       0.19611614 ... 0.27216553 0.30151134 1.        ]]\n"
          ],
          "name": "stdout"
        }
      ]
    },
    {
      "cell_type": "code",
      "metadata": {
        "id": "Aw3HBjN6AN3S"
      },
      "source": [
        "def get_post_no_from_post_id(index):\n",
        "    return get_post_no_from_title(df1[df1['_id'] == index]['title'].values[0])"
      ],
      "execution_count": null,
      "outputs": []
    },
    {
      "cell_type": "code",
      "metadata": {
        "id": "hWhS82CxBoYI"
      },
      "source": [
        "def get_post_no_from_title(title):\n",
        "    return df[df.Title == title]['post_no'].values[0]"
      ],
      "execution_count": null,
      "outputs": []
    },
    {
      "cell_type": "code",
      "metadata": {
        "id": "wXYblk2QStyR"
      },
      "source": [
        "def get_title_from_post_no(post_no):\n",
        "  return df[df.post_no == post_no]['Title'].values[0]"
      ],
      "execution_count": null,
      "outputs": []
    },
    {
      "cell_type": "markdown",
      "metadata": {
        "id": "HuDthhdcI5eS"
      },
      "source": [
        "for now i am considering a custom input to see the results. \n",
        "We can use both used_id and post title to get similar posts."
      ]
    },
    {
      "cell_type": "code",
      "metadata": {
        "id": "dsEH4PckRpyR"
      },
      "source": [
        "user_likes='5d62abaa65218653a132c956'\n",
        "index=get_post_no_from_post_id(user_likes)"
      ],
      "execution_count": null,
      "outputs": []
    },
    {
      "cell_type": "code",
      "metadata": {
        "id": "YV600-XaB9-L"
      },
      "source": [
        "\n",
        "user_likes='Ml and AI'\n",
        "index= get_post_no_from_title(user_likes)"
      ],
      "execution_count": null,
      "outputs": []
    },
    {
      "cell_type": "code",
      "metadata": {
        "id": "qXaQAePvJSqU"
      },
      "source": [
        "similar_post = list(enumerate(cs[index]))"
      ],
      "execution_count": null,
      "outputs": []
    },
    {
      "cell_type": "code",
      "metadata": {
        "id": "JlqWw5rOJkbh"
      },
      "source": [
        "sorted_similar_post = sorted(similar_post,key=lambda x:x[1],reverse=True)[1:]"
      ],
      "execution_count": null,
      "outputs": []
    },
    {
      "cell_type": "markdown",
      "metadata": {
        "id": "8Xe-tuvcJOlF"
      },
      "source": [
        "#Result"
      ]
    },
    {
      "cell_type": "code",
      "metadata": {
        "colab": {
          "base_uri": "https://localhost:8080/"
        },
        "id": "v1DTEx5RSMFU",
        "outputId": "de5319b0-5736-4449-9cc0-c095f38cf91b"
      },
      "source": [
        "i=0\n",
        "print('5 similar post to ' +user_likes+ ' are:\\n')\n",
        "for element in sorted_similar_post:\n",
        "    print(get_title_from_post_no(element[0]))\n",
        "    i=i+1\n",
        "    if i>5:\n",
        "        break"
      ],
      "execution_count": null,
      "outputs": [
        {
          "output_type": "stream",
          "text": [
            "5 similar post to Ml and AI are:\n",
            "\n",
            "10 Best Artificial Intelligence (AI) Courses Online for 2020\n",
            "8 Best Machine Learning Courses for 2020\n",
            "Learning...\n",
            "Artificial Intelligence\n",
            "Recommend Systems Machine Learning\n",
            "Ethernet\n"
          ],
          "name": "stdout"
        }
      ]
    },
    {
      "cell_type": "markdown",
      "metadata": {
        "id": "VVTNdS0naHZm"
      },
      "source": [
        "#Colaborative Filtering"
      ]
    },
    {
      "cell_type": "code",
      "metadata": {
        "id": "S3No5ShS-h6j"
      },
      "source": [
        "df3[\"seen\"]=1"
      ],
      "execution_count": null,
      "outputs": []
    },
    {
      "cell_type": "code",
      "metadata": {
        "id": "qIDyDoGq-h91",
        "colab": {
          "base_uri": "https://localhost:8080/",
          "height": 272
        },
        "outputId": "5b8c74c4-99d1-4d47-b75d-f6cb7fa6ce75"
      },
      "source": [
        "mat = df3.pivot_table(index='user_id', columns='post_id', values='seen')\n",
        "mat = mat.fillna(0)\n",
        "mat.head()"
      ],
      "execution_count": null,
      "outputs": [
        {
          "output_type": "execute_result",
          "data": {
            "text/html": [
              "<div>\n",
              "<style scoped>\n",
              "    .dataframe tbody tr th:only-of-type {\n",
              "        vertical-align: middle;\n",
              "    }\n",
              "\n",
              "    .dataframe tbody tr th {\n",
              "        vertical-align: top;\n",
              "    }\n",
              "\n",
              "    .dataframe thead th {\n",
              "        text-align: right;\n",
              "    }\n",
              "</style>\n",
              "<table border=\"1\" class=\"dataframe\">\n",
              "  <thead>\n",
              "    <tr style=\"text-align: right;\">\n",
              "      <th>post_id</th>\n",
              "      <th>5d62abaa65218653a132c956</th>\n",
              "      <th>5d6d39567fa40e1417a4931c</th>\n",
              "      <th>5d7d23315720533e15c3b1ee</th>\n",
              "      <th>5d7d405e5720533e15c3b1f3</th>\n",
              "      <th>5d80dfbc6c53455f896e600e</th>\n",
              "      <th>5d80e7c16c53455f896e6014</th>\n",
              "      <th>5d80ecfd6c53455f896e601a</th>\n",
              "      <th>5d81323a6c53455f896e6044</th>\n",
              "      <th>5d9b3514979d5962253c2f90</th>\n",
              "      <th>5d9b950768671220a1b2b153</th>\n",
              "      <th>5da745b6019399436815c4cd</th>\n",
              "      <th>5dada695610ba040fbfdf585</th>\n",
              "      <th>5dada734610ba040fbfdf588</th>\n",
              "      <th>5dada798610ba040fbfdf58b</th>\n",
              "      <th>5dada82f610ba040fbfdf58e</th>\n",
              "      <th>5dada89b610ba040fbfdf591</th>\n",
              "      <th>5dadf6ae610ba040fbfdf5c8</th>\n",
              "      <th>5db2a7d099cbb90e4339c734</th>\n",
              "      <th>5db2b91a99cbb90e4339c749</th>\n",
              "      <th>5dbc622a99cbb90e4339c7f6</th>\n",
              "      <th>5dbc631f99cbb90e4339c7fd</th>\n",
              "      <th>5dc065ca24b883670268772f</th>\n",
              "      <th>5dd1751db802e41ed198b680</th>\n",
              "      <th>5dde6a91369b28584ecca156</th>\n",
              "      <th>5ddeb6e80eb5e25a8a07f065</th>\n",
              "      <th>5de179d80eb5e25a8a07f079</th>\n",
              "      <th>5de7971b8eab6401affbb137</th>\n",
              "      <th>5de8d73249e8203ff9219a74</th>\n",
              "      <th>5dea816a42a8854bf6eaba89</th>\n",
              "      <th>5dee9b5042a8854bf6eabaaf</th>\n",
              "      <th>5df64ad1cc709107827fb3dd</th>\n",
              "      <th>5e04fb252a37d20505da2a2b</th>\n",
              "      <th>5e1029f22a37d20505da2a79</th>\n",
              "      <th>5e27002d2a37d20505da2c13</th>\n",
              "      <th>5e281cf0025ae20886de2050</th>\n",
              "      <th>5e2867f6025ae20886de205a</th>\n",
              "      <th>5e294fd1c85ab714a7da6643</th>\n",
              "      <th>5e2d36ebc85ab714a7da66d1</th>\n",
              "      <th>5e2d3fbfc85ab714a7da66d5</th>\n",
              "      <th>5e2d447dc85ab714a7da66d7</th>\n",
              "      <th>...</th>\n",
              "      <th>5ecf23b87023451e66223944</th>\n",
              "      <th>5ecf818376027d35905cbf03</th>\n",
              "      <th>5ecf96e876027d35905cbf46</th>\n",
              "      <th>5ecfa0ca76027d35905cbf57</th>\n",
              "      <th>5ecfafcc76027d35905cbfb0</th>\n",
              "      <th>5ecfb35c76027d35905cbfbc</th>\n",
              "      <th>5ecfffb976027d35905cc0e9</th>\n",
              "      <th>5ed0007a76027d35905cc0ea</th>\n",
              "      <th>5ed09ad076027d35905cc15f</th>\n",
              "      <th>5ed0e20776027d35905cc2fe</th>\n",
              "      <th>5ed0e31a76027d35905cc302</th>\n",
              "      <th>5ed0e65976027d35905cc356</th>\n",
              "      <th>5ed0f0c576027d35905cc3c7</th>\n",
              "      <th>5ed13d2876027d35905cc4c2</th>\n",
              "      <th>5ed141aa76027d35905cc4c9</th>\n",
              "      <th>5ed175f176027d35905cc554</th>\n",
              "      <th>5ed175f476027d35905cc562</th>\n",
              "      <th>5ed1ff0276027d35905cc60d</th>\n",
              "      <th>5ed229d976027d35905cc666</th>\n",
              "      <th>5ed2378276027d35905cc6b5</th>\n",
              "      <th>5ed237d676027d35905cc6bd</th>\n",
              "      <th>5ed2383776027d35905cc6ca</th>\n",
              "      <th>5ed238d376027d35905cc6e5</th>\n",
              "      <th>5ed23a6376027d35905cc73b</th>\n",
              "      <th>5ed23b0776027d35905cc746</th>\n",
              "      <th>5ed23b6276027d35905cc74f</th>\n",
              "      <th>5ed23bb876027d35905cc759</th>\n",
              "      <th>5ed23c1876027d35905cc761</th>\n",
              "      <th>5ed23c8676027d35905cc780</th>\n",
              "      <th>5ed23cb876027d35905cc788</th>\n",
              "      <th>5ed23cf876027d35905cc790</th>\n",
              "      <th>5ed23d4276027d35905cc798</th>\n",
              "      <th>5ed23e4d76027d35905cc7b8</th>\n",
              "      <th>5ed2502b76027d35905cc7db</th>\n",
              "      <th>5ed3476576027d35905cca1d</th>\n",
              "      <th>5ed3791976027d35905ccab6</th>\n",
              "      <th>5ed3820f76027d35905ccac8</th>\n",
              "      <th>5ed3ef4cbd514d602c1530f2</th>\n",
              "      <th>5ed415c6bd514d602c15312d</th>\n",
              "      <th>5ed4cbadbd514d602c1531a6</th>\n",
              "    </tr>\n",
              "    <tr>\n",
              "      <th>user_id</th>\n",
              "      <th></th>\n",
              "      <th></th>\n",
              "      <th></th>\n",
              "      <th></th>\n",
              "      <th></th>\n",
              "      <th></th>\n",
              "      <th></th>\n",
              "      <th></th>\n",
              "      <th></th>\n",
              "      <th></th>\n",
              "      <th></th>\n",
              "      <th></th>\n",
              "      <th></th>\n",
              "      <th></th>\n",
              "      <th></th>\n",
              "      <th></th>\n",
              "      <th></th>\n",
              "      <th></th>\n",
              "      <th></th>\n",
              "      <th></th>\n",
              "      <th></th>\n",
              "      <th></th>\n",
              "      <th></th>\n",
              "      <th></th>\n",
              "      <th></th>\n",
              "      <th></th>\n",
              "      <th></th>\n",
              "      <th></th>\n",
              "      <th></th>\n",
              "      <th></th>\n",
              "      <th></th>\n",
              "      <th></th>\n",
              "      <th></th>\n",
              "      <th></th>\n",
              "      <th></th>\n",
              "      <th></th>\n",
              "      <th></th>\n",
              "      <th></th>\n",
              "      <th></th>\n",
              "      <th></th>\n",
              "      <th></th>\n",
              "      <th></th>\n",
              "      <th></th>\n",
              "      <th></th>\n",
              "      <th></th>\n",
              "      <th></th>\n",
              "      <th></th>\n",
              "      <th></th>\n",
              "      <th></th>\n",
              "      <th></th>\n",
              "      <th></th>\n",
              "      <th></th>\n",
              "      <th></th>\n",
              "      <th></th>\n",
              "      <th></th>\n",
              "      <th></th>\n",
              "      <th></th>\n",
              "      <th></th>\n",
              "      <th></th>\n",
              "      <th></th>\n",
              "      <th></th>\n",
              "      <th></th>\n",
              "      <th></th>\n",
              "      <th></th>\n",
              "      <th></th>\n",
              "      <th></th>\n",
              "      <th></th>\n",
              "      <th></th>\n",
              "      <th></th>\n",
              "      <th></th>\n",
              "      <th></th>\n",
              "      <th></th>\n",
              "      <th></th>\n",
              "      <th></th>\n",
              "      <th></th>\n",
              "      <th></th>\n",
              "      <th></th>\n",
              "      <th></th>\n",
              "      <th></th>\n",
              "      <th></th>\n",
              "      <th></th>\n",
              "    </tr>\n",
              "  </thead>\n",
              "  <tbody>\n",
              "    <tr>\n",
              "      <th>5d60098a653a331687083238</th>\n",
              "      <td>1.0</td>\n",
              "      <td>1.0</td>\n",
              "      <td>0.0</td>\n",
              "      <td>0.0</td>\n",
              "      <td>0.0</td>\n",
              "      <td>0.0</td>\n",
              "      <td>0.0</td>\n",
              "      <td>0.0</td>\n",
              "      <td>0.0</td>\n",
              "      <td>0.0</td>\n",
              "      <td>0.0</td>\n",
              "      <td>0.0</td>\n",
              "      <td>0.0</td>\n",
              "      <td>0.0</td>\n",
              "      <td>0.0</td>\n",
              "      <td>0.0</td>\n",
              "      <td>0.0</td>\n",
              "      <td>0.0</td>\n",
              "      <td>0.0</td>\n",
              "      <td>0.0</td>\n",
              "      <td>1.0</td>\n",
              "      <td>1.0</td>\n",
              "      <td>0.0</td>\n",
              "      <td>0.0</td>\n",
              "      <td>1.0</td>\n",
              "      <td>0.0</td>\n",
              "      <td>0.0</td>\n",
              "      <td>0.0</td>\n",
              "      <td>0.0</td>\n",
              "      <td>0.0</td>\n",
              "      <td>0.0</td>\n",
              "      <td>0.0</td>\n",
              "      <td>1.0</td>\n",
              "      <td>0.0</td>\n",
              "      <td>0.0</td>\n",
              "      <td>0.0</td>\n",
              "      <td>1.0</td>\n",
              "      <td>1.0</td>\n",
              "      <td>0.0</td>\n",
              "      <td>0.0</td>\n",
              "      <td>...</td>\n",
              "      <td>1.0</td>\n",
              "      <td>1.0</td>\n",
              "      <td>1.0</td>\n",
              "      <td>1.0</td>\n",
              "      <td>1.0</td>\n",
              "      <td>0.0</td>\n",
              "      <td>1.0</td>\n",
              "      <td>0.0</td>\n",
              "      <td>1.0</td>\n",
              "      <td>1.0</td>\n",
              "      <td>0.0</td>\n",
              "      <td>0.0</td>\n",
              "      <td>0.0</td>\n",
              "      <td>1.0</td>\n",
              "      <td>0.0</td>\n",
              "      <td>0.0</td>\n",
              "      <td>0.0</td>\n",
              "      <td>1.0</td>\n",
              "      <td>0.0</td>\n",
              "      <td>0.0</td>\n",
              "      <td>0.0</td>\n",
              "      <td>0.0</td>\n",
              "      <td>0.0</td>\n",
              "      <td>0.0</td>\n",
              "      <td>0.0</td>\n",
              "      <td>0.0</td>\n",
              "      <td>0.0</td>\n",
              "      <td>0.0</td>\n",
              "      <td>0.0</td>\n",
              "      <td>0.0</td>\n",
              "      <td>0.0</td>\n",
              "      <td>0.0</td>\n",
              "      <td>0.0</td>\n",
              "      <td>0.0</td>\n",
              "      <td>0.0</td>\n",
              "      <td>0.0</td>\n",
              "      <td>1.0</td>\n",
              "      <td>0.0</td>\n",
              "      <td>0.0</td>\n",
              "      <td>0.0</td>\n",
              "    </tr>\n",
              "    <tr>\n",
              "      <th>5d610ae1653a331687083239</th>\n",
              "      <td>0.0</td>\n",
              "      <td>0.0</td>\n",
              "      <td>0.0</td>\n",
              "      <td>0.0</td>\n",
              "      <td>1.0</td>\n",
              "      <td>0.0</td>\n",
              "      <td>0.0</td>\n",
              "      <td>0.0</td>\n",
              "      <td>0.0</td>\n",
              "      <td>0.0</td>\n",
              "      <td>0.0</td>\n",
              "      <td>0.0</td>\n",
              "      <td>0.0</td>\n",
              "      <td>0.0</td>\n",
              "      <td>0.0</td>\n",
              "      <td>0.0</td>\n",
              "      <td>0.0</td>\n",
              "      <td>0.0</td>\n",
              "      <td>1.0</td>\n",
              "      <td>0.0</td>\n",
              "      <td>0.0</td>\n",
              "      <td>0.0</td>\n",
              "      <td>0.0</td>\n",
              "      <td>0.0</td>\n",
              "      <td>0.0</td>\n",
              "      <td>0.0</td>\n",
              "      <td>0.0</td>\n",
              "      <td>0.0</td>\n",
              "      <td>0.0</td>\n",
              "      <td>0.0</td>\n",
              "      <td>0.0</td>\n",
              "      <td>0.0</td>\n",
              "      <td>0.0</td>\n",
              "      <td>0.0</td>\n",
              "      <td>0.0</td>\n",
              "      <td>0.0</td>\n",
              "      <td>0.0</td>\n",
              "      <td>1.0</td>\n",
              "      <td>1.0</td>\n",
              "      <td>1.0</td>\n",
              "      <td>...</td>\n",
              "      <td>0.0</td>\n",
              "      <td>0.0</td>\n",
              "      <td>0.0</td>\n",
              "      <td>0.0</td>\n",
              "      <td>0.0</td>\n",
              "      <td>0.0</td>\n",
              "      <td>0.0</td>\n",
              "      <td>0.0</td>\n",
              "      <td>0.0</td>\n",
              "      <td>0.0</td>\n",
              "      <td>1.0</td>\n",
              "      <td>0.0</td>\n",
              "      <td>0.0</td>\n",
              "      <td>1.0</td>\n",
              "      <td>0.0</td>\n",
              "      <td>0.0</td>\n",
              "      <td>0.0</td>\n",
              "      <td>0.0</td>\n",
              "      <td>0.0</td>\n",
              "      <td>0.0</td>\n",
              "      <td>0.0</td>\n",
              "      <td>0.0</td>\n",
              "      <td>0.0</td>\n",
              "      <td>0.0</td>\n",
              "      <td>0.0</td>\n",
              "      <td>0.0</td>\n",
              "      <td>0.0</td>\n",
              "      <td>0.0</td>\n",
              "      <td>0.0</td>\n",
              "      <td>0.0</td>\n",
              "      <td>0.0</td>\n",
              "      <td>0.0</td>\n",
              "      <td>0.0</td>\n",
              "      <td>0.0</td>\n",
              "      <td>0.0</td>\n",
              "      <td>0.0</td>\n",
              "      <td>0.0</td>\n",
              "      <td>0.0</td>\n",
              "      <td>0.0</td>\n",
              "      <td>0.0</td>\n",
              "    </tr>\n",
              "    <tr>\n",
              "      <th>5d618359fc5fcf3bdd9a0910</th>\n",
              "      <td>0.0</td>\n",
              "      <td>0.0</td>\n",
              "      <td>0.0</td>\n",
              "      <td>0.0</td>\n",
              "      <td>0.0</td>\n",
              "      <td>1.0</td>\n",
              "      <td>0.0</td>\n",
              "      <td>0.0</td>\n",
              "      <td>0.0</td>\n",
              "      <td>0.0</td>\n",
              "      <td>0.0</td>\n",
              "      <td>0.0</td>\n",
              "      <td>0.0</td>\n",
              "      <td>0.0</td>\n",
              "      <td>0.0</td>\n",
              "      <td>0.0</td>\n",
              "      <td>0.0</td>\n",
              "      <td>0.0</td>\n",
              "      <td>0.0</td>\n",
              "      <td>0.0</td>\n",
              "      <td>0.0</td>\n",
              "      <td>0.0</td>\n",
              "      <td>0.0</td>\n",
              "      <td>0.0</td>\n",
              "      <td>0.0</td>\n",
              "      <td>0.0</td>\n",
              "      <td>0.0</td>\n",
              "      <td>0.0</td>\n",
              "      <td>0.0</td>\n",
              "      <td>0.0</td>\n",
              "      <td>0.0</td>\n",
              "      <td>0.0</td>\n",
              "      <td>0.0</td>\n",
              "      <td>0.0</td>\n",
              "      <td>0.0</td>\n",
              "      <td>0.0</td>\n",
              "      <td>0.0</td>\n",
              "      <td>0.0</td>\n",
              "      <td>0.0</td>\n",
              "      <td>0.0</td>\n",
              "      <td>...</td>\n",
              "      <td>0.0</td>\n",
              "      <td>1.0</td>\n",
              "      <td>0.0</td>\n",
              "      <td>1.0</td>\n",
              "      <td>0.0</td>\n",
              "      <td>0.0</td>\n",
              "      <td>0.0</td>\n",
              "      <td>0.0</td>\n",
              "      <td>1.0</td>\n",
              "      <td>0.0</td>\n",
              "      <td>1.0</td>\n",
              "      <td>1.0</td>\n",
              "      <td>1.0</td>\n",
              "      <td>0.0</td>\n",
              "      <td>1.0</td>\n",
              "      <td>1.0</td>\n",
              "      <td>0.0</td>\n",
              "      <td>1.0</td>\n",
              "      <td>0.0</td>\n",
              "      <td>0.0</td>\n",
              "      <td>0.0</td>\n",
              "      <td>0.0</td>\n",
              "      <td>0.0</td>\n",
              "      <td>0.0</td>\n",
              "      <td>0.0</td>\n",
              "      <td>0.0</td>\n",
              "      <td>0.0</td>\n",
              "      <td>0.0</td>\n",
              "      <td>0.0</td>\n",
              "      <td>0.0</td>\n",
              "      <td>0.0</td>\n",
              "      <td>0.0</td>\n",
              "      <td>0.0</td>\n",
              "      <td>0.0</td>\n",
              "      <td>0.0</td>\n",
              "      <td>0.0</td>\n",
              "      <td>0.0</td>\n",
              "      <td>0.0</td>\n",
              "      <td>0.0</td>\n",
              "      <td>0.0</td>\n",
              "    </tr>\n",
              "    <tr>\n",
              "      <th>5d6d2bb87fa40e1417a49315</th>\n",
              "      <td>0.0</td>\n",
              "      <td>0.0</td>\n",
              "      <td>0.0</td>\n",
              "      <td>0.0</td>\n",
              "      <td>0.0</td>\n",
              "      <td>0.0</td>\n",
              "      <td>0.0</td>\n",
              "      <td>0.0</td>\n",
              "      <td>0.0</td>\n",
              "      <td>0.0</td>\n",
              "      <td>0.0</td>\n",
              "      <td>0.0</td>\n",
              "      <td>0.0</td>\n",
              "      <td>0.0</td>\n",
              "      <td>0.0</td>\n",
              "      <td>0.0</td>\n",
              "      <td>0.0</td>\n",
              "      <td>0.0</td>\n",
              "      <td>0.0</td>\n",
              "      <td>0.0</td>\n",
              "      <td>0.0</td>\n",
              "      <td>0.0</td>\n",
              "      <td>0.0</td>\n",
              "      <td>0.0</td>\n",
              "      <td>0.0</td>\n",
              "      <td>0.0</td>\n",
              "      <td>0.0</td>\n",
              "      <td>0.0</td>\n",
              "      <td>0.0</td>\n",
              "      <td>0.0</td>\n",
              "      <td>0.0</td>\n",
              "      <td>0.0</td>\n",
              "      <td>0.0</td>\n",
              "      <td>0.0</td>\n",
              "      <td>0.0</td>\n",
              "      <td>0.0</td>\n",
              "      <td>0.0</td>\n",
              "      <td>0.0</td>\n",
              "      <td>0.0</td>\n",
              "      <td>0.0</td>\n",
              "      <td>...</td>\n",
              "      <td>0.0</td>\n",
              "      <td>0.0</td>\n",
              "      <td>0.0</td>\n",
              "      <td>0.0</td>\n",
              "      <td>0.0</td>\n",
              "      <td>0.0</td>\n",
              "      <td>0.0</td>\n",
              "      <td>0.0</td>\n",
              "      <td>0.0</td>\n",
              "      <td>0.0</td>\n",
              "      <td>0.0</td>\n",
              "      <td>0.0</td>\n",
              "      <td>0.0</td>\n",
              "      <td>0.0</td>\n",
              "      <td>0.0</td>\n",
              "      <td>0.0</td>\n",
              "      <td>0.0</td>\n",
              "      <td>0.0</td>\n",
              "      <td>0.0</td>\n",
              "      <td>0.0</td>\n",
              "      <td>0.0</td>\n",
              "      <td>0.0</td>\n",
              "      <td>0.0</td>\n",
              "      <td>0.0</td>\n",
              "      <td>0.0</td>\n",
              "      <td>0.0</td>\n",
              "      <td>0.0</td>\n",
              "      <td>0.0</td>\n",
              "      <td>0.0</td>\n",
              "      <td>0.0</td>\n",
              "      <td>0.0</td>\n",
              "      <td>0.0</td>\n",
              "      <td>0.0</td>\n",
              "      <td>0.0</td>\n",
              "      <td>0.0</td>\n",
              "      <td>0.0</td>\n",
              "      <td>0.0</td>\n",
              "      <td>0.0</td>\n",
              "      <td>0.0</td>\n",
              "      <td>0.0</td>\n",
              "    </tr>\n",
              "    <tr>\n",
              "      <th>5d7c994d5720533e15c3b1e9</th>\n",
              "      <td>0.0</td>\n",
              "      <td>0.0</td>\n",
              "      <td>0.0</td>\n",
              "      <td>1.0</td>\n",
              "      <td>0.0</td>\n",
              "      <td>0.0</td>\n",
              "      <td>0.0</td>\n",
              "      <td>0.0</td>\n",
              "      <td>0.0</td>\n",
              "      <td>0.0</td>\n",
              "      <td>0.0</td>\n",
              "      <td>0.0</td>\n",
              "      <td>0.0</td>\n",
              "      <td>0.0</td>\n",
              "      <td>0.0</td>\n",
              "      <td>0.0</td>\n",
              "      <td>0.0</td>\n",
              "      <td>0.0</td>\n",
              "      <td>0.0</td>\n",
              "      <td>0.0</td>\n",
              "      <td>0.0</td>\n",
              "      <td>0.0</td>\n",
              "      <td>0.0</td>\n",
              "      <td>0.0</td>\n",
              "      <td>0.0</td>\n",
              "      <td>0.0</td>\n",
              "      <td>0.0</td>\n",
              "      <td>0.0</td>\n",
              "      <td>0.0</td>\n",
              "      <td>0.0</td>\n",
              "      <td>0.0</td>\n",
              "      <td>0.0</td>\n",
              "      <td>0.0</td>\n",
              "      <td>0.0</td>\n",
              "      <td>0.0</td>\n",
              "      <td>0.0</td>\n",
              "      <td>0.0</td>\n",
              "      <td>0.0</td>\n",
              "      <td>0.0</td>\n",
              "      <td>0.0</td>\n",
              "      <td>...</td>\n",
              "      <td>1.0</td>\n",
              "      <td>0.0</td>\n",
              "      <td>1.0</td>\n",
              "      <td>0.0</td>\n",
              "      <td>1.0</td>\n",
              "      <td>1.0</td>\n",
              "      <td>0.0</td>\n",
              "      <td>0.0</td>\n",
              "      <td>0.0</td>\n",
              "      <td>1.0</td>\n",
              "      <td>1.0</td>\n",
              "      <td>0.0</td>\n",
              "      <td>0.0</td>\n",
              "      <td>1.0</td>\n",
              "      <td>0.0</td>\n",
              "      <td>0.0</td>\n",
              "      <td>0.0</td>\n",
              "      <td>1.0</td>\n",
              "      <td>0.0</td>\n",
              "      <td>0.0</td>\n",
              "      <td>0.0</td>\n",
              "      <td>0.0</td>\n",
              "      <td>0.0</td>\n",
              "      <td>0.0</td>\n",
              "      <td>0.0</td>\n",
              "      <td>0.0</td>\n",
              "      <td>0.0</td>\n",
              "      <td>0.0</td>\n",
              "      <td>0.0</td>\n",
              "      <td>1.0</td>\n",
              "      <td>0.0</td>\n",
              "      <td>0.0</td>\n",
              "      <td>0.0</td>\n",
              "      <td>0.0</td>\n",
              "      <td>0.0</td>\n",
              "      <td>0.0</td>\n",
              "      <td>0.0</td>\n",
              "      <td>0.0</td>\n",
              "      <td>0.0</td>\n",
              "      <td>0.0</td>\n",
              "    </tr>\n",
              "  </tbody>\n",
              "</table>\n",
              "<p>5 rows × 493 columns</p>\n",
              "</div>"
            ],
            "text/plain": [
              "post_id                   5d62abaa65218653a132c956  ...  5ed4cbadbd514d602c1531a6\n",
              "user_id                                             ...                          \n",
              "5d60098a653a331687083238                       1.0  ...                       0.0\n",
              "5d610ae1653a331687083239                       0.0  ...                       0.0\n",
              "5d618359fc5fcf3bdd9a0910                       0.0  ...                       0.0\n",
              "5d6d2bb87fa40e1417a49315                       0.0  ...                       0.0\n",
              "5d7c994d5720533e15c3b1e9                       0.0  ...                       0.0\n",
              "\n",
              "[5 rows x 493 columns]"
            ]
          },
          "metadata": {
            "tags": []
          },
          "execution_count": 42
        }
      ]
    },
    {
      "cell_type": "code",
      "metadata": {
        "id": "27mn63jO-cbn"
      },
      "source": [
        "import operator"
      ],
      "execution_count": null,
      "outputs": []
    },
    {
      "cell_type": "code",
      "metadata": {
        "id": "Qb_UoG2p-ceN"
      },
      "source": [
        "def similar_users(user_id, matrix, k=3):\n",
        "    \n",
        "    user = mat[mat.index == user_id]\n",
        "    \n",
        "    \n",
        "    other_users = mat[mat.index != user_id]\n",
        "    \n",
        "    \n",
        "    similarities = cosine_similarity(user,other_users)[0].tolist()\n",
        "    \n",
        "    \n",
        "    indices = other_users.index.tolist()\n",
        "    \n",
        "    \n",
        "    index_similarity = dict(zip(indices, similarities))\n",
        "    \n",
        "    \n",
        "    index_similarity_sorted = sorted(index_similarity.items(), key=operator.itemgetter(1))\n",
        "    index_similarity_sorted.reverse()\n",
        "    \n",
        "    \n",
        "    top_users_similarities = index_similarity_sorted[:k]\n",
        "    users = [u[0] for u in top_users_similarities]\n",
        "    \n",
        "    return users\n",
        "    \n"
      ],
      "execution_count": null,
      "outputs": []
    },
    {
      "cell_type": "code",
      "metadata": {
        "id": "151sRD_s-xcz"
      },
      "source": [
        "current_user = '5d60098a653a331687083238'\n",
        "\n",
        "similar_user_indices = similar_users(current_user, mat)"
      ],
      "execution_count": null,
      "outputs": []
    },
    {
      "cell_type": "code",
      "metadata": {
        "id": "Dtk24Qf--cg6"
      },
      "source": [
        "similar_post=[]\n",
        "for i in similar_user_indices:\n",
        "  for j in range(df3.shape[0]):\n",
        "    if(df3[\"user_id\"][j]==i):\n",
        "      similar_post.append(df3[\"title\"][j])"
      ],
      "execution_count": null,
      "outputs": []
    },
    {
      "cell_type": "code",
      "metadata": {
        "id": "FnvcTrLw-ckW"
      },
      "source": [
        "def recommend_item(user_index, similar_user_indices, matrix, items=5):\n",
        "    \n",
        "    \n",
        "    similar_users = matrix[matrix.index.isin(similar_user_indices)]\n",
        "    \n",
        "    similar_users = similar_users.mean(axis=0)\n",
        "    \n",
        "    similar_users_df = pd.DataFrame(similar_users, columns=['mean'])\n",
        "    \n",
        "    \n",
        "    \n",
        "    user_df = matrix[matrix.index == user_index]\n",
        "    \n",
        "    user_df_transposed = user_df.transpose()\n",
        "    \n",
        "    user_df_transposed.columns = ['rating']\n",
        "    \n",
        "    user_df_transposed = user_df_transposed[user_df_transposed['rating']==0]\n",
        "    \n",
        "    post_unseen = user_df_transposed.index.tolist()\n",
        "    \n",
        "    \n",
        "    similar_users_df_filtered = similar_users_df[similar_users_df.index.isin(post_unseen)]\n",
        "    \n",
        "    similar_users_df_ordered = similar_users_df.sort_values(by=['mean'], ascending=False)\n",
        "      \n",
        "    top_n_post = similar_users_df_ordered.head(items)\n",
        "    top_n_post_indices = top_n_post.index.tolist()\n",
        "    \n",
        "    post_information = df1[df1['_id'].isin(top_n_post_indices)]\n",
        "    \n",
        "    return post_information #items\n"
      ],
      "execution_count": null,
      "outputs": []
    },
    {
      "cell_type": "code",
      "metadata": {
        "id": "baHGJWdHACie"
      },
      "source": [
        "items=recommend_item('5d60098a653a331687083238', similar_user_indices, mat)"
      ],
      "execution_count": null,
      "outputs": []
    },
    {
      "cell_type": "code",
      "metadata": {
        "id": "Mqf5yO_XAK9U",
        "colab": {
          "base_uri": "https://localhost:8080/",
          "height": 194
        },
        "outputId": "e2355342-e4ae-4b6d-91d5-2c9648871cd6"
      },
      "source": [
        "items"
      ],
      "execution_count": null,
      "outputs": [
        {
          "output_type": "execute_result",
          "data": {
            "text/html": [
              "<div>\n",
              "<style scoped>\n",
              "    .dataframe tbody tr th:only-of-type {\n",
              "        vertical-align: middle;\n",
              "    }\n",
              "\n",
              "    .dataframe tbody tr th {\n",
              "        vertical-align: top;\n",
              "    }\n",
              "\n",
              "    .dataframe thead th {\n",
              "        text-align: right;\n",
              "    }\n",
              "</style>\n",
              "<table border=\"1\" class=\"dataframe\">\n",
              "  <thead>\n",
              "    <tr style=\"text-align: right;\">\n",
              "      <th></th>\n",
              "      <th>_id</th>\n",
              "      <th>title</th>\n",
              "      <th>category</th>\n",
              "      <th>post_type</th>\n",
              "      <th>post_no</th>\n",
              "    </tr>\n",
              "  </thead>\n",
              "  <tbody>\n",
              "    <tr>\n",
              "      <th>425</th>\n",
              "      <td>5ec3c09274f7660d73aa1229</td>\n",
              "      <td>Dakrai Artwork.</td>\n",
              "      <td>Pen and ink</td>\n",
              "      <td>artwork</td>\n",
              "      <td>425</td>\n",
              "    </tr>\n",
              "    <tr>\n",
              "      <th>429</th>\n",
              "      <td>5ec57914f2781131cc7e51c8</td>\n",
              "      <td>The Power of Indian Audience.</td>\n",
              "      <td>Art</td>\n",
              "      <td>skill</td>\n",
              "      <td>429</td>\n",
              "    </tr>\n",
              "    <tr>\n",
              "      <th>430</th>\n",
              "      <td>5ec57acaf2781131cc7e51d5</td>\n",
              "      <td>Ruins.</td>\n",
              "      <td>Painting</td>\n",
              "      <td>artwork</td>\n",
              "      <td>430</td>\n",
              "    </tr>\n",
              "    <tr>\n",
              "      <th>448</th>\n",
              "      <td>5ecc1d4eeaff6b0c3a58a565</td>\n",
              "      <td>Faith in yourself</td>\n",
              "      <td>Photography</td>\n",
              "      <td>artwork</td>\n",
              "      <td>448</td>\n",
              "    </tr>\n",
              "    <tr>\n",
              "      <th>463</th>\n",
              "      <td>5ed0e31a76027d35905cc302</td>\n",
              "      <td>Designing Cmos circuit from Boolean expression...</td>\n",
              "      <td></td>\n",
              "      <td>project</td>\n",
              "      <td>463</td>\n",
              "    </tr>\n",
              "  </tbody>\n",
              "</table>\n",
              "</div>"
            ],
            "text/plain": [
              "                          _id  ... post_no\n",
              "425  5ec3c09274f7660d73aa1229  ...     425\n",
              "429  5ec57914f2781131cc7e51c8  ...     429\n",
              "430  5ec57acaf2781131cc7e51d5  ...     430\n",
              "448  5ecc1d4eeaff6b0c3a58a565  ...     448\n",
              "463  5ed0e31a76027d35905cc302  ...     463\n",
              "\n",
              "[5 rows x 5 columns]"
            ]
          },
          "metadata": {
            "tags": []
          },
          "execution_count": 50
        }
      ]
    },
    {
      "cell_type": "markdown",
      "metadata": {
        "id": "drntx3ozJvX4"
      },
      "source": [
        "#Result"
      ]
    },
    {
      "cell_type": "code",
      "metadata": {
        "colab": {
          "base_uri": "https://localhost:8080/"
        },
        "id": "c-i-9-UGFxKx",
        "outputId": "cb85bbb4-05cc-4d77-abd9-f64f4291a20b"
      },
      "source": [
        "print('5 recomended post are:\\n')\n",
        "for element in items['title']:\n",
        "    print(element)"
      ],
      "execution_count": null,
      "outputs": [
        {
          "output_type": "stream",
          "text": [
            "5 recomended post are:\n",
            "\n",
            "Dakrai Artwork.\n",
            "The Power of Indian Audience.\n",
            "Ruins.\n",
            "Faith in yourself\n",
            "Designing Cmos circuit from Boolean expressions (Microwind)\n"
          ],
          "name": "stdout"
        }
      ]
    },
    {
      "cell_type": "code",
      "metadata": {
        "id": "08ju3C_2GTBQ"
      },
      "source": [
        ""
      ],
      "execution_count": null,
      "outputs": []
    }
  ]
}